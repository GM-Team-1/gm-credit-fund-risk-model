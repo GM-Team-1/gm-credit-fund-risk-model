{
 "cells": [
  {
   "cell_type": "markdown",
   "id": "ed28675a",
   "metadata": {},
   "source": [
    "# Feature Engineering"
   ]
  },
  {
   "cell_type": "code",
   "execution_count": 206,
   "id": "9ae38ccd",
   "metadata": {},
   "outputs": [],
   "source": [
    "import pandas as pd\n",
    "import numpy as np\n",
    "\n",
    "df = pd.read_csv('./companies_cleaned_targets.csv')"
   ]
  },
  {
   "cell_type": "code",
   "execution_count": 207,
   "id": "c90bc783",
   "metadata": {},
   "outputs": [
    {
     "data": {
      "text/plain": [
       "(196530, 41)"
      ]
     },
     "execution_count": 207,
     "metadata": {},
     "output_type": "execute_result"
    }
   ],
   "source": [
    "df.shape"
   ]
  },
  {
   "cell_type": "code",
   "execution_count": 208,
   "id": "73b3ec41",
   "metadata": {},
   "outputs": [
    {
     "data": {
      "text/plain": [
       "Index(['id', 'name', 'normalized_name', 'category_code', 'status', 'closed_at',\n",
       "       'domain', 'homepage_url', 'twitter_username', 'logo_url', 'logo_width',\n",
       "       'logo_height', 'description', 'overview', 'tag_list', 'country_code',\n",
       "       'state_code', 'city', 'region', 'investment_rounds',\n",
       "       'invested_companies', 'first_funding_at', 'last_funding_at',\n",
       "       'funding_rounds', 'funding_total_usd', 'first_milestone_at',\n",
       "       'last_milestone_at', 'milestones', 'relationships', 'created_by',\n",
       "       'created_at', 'updated_at', 'lat', 'lng', 'founded_year',\n",
       "       'company_age_years', 'has_funding', 'failure_risk', 'risk_tier',\n",
       "       'risk_tier_label', 'age_group'],\n",
       "      dtype='object')"
      ]
     },
     "execution_count": 208,
     "metadata": {},
     "output_type": "execute_result"
    }
   ],
   "source": [
    "df.columns"
   ]
  },
  {
   "cell_type": "code",
   "execution_count": 209,
   "id": "d12bebcd",
   "metadata": {},
   "outputs": [],
   "source": [
    "df['funding_velocity'] = df['funding_total_usd'] / df['company_age_years']"
   ]
  },
  {
   "cell_type": "code",
   "execution_count": 210,
   "id": "a0616d2b",
   "metadata": {},
   "outputs": [],
   "source": [
    "# funding_total_usd / avg_funding_in_category\n",
    "total_avg_funding = df['funding_total_usd'].mean()\n",
    "df['funding_vs_avg'] = df['funding_total_usd'] / total_avg_funding\n",
    "\n",
    "category_avg_funding = df.groupby('category_code')['funding_total_usd'].transform('mean')\n",
    "df['funding_vs_industry_avg'] = df['funding_total_usd'] / np.where(\n",
    "    df['category_code'].isna(),\n",
    "    total_avg_funding,\n",
    "    category_avg_funding\n",
    ")"
   ]
  },
  {
   "cell_type": "code",
   "execution_count": 211,
   "id": "93b655e5",
   "metadata": {},
   "outputs": [],
   "source": [
    "# bucket by founding year\n",
    "def categorize_founding_year(year):\n",
    "    if year <= 1990:\n",
    "        return \"Pre-1990\"\n",
    "    elif year <= 2000:\n",
    "        return \"1991-2000\"\n",
    "    elif year <= 2008:\n",
    "        return \"2001-2008\"\n",
    "    else:\n",
    "        return \"2009-2014\"\n",
    "\n",
    "df[\"founding_era\"] = df[\"founded_year\"].apply(categorize_founding_year)\n",
    "\n"
   ]
  },
  {
   "cell_type": "code",
   "execution_count": 212,
   "id": "ea1b005e",
   "metadata": {},
   "outputs": [],
   "source": [
    "# estimate funding stage by total amount of funding and company status\n",
    "def funding_stage(row):\n",
    "    f = row['funding_total_usd']\n",
    "    s = row['status']\n",
    "    \n",
    "    if s == 'closed':\n",
    "        return 'Closed'\n",
    "    elif s == 'acquired':\n",
    "        return 'Exit (Acquired)'\n",
    "    elif s == 'ipo':\n",
    "        return 'Exit (IPO)'\n",
    "    \n",
    "    if f < 1e6:\n",
    "        return 'Pre-seed'\n",
    "    elif f < 10e6:\n",
    "        return 'Seed'\n",
    "    elif f < 15e6:\n",
    "        return 'Early'\n",
    "    elif f < 100e6:\n",
    "        return 'Growth'\n",
    "    else:\n",
    "        return 'Late'\n",
    "    \n",
    "df['funding_stage'] = df.apply(funding_stage, axis=1)\n"
   ]
  },
  {
   "cell_type": "code",
   "execution_count": 213,
   "id": "1cd2c264",
   "metadata": {},
   "outputs": [],
   "source": [
    "# industry growth index\n",
    "\n",
    "industry_stats = (\n",
    "    df.groupby(['category_code', 'founded_year'])\n",
    "      .agg(\n",
    "          num_startups=('id', 'count'),\n",
    "          total_funding=('funding_total_usd', 'sum')\n",
    "      )\n",
    "      .reset_index()\n",
    ")\n",
    "\n",
    "industry_stats['num_startups_norm'] = industry_stats.groupby('category_code')['num_startups'].transform(\n",
    "    lambda x: (x - x.min()) / (x.max() - x.min())\n",
    ")\n",
    "industry_stats['total_funding_norm'] = industry_stats.groupby('category_code')['total_funding'].transform(\n",
    "    lambda x: (x - x.min()) / (x.max() - x.min())\n",
    ")\n",
    "\n",
    "industry_stats['industry_growth_index'] = (\n",
    "    0.5 * industry_stats['num_startups_norm'] +\n",
    "    0.5 * industry_stats['total_funding_norm']\n",
    ")\n",
    "\n",
    "df = df.merge(\n",
    "    industry_stats[['category_code', 'founded_year', 'industry_growth_index']],\n",
    "    on=['category_code', 'founded_year'],\n",
    "    how='left'\n",
    ")\n"
   ]
  },
  {
   "cell_type": "code",
   "execution_count": 214,
   "id": "bc555599",
   "metadata": {},
   "outputs": [],
   "source": [
    "# industry growth rate\n",
    "industry_stats['industry_growth_rate'] = industry_stats.groupby('category_code')['industry_growth_index'].pct_change()\n",
    "\n",
    "df = df.merge(\n",
    "    industry_stats[['category_code', 'founded_year', 'industry_growth_rate']],\n",
    "    on=['category_code', 'founded_year'],\n",
    "    how='left'\n",
    ")"
   ]
  },
  {
   "cell_type": "code",
   "execution_count": 215,
   "id": "c580245e",
   "metadata": {},
   "outputs": [],
   "source": [
    "# Calculate risk by country/region\n",
    "country_risk = df.groupby('country_code')['failure_risk'].agg(['mean', 'std', 'count']).reset_index()\n",
    "country_risk.columns = ['country_code', 'country_risk_mean', 'country_risk_std', 'country_count']\n",
    "country_risk['country_risk_confidence'] = country_risk['country_count'] / country_risk['country_count'].max()\n",
    "country_risk_mean = country_risk['country_risk_mean'].mean()\n",
    "\n",
    "df = df.merge(country_risk[['country_code', 'country_risk_mean', 'country_risk_confidence']], \n",
    "              on='country_code', how='left')\n",
    "\n",
    "# Fill missing values with global average\n",
    "global_risk_mean = df['failure_risk'].mean()\n",
    "if 'country_risk_mean' not in df.columns:\n",
    "    df['country_risk_mean'] = global_risk_mean\n",
    "else:\n",
    "    df['country_risk_mean'] = df['country_risk_mean'].fillna(global_risk_mean)\n",
    "\n",
    "if 'country_risk_confidence' not in df.columns:\n",
    "    df['country_risk_confidence'] = 0.1\n",
    "else:\n",
    "    df['country_risk_confidence'] = df['country_risk_confidence'].fillna(0.1)\n"
   ]
  },
  {
   "cell_type": "code",
   "execution_count": 216,
   "id": "e4cf7bf0",
   "metadata": {},
   "outputs": [],
   "source": [
    "# Calculate risk by industry\n",
    "industry_risk = df.groupby('category_code')['failure_risk'].agg(['mean', 'std', 'count']).reset_index()\n",
    "industry_risk.columns = ['category_code', 'industry_risk_mean', 'industry_risk_std', 'industry_count']\n",
    "industry_risk['industry_risk_confidence'] = industry_risk['industry_count'] / industry_risk['industry_count'].max()\n",
    "\n",
    "df = df.merge(industry_risk[['category_code', 'industry_risk_mean', 'industry_risk_confidence']], \n",
    "              on='category_code', how='left')\n",
    "\n",
    "# Fill missing values\n",
    "df['industry_risk_mean'] = df['industry_risk_mean'].fillna(global_risk_mean)\n",
    "df['industry_risk_confidence'] = df['industry_risk_confidence'].fillna(0.1)"
   ]
  },
  {
   "cell_type": "code",
   "execution_count": 217,
   "id": "e84e2fe3",
   "metadata": {},
   "outputs": [],
   "source": [
    "# Calculate risk by funding stage\n",
    "stage_risk = df.groupby('funding_stage')['failure_risk'].agg(['mean', 'count']).reset_index()\n",
    "stage_risk.columns = ['funding_stage', 'stage_risk_mean', 'stage_count']\n",
    "\n",
    "df = df.merge(stage_risk[['funding_stage', 'stage_risk_mean']], on='funding_stage', how='left')\n",
    "df['stage_risk_mean'] = df['stage_risk_mean'].fillna(global_risk_mean)"
   ]
  },
  {
   "cell_type": "code",
   "execution_count": 218,
   "id": "34ec1f08",
   "metadata": {},
   "outputs": [],
   "source": [
    "# Age × Funding interactions\n",
    "df['age_funding_ratio'] = df['company_age_years'] * df['funding_vs_avg']\n",
    "df['age_funding_velocity'] = df['company_age_years'] * df['funding_velocity']"
   ]
  },
  {
   "cell_type": "code",
   "execution_count": 219,
   "id": "cffda33f",
   "metadata": {},
   "outputs": [],
   "source": [
    "# Geographic × Industry interactions\n",
    "df['geo_industry_risk'] = df['country_risk_mean'] * df['industry_risk_mean']"
   ]
  },
  {
   "cell_type": "code",
   "execution_count": 220,
   "id": "9e265ea1",
   "metadata": {},
   "outputs": [],
   "source": [
    "# Funding × Industry interactions\n",
    "df['funding_industry_fit'] = df['funding_vs_industry_avg'] * df['industry_growth_index']"
   ]
  },
  {
   "cell_type": "code",
   "execution_count": 221,
   "id": "831f4732",
   "metadata": {},
   "outputs": [],
   "source": [
    "# Age × Industry maturity\n",
    "df['age_industry_maturity'] = df['company_age_years'] * df['industry_growth_rate']"
   ]
  },
  {
   "cell_type": "code",
   "execution_count": 222,
   "id": "6334c29e",
   "metadata": {},
   "outputs": [],
   "source": [
    "# Experience-based risk score\n",
    "df['experience_risk_score'] = (\n",
    "    0.5 * (df['company_age_years'] / df['company_age_years'].max()) +  # Normalized age\n",
    "    0.3 * df['country_risk_confidence'] +  # Geographic experience\n",
    "    0.2 * df['industry_risk_confidence']   # Industry experience\n",
    ")"
   ]
  },
  {
   "cell_type": "code",
   "execution_count": 223,
   "id": "40836992",
   "metadata": {},
   "outputs": [],
   "source": [
    "# Years since founding (for survival analysis perspective)\n",
    "current_year = 2025\n",
    "df['years_since_founding'] = current_year - df['founded_year']"
   ]
  },
  {
   "cell_type": "code",
   "execution_count": 224,
   "id": "aa2480ef",
   "metadata": {},
   "outputs": [],
   "source": [
    "# Funding efficiency relative to company age\n",
    "df['funding_efficiency'] = df['funding_total_usd'] / (df['company_age_years'] + 1)  # +1 to avoid division by zero"
   ]
  },
  {
   "cell_type": "code",
   "execution_count": 225,
   "id": "826e2982",
   "metadata": {},
   "outputs": [],
   "source": [
    "# Funding momentum (how much above/below expected for age)\n",
    "age_funding_median = df.groupby('company_age_years')['funding_total_usd'].transform('median')\n",
    "df['funding_momentum'] = df['funding_total_usd'] / (age_funding_median + 1)"
   ]
  },
  {
   "cell_type": "code",
   "execution_count": 226,
   "id": "18ea283c",
   "metadata": {},
   "outputs": [],
   "source": [
    "# Funding relative to founding era\n",
    "era_funding_median = df.groupby('founding_era')['funding_total_usd'].transform('median')\n",
    "df['era_adjusted_funding'] = df['funding_total_usd'] / (era_funding_median + 1)"
   ]
  },
  {
   "cell_type": "code",
   "execution_count": 227,
   "id": "35e062cd",
   "metadata": {},
   "outputs": [],
   "source": [
    "# Competitive landscape intensity\n",
    "industry_competition = df.groupby(['category_code', 'founded_year']).size().reset_index(name='industry_competition')\n",
    "df = df.merge(industry_competition, on=['category_code', 'founded_year'], how='left')\n",
    "df['industry_competition'] = df['industry_competition'].fillna(df['industry_competition'].median())"
   ]
  },
  {
   "cell_type": "code",
   "execution_count": 228,
   "id": "e3a804c7",
   "metadata": {},
   "outputs": [],
   "source": [
    "# Geographic market saturation\n",
    "geo_saturation = df.groupby(['country_code', 'founded_year']).size().reset_index(name='geo_market_saturation')\n",
    "df = df.merge(geo_saturation, on=['country_code', 'founded_year'], how='left')\n",
    "df['geo_market_saturation'] = df['geo_market_saturation'].fillna(df['geo_market_saturation'].median())"
   ]
  },
  {
   "cell_type": "code",
   "execution_count": 229,
   "id": "892d46b2",
   "metadata": {},
   "outputs": [],
   "source": [
    "# Risk deviation from peers\n",
    "df['risk_vs_country_peers'] = df['failure_risk'] - df['country_risk_mean']\n",
    "df['risk_vs_industry_peers'] = df['failure_risk'] - df['industry_risk_mean']\n",
    "df['risk_vs_stage_peers'] = df['failure_risk'] - df['stage_risk_mean']"
   ]
  },
  {
   "cell_type": "code",
   "execution_count": 230,
   "id": "3a979acc",
   "metadata": {},
   "outputs": [],
   "source": [
    "# Funding deviation from expectations\n",
    "df['funding_vs_age_expectation'] = df['funding_total_usd'] - age_funding_median\n",
    "df['funding_vs_era_expectation'] = df['funding_total_usd'] - era_funding_median"
   ]
  },
  {
   "cell_type": "code",
   "execution_count": 231,
   "id": "35a859a2",
   "metadata": {},
   "outputs": [],
   "source": [
    "# Composite peer comparison score\n",
    "df['peer_performance_score'] = (\n",
    "    0.4 * (-df['risk_vs_industry_peers']) +  # Lower risk vs peers = better\n",
    "    0.3 * df['funding_vs_industry_avg'] +   # Higher funding vs industry = better\n",
    "    0.3 * (-df['risk_vs_country_peers'])    # Lower risk vs country = better\n",
    ")"
   ]
  },
  {
   "cell_type": "code",
   "execution_count": 232,
   "id": "13eabc90",
   "metadata": {},
   "outputs": [],
   "source": [
    "# Investment activity level\n",
    "df['investment_activity_score'] = (\n",
    "    0.6 * (df['investment_rounds'] / (df['investment_rounds'].max() + 1)) +\n",
    "    0.4 * (df['invested_companies'] / (df['invested_companies'].max() + 1))\n",
    ")\n",
    "\n",
    "# Investment to funding ratio (investment activity vs seeking funding)\n",
    "df['investment_to_funding_ratio'] = df['investment_rounds'] / (df['funding_rounds'] + 1)\n",
    "\n",
    "# Network effect proxy - convert relationships to numeric first\n",
    "df['relationships_count'] = pd.to_numeric(df['relationships'], errors='coerce').fillna(0)\n",
    "df['network_connectivity'] = df['investment_rounds'] + df['invested_companies'] + df['relationships_count']"
   ]
  },
  {
   "cell_type": "code",
   "execution_count": 233,
   "id": "5f6598fc",
   "metadata": {},
   "outputs": [],
   "source": [
    "# Milestones per year of existence\n",
    "df['milestones_per_year'] = df['milestones'] / (df['company_age_years'] + 1)\n",
    "\n",
    "# Companies with high milestone activity\n",
    "df['is_milestone_active'] = (df['milestones'] >= df['milestones'].quantile(0.75)).astype(int)\n",
    "\n",
    "# Achievement score (combination of milestones and funding success)\n",
    "df['achievement_score'] = (\n",
    "    0.4 * (df['milestones'] / (df['milestones'].max() + 1)) +\n",
    "    0.3 * (df['funding_rounds'] / (df['funding_rounds'].max() + 1))\n",
    ")"
   ]
  },
  {
   "cell_type": "code",
   "execution_count": 234,
   "id": "b918acd1",
   "metadata": {},
   "outputs": [
    {
     "name": "stdout",
     "output_type": "stream",
     "text": [
      "  - Companies with domains: 196,530\n",
      "  - Companies with Twitter: 196,530\n"
     ]
    }
   ],
   "source": [
    "# Basic digital presence indicators\n",
    "df['has_domain'] = (df['domain'] != 'None').astype(int)\n",
    "df['has_twitter'] = (df['twitter_username'] != 'None').astype(int)\n",
    "df['has_logo'] = (df['logo_url'].notna()).astype(int)\n",
    "\n",
    "# Digital presence score\n",
    "df['digital_presence_score'] = (\n",
    "    0.4 * df['has_domain'] +\n",
    "    0.3 * df['has_twitter'] +\n",
    "    0.3 * df['has_logo']\n",
    ")\n",
    "\n",
    "# Extract domain insights\n",
    "def extract_domain_features(row):\n",
    "    domain = row['domain']\n",
    "    if domain == 'None' or pd.isna(domain):\n",
    "        return 'none', 0, 0\n",
    "    \n",
    "    # Domain type\n",
    "    if any(ext in domain.lower() for ext in ['.gov', '.edu', '.org']):\n",
    "        domain_type = 'institutional'\n",
    "    elif any(ext in domain.lower() for ext in ['.com', '.net', '.biz']):\n",
    "        domain_type = 'commercial'\n",
    "    else:\n",
    "        domain_type = 'other'\n",
    "    \n",
    "    # Domain complexity\n",
    "    domain_length = len(domain)\n",
    "    subdomain_count = domain.count('.') - 1  # Subtract 1 for the main domain\n",
    "    \n",
    "    return domain_type, domain_length, subdomain_count\n",
    "\n",
    "# Apply domain feature extraction\n",
    "domain_features = df.apply(extract_domain_features, axis=1, result_type='expand')\n",
    "df['domain_type'] = domain_features[0]\n",
    "df['domain_length'] = domain_features[1]\n",
    "df['subdomain_count'] = domain_features[2]\n",
    "\n",
    "print(f\"  - Companies with domains: {df['has_domain'].sum():,}\")\n",
    "print(f\"  - Companies with Twitter: {df['has_twitter'].sum():,}\")"
   ]
  },
  {
   "cell_type": "code",
   "execution_count": 235,
   "id": "343d9d64",
   "metadata": {},
   "outputs": [],
   "source": [
    "# Content availability\n",
    "df['has_description'] = (df['description'] != 'Unknown').astype(int)\n",
    "df['has_overview'] = (df['overview'] != 'Unknown').astype(int)\n",
    "df['has_tags'] = (df['tag_list'] != 'Unknown').astype(int)\n",
    "\n",
    "# Content richness score\n",
    "df['content_richness'] = df['has_description'] + df['has_overview'] + df['has_tags']\n",
    "\n",
    "# Description length analysis\n",
    "def safe_len(text):\n",
    "    if text == 'Unknown' or pd.isna(text):\n",
    "        return 0\n",
    "    return len(str(text))\n",
    "\n",
    "df['description_length'] = df['description'].apply(safe_len)\n",
    "df['overview_length'] = df['overview'].apply(safe_len)\n",
    "\n",
    "# Tag analysis\n",
    "def analyze_tags(tag_string):\n",
    "    if tag_string == 'Unknown' or pd.isna(tag_string):\n",
    "        return 0, 0\n",
    "    \n",
    "    tags = str(tag_string).split(',')\n",
    "    tag_count = len(tags)\n",
    "    avg_tag_length = sum(len(tag.strip()) for tag in tags) / tag_count if tag_count > 0 else 0\n",
    "    \n",
    "    return tag_count, avg_tag_length\n",
    "\n",
    "tag_features = df['tag_list'].apply(analyze_tags)\n",
    "df['tag_count'] = [x[0] for x in tag_features]\n",
    "df['avg_tag_length'] = [x[1] for x in tag_features]\n",
    "\n",
    "# Text sophistication score\n",
    "df['text_sophistication'] = (\n",
    "    0.3 * (df['description_length'] / (df['description_length'].max() + 1)) +\n",
    "    0.3 * (df['overview_length'] / (df['overview_length'].max() + 1)) +\n",
    "    0.4 * (df['tag_count'] / (df['tag_count'].max() + 1))\n",
    ")"
   ]
  },
  {
   "cell_type": "code",
   "execution_count": 236,
   "id": "c3279a6c",
   "metadata": {},
   "outputs": [],
   "source": [
    "# Convert date columns to datetime\n",
    "date_cols = ['first_funding_at', 'last_funding_at', 'first_milestone_at', 'last_milestone_at', 'created_at', 'updated_at', 'closed_at']\n",
    "for col in date_cols:\n",
    "    if col in df.columns:\n",
    "        df[col] = pd.to_datetime(df[col], errors='coerce')\n",
    "\n",
    "# Funding timeline features\n",
    "df['funding_duration_days'] = (df['last_funding_at'] - df['first_funding_at']).dt.days\n",
    "df['funding_duration_days'] = df['funding_duration_days'].fillna(0)\n",
    "\n",
    "# Time to first funding (from founding) - check if founded_at exists, otherwise use founded_year\n",
    "if 'founded_at' in df.columns:\n",
    "    df['founded_at'] = pd.to_datetime(df['founded_at'], errors='coerce')\n",
    "    df['time_to_first_funding_days'] = (df['first_funding_at'] - df['founded_at']).dt.days\n",
    "else:\n",
    "    # Create founded_at from founded_year\n",
    "    df['founded_at_estimated'] = pd.to_datetime(df['founded_year'], format='%Y', errors='coerce')\n",
    "    df['time_to_first_funding_days'] = (df['first_funding_at'] - df['founded_at_estimated']).dt.days\n",
    "\n",
    "df['time_to_first_funding_years'] = df['time_to_first_funding_days'] / 365.25\n",
    "\n",
    "# Milestone timeline features\n",
    "df['milestone_duration_days'] = (df['last_milestone_at'] - df['first_milestone_at']).dt.days\n",
    "df['milestone_duration_days'] = df['milestone_duration_days'].fillna(0)\n",
    "\n",
    "# Activity recency (days since last update)\n",
    "current_date = pd.Timestamp.now()\n",
    "df['days_since_last_update'] = (current_date - df['updated_at']).dt.days\n",
    "df['days_since_last_funding'] = (current_date - df['last_funding_at']).dt.days\n",
    "df['days_since_last_milestone'] = (current_date - df['last_milestone_at']).dt.days\n",
    "\n",
    "# Fill NaN values for companies without funding/milestones\n",
    "df['days_since_last_funding'] = df['days_since_last_funding'].fillna(df['days_since_last_update'])\n",
    "df['days_since_last_milestone'] = df['days_since_last_milestone'].fillna(df['days_since_last_update'])\n",
    "\n",
    "# Activity frequency (avoid division by zero)\n",
    "df['funding_frequency'] = df['funding_rounds'] / (df['funding_duration_days'] / 365.25 + 1)\n",
    "df['milestone_frequency'] = df['milestones'] / (df['milestone_duration_days'] / 365.25 + 1)\n",
    "\n",
    "# Recently active flags\n",
    "df['recently_funded'] = (df['days_since_last_funding'] <= 365).astype(int)  # Funded in last year\n",
    "df['recently_milestone'] = (df['days_since_last_milestone'] <= 365).astype(int)  # Milestone in last year\n",
    "df['recently_updated'] = (df['days_since_last_update'] <= 90).astype(int)  # Updated in last 3 months"
   ]
  },
  {
   "cell_type": "code",
   "execution_count": 237,
   "id": "b98c49e0",
   "metadata": {},
   "outputs": [],
   "source": [
    "# Overall business maturity score\n",
    "df['business_maturity_score'] = (\n",
    "    0.2 * df['digital_presence_score'] +\n",
    "    0.2 * df['achievement_score'] +\n",
    "    0.2 * (df['recently_funded'] + df['recently_milestone'] + df['recently_updated']) / 3 +\n",
    "    0.2 * df['text_sophistication'] +\n",
    "    0.2 * df['investment_activity_score']\n",
    ")\n",
    "\n",
    "# Ecosystem engagement (how connected/active the company is)\n",
    "df['ecosystem_engagement'] = (\n",
    "    0.3 * (df['network_connectivity'] / (df['network_connectivity'].max() + 1)) +\n",
    "    0.2 * df['has_twitter'] +\n",
    "    0.3 * (df['content_richness'] / 3)\n",
    ")\n",
    "\n",
    "# Strategic positioning (investor appeal factors)\n",
    "df['strategic_positioning'] = (\n",
    "    0.25 * df['funding_vs_industry_avg'] +\n",
    "    0.25 * df['digital_presence_score'] +\n",
    "    0.25 * df['achievement_score'] +\n",
    "    0.25 * df['ecosystem_engagement']\n",
    ")\n",
    "\n",
    "# Activity momentum (recent activity across multiple dimensions)\n",
    "df['activity_momentum'] = (\n",
    "    0.4 * df['recently_funded'] +\n",
    "    0.3 * df['recently_milestone'] +\n",
    "    0.3 * df['recently_updated']\n",
    ")\n",
    "\n",
    "# Operational sophistication (professional setup indicators)\n",
    "df['operational_sophistication'] = (\n",
    "    0.3 * df['has_domain'] +\n",
    "    0.2 * df['has_twitter'] +\n",
    "    0.3 * (df['content_richness'] / 3)\n",
    ")"
   ]
  },
  {
   "cell_type": "code",
   "execution_count": 238,
   "id": "7ce4f670",
   "metadata": {},
   "outputs": [],
   "source": [
    "df.to_csv('./companies_featured_targets.csv', index=False)"
   ]
  }
 ],
 "metadata": {
  "kernelspec": {
   "display_name": ".venv",
   "language": "python",
   "name": "python3"
  },
  "language_info": {
   "codemirror_mode": {
    "name": "ipython",
    "version": 3
   },
   "file_extension": ".py",
   "mimetype": "text/x-python",
   "name": "python",
   "nbconvert_exporter": "python",
   "pygments_lexer": "ipython3",
   "version": "3.13.7"
  }
 },
 "nbformat": 4,
 "nbformat_minor": 5
}
