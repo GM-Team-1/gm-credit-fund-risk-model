{
 "cells": [
  {
   "cell_type": "code",
   "execution_count": 1,
   "id": "9ae38ccd",
   "metadata": {},
   "outputs": [],
   "source": [
    "import pandas as pd\n",
    "import numpy as np\n",
    "\n",
    "# cleaned data?\n",
    "df = pd.read_csv('./companies_optimized_targets.csv')"
   ]
  },
  {
   "cell_type": "code",
   "execution_count": 2,
   "id": "73b3ec41",
   "metadata": {},
   "outputs": [
    {
     "data": {
      "text/plain": [
       "Index(['id', 'name', 'status', 'category_code', 'country_code', 'state_code',\n",
       "       'region', 'founded_at', 'founded_year', 'company_age_years',\n",
       "       'age_group', 'funding_total_usd', 'has_funding', 'failure_risk',\n",
       "       'risk_tier', 'risk_tier_label'],\n",
       "      dtype='object')"
      ]
     },
     "execution_count": 2,
     "metadata": {},
     "output_type": "execute_result"
    }
   ],
   "source": [
    "df.columns"
   ]
  },
  {
   "cell_type": "code",
   "execution_count": 3,
   "id": "d12bebcd",
   "metadata": {},
   "outputs": [],
   "source": [
    "df['funding_velocity'] = df['funding_total_usd'] / df['company_age_years']"
   ]
  },
  {
   "cell_type": "code",
   "execution_count": 4,
   "id": "a0616d2b",
   "metadata": {},
   "outputs": [],
   "source": [
    "# funding_total_usd / avg_funding_in_category\n",
    "total_avg_funding = df['funding_total_usd'].mean()\n",
    "df['funding_vs_avg'] = df['funding_total_usd'] / total_avg_funding\n",
    "\n",
    "category_avg_funding = df.groupby('category_code')['funding_total_usd'].transform('mean')\n",
    "df['funding_vs_industry_avg'] = df['funding_total_usd'] / np.where(\n",
    "    df['category_code'].isna(),\n",
    "    total_avg_funding,\n",
    "    category_avg_funding\n",
    ")"
   ]
  },
  {
   "cell_type": "code",
   "execution_count": 5,
   "id": "93b655e5",
   "metadata": {},
   "outputs": [],
   "source": [
    "# bucket by founding year\n",
    "def categorize_founding_year(year):\n",
    "    if year <= 1990:\n",
    "        return \"Pre-1990\"\n",
    "    elif year <= 2000:\n",
    "        return \"1991-2000\"\n",
    "    elif year <= 2008:\n",
    "        return \"2001-2008\"\n",
    "    else:\n",
    "        return \"2009-2014\"\n",
    "\n",
    "df[\"founding_era\"] = df[\"founded_year\"].apply(categorize_founding_year)\n",
    "\n"
   ]
  },
  {
   "cell_type": "code",
   "execution_count": 6,
   "id": "ea1b005e",
   "metadata": {},
   "outputs": [],
   "source": [
    "# estimate funding stage by total amount of funding and company status\n",
    "def funding_stage(row):\n",
    "    f = row['funding_total_usd']\n",
    "    s = row['status']\n",
    "    \n",
    "    if s == 'closed':\n",
    "        return 'Closed'\n",
    "    elif s == 'acquired':\n",
    "        return 'Exit (Acquired)'\n",
    "    elif s == 'ipo':\n",
    "        return 'Exit (IPO)'\n",
    "    \n",
    "    if f < 1e6:\n",
    "        return 'Pre-seed'\n",
    "    elif f < 10e6:\n",
    "        return 'Seed'\n",
    "    elif f < 15e6:\n",
    "        return 'Early'\n",
    "    elif f < 100e6:\n",
    "        return 'Growth'\n",
    "    else:\n",
    "        return 'Late'\n",
    "    \n",
    "df['funding_stage'] = df.apply(funding_stage, axis=1)\n"
   ]
  },
  {
   "cell_type": "code",
   "execution_count": 7,
   "id": "1cd2c264",
   "metadata": {},
   "outputs": [],
   "source": [
    "# industry growth index\n",
    "\n",
    "industry_stats = (\n",
    "    df.groupby(['category_code', 'founded_year'])\n",
    "      .agg(\n",
    "          num_startups=('id', 'count'),\n",
    "          total_funding=('funding_total_usd', 'sum')\n",
    "      )\n",
    "      .reset_index()\n",
    ")\n",
    "\n",
    "industry_stats['num_startups_norm'] = industry_stats.groupby('category_code')['num_startups'].transform(\n",
    "    lambda x: (x - x.min()) / (x.max() - x.min())\n",
    ")\n",
    "industry_stats['total_funding_norm'] = industry_stats.groupby('category_code')['total_funding'].transform(\n",
    "    lambda x: (x - x.min()) / (x.max() - x.min())\n",
    ")\n",
    "\n",
    "industry_stats['industry_growth_index'] = (\n",
    "    0.5 * industry_stats['num_startups_norm'] +\n",
    "    0.5 * industry_stats['total_funding_norm']\n",
    ")\n",
    "\n",
    "df = df.merge(\n",
    "    industry_stats[['category_code', 'founded_year', 'industry_growth_index']],\n",
    "    on=['category_code', 'founded_year'],\n",
    "    how='left'\n",
    ")\n"
   ]
  },
  {
   "cell_type": "code",
   "execution_count": 8,
   "id": "bc555599",
   "metadata": {},
   "outputs": [],
   "source": [
    "industry_stats['industry_growth_rate'] = industry_stats.groupby('category_code')['industry_growth_index'].pct_change()\n",
    "\n",
    "df = df.merge(\n",
    "    industry_stats[['category_code', 'founded_year', 'industry_growth_rate']],\n",
    "    on=['category_code', 'founded_year'],\n",
    "    how='left'\n",
    ")"
   ]
  },
  {
   "cell_type": "code",
   "execution_count": 9,
   "id": "261b1c88",
   "metadata": {},
   "outputs": [],
   "source": [
    "df.to_csv('./companies_featured_targets.csv', index=False)"
   ]
  }
 ],
 "metadata": {
  "kernelspec": {
   "display_name": ".venv",
   "language": "python",
   "name": "python3"
  },
  "language_info": {
   "codemirror_mode": {
    "name": "ipython",
    "version": 3
   },
   "file_extension": ".py",
   "mimetype": "text/x-python",
   "name": "python",
   "nbconvert_exporter": "python",
   "pygments_lexer": "ipython3",
   "version": "3.13.7"
  }
 },
 "nbformat": 4,
 "nbformat_minor": 5
}
