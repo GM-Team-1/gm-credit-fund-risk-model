{
 "cells": [
  {
   "cell_type": "markdown",
   "id": "ed28675a",
   "metadata": {},
   "source": [
    "# Feature Engineering\n",
    "\n",
    "**Features Added**\n",
    " - funding_velocity\n",
    " - funding_vs_avg\n",
    " - funding_vs_industry_avg\n",
    " - founding_era\n",
    " - funding_stage\n",
    " - industry_growth_index\n",
    " - industry_growth_rate"
   ]
  },
  {
   "cell_type": "code",
   "execution_count": 29,
   "id": "9ae38ccd",
   "metadata": {},
   "outputs": [],
   "source": [
    "import pandas as pd\n",
    "import numpy as np\n",
    "\n",
    "df = pd.read_csv('./companies_optimized_targets.csv')"
   ]
  },
  {
   "cell_type": "code",
   "execution_count": 30,
   "id": "73b3ec41",
   "metadata": {},
   "outputs": [
    {
     "data": {
      "text/plain": [
       "Index(['id', 'name', 'status', 'category_code', 'country_code', 'state_code',\n",
       "       'region', 'founded_at', 'founded_year', 'company_age_years',\n",
       "       'age_group', 'funding_total_usd', 'has_funding', 'failure_risk',\n",
       "       'risk_tier', 'risk_tier_label'],\n",
       "      dtype='object')"
      ]
     },
     "execution_count": 30,
     "metadata": {},
     "output_type": "execute_result"
    }
   ],
   "source": [
    "df.columns"
   ]
  },
  {
   "cell_type": "code",
   "execution_count": 31,
   "id": "d12bebcd",
   "metadata": {},
   "outputs": [],
   "source": [
    "df['funding_velocity'] = df['funding_total_usd'] / df['company_age_years']"
   ]
  },
  {
   "cell_type": "code",
   "execution_count": 32,
   "id": "a0616d2b",
   "metadata": {},
   "outputs": [],
   "source": [
    "# funding_total_usd / avg_funding_in_category\n",
    "total_avg_funding = df['funding_total_usd'].mean()\n",
    "df['funding_vs_avg'] = df['funding_total_usd'] / total_avg_funding\n",
    "\n",
    "category_avg_funding = df.groupby('category_code')['funding_total_usd'].transform('mean')\n",
    "df['funding_vs_industry_avg'] = df['funding_total_usd'] / np.where(\n",
    "    df['category_code'].isna(),\n",
    "    total_avg_funding,\n",
    "    category_avg_funding\n",
    ")"
   ]
  },
  {
   "cell_type": "code",
   "execution_count": 33,
   "id": "93b655e5",
   "metadata": {},
   "outputs": [],
   "source": [
    "# bucket by founding year\n",
    "def categorize_founding_year(year):\n",
    "    if year <= 1990:\n",
    "        return \"Pre-1990\"\n",
    "    elif year <= 2000:\n",
    "        return \"1991-2000\"\n",
    "    elif year <= 2008:\n",
    "        return \"2001-2008\"\n",
    "    else:\n",
    "        return \"2009-2014\"\n",
    "\n",
    "df[\"founding_era\"] = df[\"founded_year\"].apply(categorize_founding_year)\n",
    "\n"
   ]
  },
  {
   "cell_type": "code",
   "execution_count": 34,
   "id": "ea1b005e",
   "metadata": {},
   "outputs": [],
   "source": [
    "# estimate funding stage by total amount of funding and company status\n",
    "def funding_stage(row):\n",
    "    f = row['funding_total_usd']\n",
    "    s = row['status']\n",
    "    \n",
    "    if s == 'closed':\n",
    "        return 'Closed'\n",
    "    elif s == 'acquired':\n",
    "        return 'Exit (Acquired)'\n",
    "    elif s == 'ipo':\n",
    "        return 'Exit (IPO)'\n",
    "    \n",
    "    if f < 1e6:\n",
    "        return 'Pre-seed'\n",
    "    elif f < 10e6:\n",
    "        return 'Seed'\n",
    "    elif f < 15e6:\n",
    "        return 'Early'\n",
    "    elif f < 100e6:\n",
    "        return 'Growth'\n",
    "    else:\n",
    "        return 'Late'\n",
    "    \n",
    "df['funding_stage'] = df.apply(funding_stage, axis=1)\n"
   ]
  },
  {
   "cell_type": "code",
   "execution_count": 35,
   "id": "1cd2c264",
   "metadata": {},
   "outputs": [],
   "source": [
    "# industry growth index\n",
    "\n",
    "industry_stats = (\n",
    "    df.groupby(['category_code', 'founded_year'])\n",
    "      .agg(\n",
    "          num_startups=('id', 'count'),\n",
    "          total_funding=('funding_total_usd', 'sum')\n",
    "      )\n",
    "      .reset_index()\n",
    ")\n",
    "\n",
    "industry_stats['num_startups_norm'] = industry_stats.groupby('category_code')['num_startups'].transform(\n",
    "    lambda x: (x - x.min()) / (x.max() - x.min())\n",
    ")\n",
    "industry_stats['total_funding_norm'] = industry_stats.groupby('category_code')['total_funding'].transform(\n",
    "    lambda x: (x - x.min()) / (x.max() - x.min())\n",
    ")\n",
    "\n",
    "industry_stats['industry_growth_index'] = (\n",
    "    0.5 * industry_stats['num_startups_norm'] +\n",
    "    0.5 * industry_stats['total_funding_norm']\n",
    ")\n",
    "\n",
    "df = df.merge(\n",
    "    industry_stats[['category_code', 'founded_year', 'industry_growth_index']],\n",
    "    on=['category_code', 'founded_year'],\n",
    "    how='left'\n",
    ")\n"
   ]
  },
  {
   "cell_type": "code",
   "execution_count": 36,
   "id": "bc555599",
   "metadata": {},
   "outputs": [],
   "source": [
    "# industry growth rate\n",
    "industry_stats['industry_growth_rate'] = industry_stats.groupby('category_code')['industry_growth_index'].pct_change()\n",
    "\n",
    "df = df.merge(\n",
    "    industry_stats[['category_code', 'founded_year', 'industry_growth_rate']],\n",
    "    on=['category_code', 'founded_year'],\n",
    "    how='left'\n",
    ")"
   ]
  },
  {
   "cell_type": "code",
   "execution_count": 37,
   "id": "c580245e",
   "metadata": {},
   "outputs": [],
   "source": [
    "# Calculate risk by country/region\n",
    "country_risk = df.groupby('country_code')['failure_risk'].agg(['mean', 'std', 'count']).reset_index()\n",
    "country_risk.columns = ['country_code', 'country_risk_mean', 'country_risk_std', 'country_count']\n",
    "country_risk['country_risk_confidence'] = country_risk['country_count'] / country_risk['country_count'].max()\n",
    "country_risk_mean = country_risk['country_risk_mean'].mean()\n",
    "\n",
    "df = df.merge(country_risk[['country_code', 'country_risk_mean', 'country_risk_confidence']], \n",
    "              on='country_code', how='left')\n",
    "\n",
    "# Fill missing values with global average\n",
    "global_risk_mean = df['failure_risk'].mean()\n",
    "if 'country_risk_mean' not in df.columns:\n",
    "    df['country_risk_mean'] = global_risk_mean\n",
    "else:\n",
    "    df['country_risk_mean'] = df['country_risk_mean'].fillna(global_risk_mean)\n",
    "\n",
    "if 'country_risk_confidence' not in df.columns:\n",
    "    df['country_risk_confidence'] = 0.1\n",
    "else:\n",
    "    df['country_risk_confidence'] = df['country_risk_confidence'].fillna(0.1)\n"
   ]
  },
  {
   "cell_type": "code",
   "execution_count": 38,
   "id": "e4cf7bf0",
   "metadata": {},
   "outputs": [],
   "source": [
    "# Calculate risk by industry\n",
    "industry_risk = df.groupby('category_code')['failure_risk'].agg(['mean', 'std', 'count']).reset_index()\n",
    "industry_risk.columns = ['category_code', 'industry_risk_mean', 'industry_risk_std', 'industry_count']\n",
    "industry_risk['industry_risk_confidence'] = industry_risk['industry_count'] / industry_risk['industry_count'].max()\n",
    "\n",
    "df = df.merge(industry_risk[['category_code', 'industry_risk_mean', 'industry_risk_confidence']], \n",
    "              on='category_code', how='left')\n",
    "\n",
    "# Fill missing values\n",
    "df['industry_risk_mean'] = df['industry_risk_mean'].fillna(global_risk_mean)\n",
    "df['industry_risk_confidence'] = df['industry_risk_confidence'].fillna(0.1)"
   ]
  },
  {
   "cell_type": "code",
   "execution_count": 39,
   "id": "e84e2fe3",
   "metadata": {},
   "outputs": [],
   "source": [
    "# Calculate risk by funding stage\n",
    "stage_risk = df.groupby('funding_stage')['failure_risk'].agg(['mean', 'count']).reset_index()\n",
    "stage_risk.columns = ['funding_stage', 'stage_risk_mean', 'stage_count']\n",
    "\n",
    "df = df.merge(stage_risk[['funding_stage', 'stage_risk_mean']], on='funding_stage', how='left')\n",
    "df['stage_risk_mean'] = df['stage_risk_mean'].fillna(global_risk_mean)"
   ]
  },
  {
   "cell_type": "code",
   "execution_count": 40,
   "id": "34ec1f08",
   "metadata": {},
   "outputs": [],
   "source": [
    "# Age × Funding interactions\n",
    "df['age_funding_ratio'] = df['company_age_years'] * df['funding_vs_avg']\n",
    "df['age_funding_velocity'] = df['company_age_years'] * df['funding_velocity']"
   ]
  },
  {
   "cell_type": "code",
   "execution_count": 41,
   "id": "cffda33f",
   "metadata": {},
   "outputs": [],
   "source": [
    "# Geographic × Industry interactions\n",
    "df['geo_industry_risk'] = df['country_risk_mean'] * df['industry_risk_mean']"
   ]
  },
  {
   "cell_type": "code",
   "execution_count": 42,
   "id": "9e265ea1",
   "metadata": {},
   "outputs": [],
   "source": [
    "# Funding × Industry interactions\n",
    "df['funding_industry_fit'] = df['funding_vs_industry_avg'] * df['industry_growth_index']"
   ]
  },
  {
   "cell_type": "code",
   "execution_count": 43,
   "id": "831f4732",
   "metadata": {},
   "outputs": [],
   "source": [
    "# Age × Industry maturity\n",
    "df['age_industry_maturity'] = df['company_age_years'] * df['industry_growth_rate']"
   ]
  },
  {
   "cell_type": "code",
   "execution_count": 44,
   "id": "6334c29e",
   "metadata": {},
   "outputs": [],
   "source": [
    "# Experience-based risk score\n",
    "df['experience_risk_score'] = (\n",
    "    0.5 * (df['company_age_years'] / df['company_age_years'].max()) +  # Normalized age\n",
    "    0.3 * df['country_risk_confidence'] +  # Geographic experience\n",
    "    0.2 * df['industry_risk_confidence']   # Industry experience\n",
    ")"
   ]
  },
  {
   "cell_type": "code",
   "execution_count": 45,
   "id": "40836992",
   "metadata": {},
   "outputs": [],
   "source": [
    "# Years since founding (for survival analysis perspective)\n",
    "current_year = 2025\n",
    "df['years_since_founding'] = current_year - df['founded_year']"
   ]
  },
  {
   "cell_type": "code",
   "execution_count": 46,
   "id": "aa2480ef",
   "metadata": {},
   "outputs": [],
   "source": [
    "# Funding efficiency relative to company age\n",
    "df['funding_efficiency'] = df['funding_total_usd'] / (df['company_age_years'] + 1)  # +1 to avoid division by zero"
   ]
  },
  {
   "cell_type": "code",
   "execution_count": 47,
   "id": "826e2982",
   "metadata": {},
   "outputs": [],
   "source": [
    "# Funding momentum (how much above/below expected for age)\n",
    "age_funding_median = df.groupby('company_age_years')['funding_total_usd'].transform('median')\n",
    "df['funding_momentum'] = df['funding_total_usd'] / (age_funding_median + 1)"
   ]
  },
  {
   "cell_type": "code",
   "execution_count": 48,
   "id": "18ea283c",
   "metadata": {},
   "outputs": [],
   "source": [
    "# Funding relative to founding era\n",
    "era_funding_median = df.groupby('founding_era')['funding_total_usd'].transform('median')\n",
    "df['era_adjusted_funding'] = df['funding_total_usd'] / (era_funding_median + 1)"
   ]
  },
  {
   "cell_type": "code",
   "execution_count": 49,
   "id": "35e062cd",
   "metadata": {},
   "outputs": [],
   "source": [
    "# Competitive landscape intensity\n",
    "industry_competition = df.groupby(['category_code', 'founded_year']).size().reset_index(name='industry_competition')\n",
    "df = df.merge(industry_competition, on=['category_code', 'founded_year'], how='left')\n",
    "df['industry_competition'] = df['industry_competition'].fillna(df['industry_competition'].median())"
   ]
  },
  {
   "cell_type": "code",
   "execution_count": 50,
   "id": "e3a804c7",
   "metadata": {},
   "outputs": [],
   "source": [
    "# Geographic market saturation\n",
    "geo_saturation = df.groupby(['country_code', 'founded_year']).size().reset_index(name='geo_market_saturation')\n",
    "df = df.merge(geo_saturation, on=['country_code', 'founded_year'], how='left')\n",
    "df['geo_market_saturation'] = df['geo_market_saturation'].fillna(df['geo_market_saturation'].median())"
   ]
  },
  {
   "cell_type": "code",
   "execution_count": 51,
   "id": "892d46b2",
   "metadata": {},
   "outputs": [],
   "source": [
    "# Risk deviation from peers\n",
    "df['risk_vs_country_peers'] = df['failure_risk'] - df['country_risk_mean']\n",
    "df['risk_vs_industry_peers'] = df['failure_risk'] - df['industry_risk_mean']\n",
    "df['risk_vs_stage_peers'] = df['failure_risk'] - df['stage_risk_mean']"
   ]
  },
  {
   "cell_type": "code",
   "execution_count": 52,
   "id": "3a979acc",
   "metadata": {},
   "outputs": [],
   "source": [
    "# Funding deviation from expectations\n",
    "df['funding_vs_age_expectation'] = df['funding_total_usd'] - age_funding_median\n",
    "df['funding_vs_era_expectation'] = df['funding_total_usd'] - era_funding_median"
   ]
  },
  {
   "cell_type": "code",
   "execution_count": 53,
   "id": "35a859a2",
   "metadata": {},
   "outputs": [],
   "source": [
    "# Composite peer comparison score\n",
    "df['peer_performance_score'] = (\n",
    "    0.4 * (-df['risk_vs_industry_peers']) +  # Lower risk vs peers = better\n",
    "    0.3 * df['funding_vs_industry_avg'] +   # Higher funding vs industry = better\n",
    "    0.3 * (-df['risk_vs_country_peers'])    # Lower risk vs country = better\n",
    ")"
   ]
  },
  {
   "cell_type": "code",
   "execution_count": 54,
   "id": "261b1c88",
   "metadata": {},
   "outputs": [],
   "source": [
    "df.to_csv('./companies_featured_targets.csv', index=False)"
   ]
  }
 ],
 "metadata": {
  "kernelspec": {
   "display_name": ".venv",
   "language": "python",
   "name": "python3"
  },
  "language_info": {
   "codemirror_mode": {
    "name": "ipython",
    "version": 3
   },
   "file_extension": ".py",
   "mimetype": "text/x-python",
   "name": "python",
   "nbconvert_exporter": "python",
   "pygments_lexer": "ipython3",
   "version": "3.13.7"
  }
 },
 "nbformat": 4,
 "nbformat_minor": 5
}
