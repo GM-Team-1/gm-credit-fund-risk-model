{
 "cells": [
  {
   "cell_type": "code",
   "execution_count": null,
   "id": "9ae38ccd",
   "metadata": {},
   "outputs": [],
   "source": [
    "import pandas as pd\n",
    "import numpy as np\n",
    "\n",
    "# cleaned data\n",
    "df = pd.read_csv('../processed_data/companies_cleaned_data.csv')"
   ]
  },
  {
   "cell_type": "code",
   "execution_count": 5,
   "id": "73b3ec41",
   "metadata": {},
   "outputs": [
    {
     "data": {
      "text/plain": [
       "Index(['id', 'Unnamed: 0.1', 'entity_type', 'entity_id', 'name',\n",
       "       'normalized_name', 'permalink', 'category_code', 'status', 'domain',\n",
       "       'homepage_url', 'logo_url', 'logo_width', 'logo_height', 'overview',\n",
       "       'region', 'relationships', 'created_by', 'created_at', 'updated_at',\n",
       "       'founded_year', 'company_age_years', 'has_funding', 'failure_risk',\n",
       "       'risk_tier', 'risk_tier_label', 'age_group'],\n",
       "      dtype='object')"
      ]
     },
     "execution_count": 5,
     "metadata": {},
     "output_type": "execute_result"
    }
   ],
   "source": [
    "df.columns"
   ]
  },
  {
   "cell_type": "code",
   "execution_count": 6,
   "id": "d12bebcd",
   "metadata": {},
   "outputs": [
    {
     "ename": "KeyError",
     "evalue": "'funding_total_usd'",
     "output_type": "error",
     "traceback": [
      "\u001b[31m---------------------------------------------------------------------------\u001b[39m",
      "\u001b[31mKeyError\u001b[39m                                  Traceback (most recent call last)",
      "\u001b[36mFile \u001b[39m\u001b[32m~/Documents/GitHub/gm-credit-fund-risk-model/.venv/lib/python3.13/site-packages/pandas/core/indexes/base.py:3812\u001b[39m, in \u001b[36mIndex.get_loc\u001b[39m\u001b[34m(self, key)\u001b[39m\n\u001b[32m   3811\u001b[39m \u001b[38;5;28;01mtry\u001b[39;00m:\n\u001b[32m-> \u001b[39m\u001b[32m3812\u001b[39m     \u001b[38;5;28;01mreturn\u001b[39;00m \u001b[38;5;28;43mself\u001b[39;49m\u001b[43m.\u001b[49m\u001b[43m_engine\u001b[49m\u001b[43m.\u001b[49m\u001b[43mget_loc\u001b[49m\u001b[43m(\u001b[49m\u001b[43mcasted_key\u001b[49m\u001b[43m)\u001b[49m\n\u001b[32m   3813\u001b[39m \u001b[38;5;28;01mexcept\u001b[39;00m \u001b[38;5;167;01mKeyError\u001b[39;00m \u001b[38;5;28;01mas\u001b[39;00m err:\n",
      "\u001b[36mFile \u001b[39m\u001b[32mpandas/_libs/index.pyx:167\u001b[39m, in \u001b[36mpandas._libs.index.IndexEngine.get_loc\u001b[39m\u001b[34m()\u001b[39m\n",
      "\u001b[36mFile \u001b[39m\u001b[32mpandas/_libs/index.pyx:196\u001b[39m, in \u001b[36mpandas._libs.index.IndexEngine.get_loc\u001b[39m\u001b[34m()\u001b[39m\n",
      "\u001b[36mFile \u001b[39m\u001b[32mpandas/_libs/hashtable_class_helper.pxi:7088\u001b[39m, in \u001b[36mpandas._libs.hashtable.PyObjectHashTable.get_item\u001b[39m\u001b[34m()\u001b[39m\n",
      "\u001b[36mFile \u001b[39m\u001b[32mpandas/_libs/hashtable_class_helper.pxi:7096\u001b[39m, in \u001b[36mpandas._libs.hashtable.PyObjectHashTable.get_item\u001b[39m\u001b[34m()\u001b[39m\n",
      "\u001b[31mKeyError\u001b[39m: 'funding_total_usd'",
      "\nThe above exception was the direct cause of the following exception:\n",
      "\u001b[31mKeyError\u001b[39m                                  Traceback (most recent call last)",
      "\u001b[36mCell\u001b[39m\u001b[36m \u001b[39m\u001b[32mIn[6]\u001b[39m\u001b[32m, line 1\u001b[39m\n\u001b[32m----> \u001b[39m\u001b[32m1\u001b[39m df[\u001b[33m'\u001b[39m\u001b[33mfunding_velocity\u001b[39m\u001b[33m'\u001b[39m] = \u001b[43mdf\u001b[49m\u001b[43m[\u001b[49m\u001b[33;43m'\u001b[39;49m\u001b[33;43mfunding_total_usd\u001b[39;49m\u001b[33;43m'\u001b[39;49m\u001b[43m]\u001b[49m / df[\u001b[33m'\u001b[39m\u001b[33mcompany_age_years\u001b[39m\u001b[33m'\u001b[39m]\n",
      "\u001b[36mFile \u001b[39m\u001b[32m~/Documents/GitHub/gm-credit-fund-risk-model/.venv/lib/python3.13/site-packages/pandas/core/frame.py:4113\u001b[39m, in \u001b[36mDataFrame.__getitem__\u001b[39m\u001b[34m(self, key)\u001b[39m\n\u001b[32m   4111\u001b[39m \u001b[38;5;28;01mif\u001b[39;00m \u001b[38;5;28mself\u001b[39m.columns.nlevels > \u001b[32m1\u001b[39m:\n\u001b[32m   4112\u001b[39m     \u001b[38;5;28;01mreturn\u001b[39;00m \u001b[38;5;28mself\u001b[39m._getitem_multilevel(key)\n\u001b[32m-> \u001b[39m\u001b[32m4113\u001b[39m indexer = \u001b[38;5;28;43mself\u001b[39;49m\u001b[43m.\u001b[49m\u001b[43mcolumns\u001b[49m\u001b[43m.\u001b[49m\u001b[43mget_loc\u001b[49m\u001b[43m(\u001b[49m\u001b[43mkey\u001b[49m\u001b[43m)\u001b[49m\n\u001b[32m   4114\u001b[39m \u001b[38;5;28;01mif\u001b[39;00m is_integer(indexer):\n\u001b[32m   4115\u001b[39m     indexer = [indexer]\n",
      "\u001b[36mFile \u001b[39m\u001b[32m~/Documents/GitHub/gm-credit-fund-risk-model/.venv/lib/python3.13/site-packages/pandas/core/indexes/base.py:3819\u001b[39m, in \u001b[36mIndex.get_loc\u001b[39m\u001b[34m(self, key)\u001b[39m\n\u001b[32m   3814\u001b[39m     \u001b[38;5;28;01mif\u001b[39;00m \u001b[38;5;28misinstance\u001b[39m(casted_key, \u001b[38;5;28mslice\u001b[39m) \u001b[38;5;129;01mor\u001b[39;00m (\n\u001b[32m   3815\u001b[39m         \u001b[38;5;28misinstance\u001b[39m(casted_key, abc.Iterable)\n\u001b[32m   3816\u001b[39m         \u001b[38;5;129;01mand\u001b[39;00m \u001b[38;5;28many\u001b[39m(\u001b[38;5;28misinstance\u001b[39m(x, \u001b[38;5;28mslice\u001b[39m) \u001b[38;5;28;01mfor\u001b[39;00m x \u001b[38;5;129;01min\u001b[39;00m casted_key)\n\u001b[32m   3817\u001b[39m     ):\n\u001b[32m   3818\u001b[39m         \u001b[38;5;28;01mraise\u001b[39;00m InvalidIndexError(key)\n\u001b[32m-> \u001b[39m\u001b[32m3819\u001b[39m     \u001b[38;5;28;01mraise\u001b[39;00m \u001b[38;5;167;01mKeyError\u001b[39;00m(key) \u001b[38;5;28;01mfrom\u001b[39;00m\u001b[38;5;250m \u001b[39m\u001b[34;01merr\u001b[39;00m\n\u001b[32m   3820\u001b[39m \u001b[38;5;28;01mexcept\u001b[39;00m \u001b[38;5;167;01mTypeError\u001b[39;00m:\n\u001b[32m   3821\u001b[39m     \u001b[38;5;66;03m# If we have a listlike key, _check_indexing_error will raise\u001b[39;00m\n\u001b[32m   3822\u001b[39m     \u001b[38;5;66;03m#  InvalidIndexError. Otherwise we fall through and re-raise\u001b[39;00m\n\u001b[32m   3823\u001b[39m     \u001b[38;5;66;03m#  the TypeError.\u001b[39;00m\n\u001b[32m   3824\u001b[39m     \u001b[38;5;28mself\u001b[39m._check_indexing_error(key)\n",
      "\u001b[31mKeyError\u001b[39m: 'funding_total_usd'"
     ]
    }
   ],
   "source": [
    "df['funding_velocity'] = df['funding_total_usd'] / df['company_age_years']"
   ]
  },
  {
   "cell_type": "code",
   "execution_count": null,
   "id": "a0616d2b",
   "metadata": {},
   "outputs": [],
   "source": [
    "# funding_total_usd / avg_funding_in_category\n",
    "total_avg_funding = df['funding_total_usd'].mean()\n",
    "df['funding_vs_avg'] = df['funding_total_usd'] / total_avg_funding\n",
    "\n",
    "category_avg_funding = df.groupby('category_code')['funding_total_usd'].transform('mean')\n",
    "df['funding_vs_industry_avg'] = df['funding_total_usd'] / np.where(\n",
    "    df['category_code'].isna(),\n",
    "    total_avg_funding,\n",
    "    category_avg_funding\n",
    ")"
   ]
  },
  {
   "cell_type": "code",
   "execution_count": null,
   "id": "93b655e5",
   "metadata": {},
   "outputs": [],
   "source": [
    "# bucket by founding year\n",
    "def categorize_founding_year(year):\n",
    "    if year <= 1990:\n",
    "        return \"Pre-1990\"\n",
    "    elif year <= 2000:\n",
    "        return \"1991-2000\"\n",
    "    elif year <= 2008:\n",
    "        return \"2001-2008\"\n",
    "    else:\n",
    "        return \"2009-2014\"\n",
    "\n",
    "df[\"founding_era\"] = df[\"founded_year\"].apply(categorize_founding_year)"
   ]
  },
  {
   "cell_type": "code",
   "execution_count": null,
   "id": "ea1b005e",
   "metadata": {},
   "outputs": [],
   "source": [
    "# estimate funding stage by total amount of funding and company status\n",
    "def funding_stage(row):\n",
    "    f = row['funding_total_usd']\n",
    "    s = row['status']\n",
    "    \n",
    "    if s == 'closed':\n",
    "        return 'Closed'\n",
    "    elif s == 'acquired':\n",
    "        return 'Exit (Acquired)'\n",
    "    elif s == 'ipo':\n",
    "        return 'Exit (IPO)'\n",
    "    \n",
    "    if f < 1e6:\n",
    "        return 'Pre-seed'\n",
    "    elif f < 10e6:\n",
    "        return 'Seed'\n",
    "    elif f < 15e6:\n",
    "        return 'Early'\n",
    "    elif f < 100e6:\n",
    "        return 'Growth'\n",
    "    else:\n",
    "        return 'Late'\n",
    "    \n",
    "df['funding_stage'] = df.apply(funding_stage, axis=1)\n"
   ]
  },
  {
   "cell_type": "code",
   "execution_count": null,
   "id": "1cd2c264",
   "metadata": {},
   "outputs": [],
   "source": [
    "# industry growth index\n",
    "\n",
    "industry_stats = (\n",
    "    df.groupby(['category_code', 'founded_year'])\n",
    "      .agg(\n",
    "          num_startups=('id', 'count'),\n",
    "          total_funding=('funding_total_usd', 'sum')\n",
    "      )\n",
    "      .reset_index()\n",
    ")\n",
    "\n",
    "industry_stats['num_startups_norm'] = industry_stats.groupby('category_code')['num_startups'].transform(\n",
    "    lambda x: (x - x.min()) / (x.max() - x.min())\n",
    ")\n",
    "industry_stats['total_funding_norm'] = industry_stats.groupby('category_code')['total_funding'].transform(\n",
    "    lambda x: (x - x.min()) / (x.max() - x.min())\n",
    ")\n",
    "\n",
    "industry_stats['industry_growth_index'] = (\n",
    "    0.5 * industry_stats['num_startups_norm'] +\n",
    "    0.5 * industry_stats['total_funding_norm']\n",
    ")\n",
    "\n",
    "df = df.merge(\n",
    "    industry_stats[['category_code', 'founded_year', 'industry_growth_index']],\n",
    "    on=['category_code', 'founded_year'],\n",
    "    how='left'\n",
    ")\n"
   ]
  },
  {
   "cell_type": "code",
   "execution_count": null,
   "id": "bc555599",
   "metadata": {},
   "outputs": [],
   "source": [
    "industry_stats['industry_growth_rate'] = industry_stats.groupby('category_code')['industry_growth_index'].pct_change()\n",
    "\n",
    "df = df.merge(\n",
    "    industry_stats[['category_code', 'founded_year', 'industry_growth_rate']],\n",
    "    on=['category_code', 'founded_year'],\n",
    "    how='left'\n",
    ")"
   ]
  },
  {
   "cell_type": "code",
   "execution_count": null,
   "id": "261b1c88",
   "metadata": {},
   "outputs": [],
   "source": [
    "df.to_csv('../processed_data/companies_feature_engineering.csv', index=False)"
   ]
  }
 ],
 "metadata": {
  "kernelspec": {
   "display_name": ".venv",
   "language": "python",
   "name": "python3"
  },
  "language_info": {
   "codemirror_mode": {
    "name": "ipython",
    "version": 3
   },
   "file_extension": ".py",
   "mimetype": "text/x-python",
   "name": "python",
   "nbconvert_exporter": "python",
   "pygments_lexer": "ipython3",
   "version": "3.13.7"
  }
 },
 "nbformat": 4,
 "nbformat_minor": 5
}
