{
  "cells": [
    {
      "cell_type": "code",
      "execution_count": 18,
      "metadata": {
        "id": "AIXCl-BfNxQa"
      },
      "outputs": [],
      "source": [
        "import pandas as pd"
      ]
    },
    {
      "cell_type": "code",
      "execution_count": 19,
      "metadata": {
        "colab": {
          "base_uri": "https://localhost:8080/",
          "height": 359
        },
        "id": "0966A_zgQ_qD",
        "outputId": "34b4213a-5397-430b-ca6e-60d7b4163d12"
      },
      "outputs": [
        {
          "data": {
            "text/html": [
              "<div>\n",
              "<style scoped>\n",
              "    .dataframe tbody tr th:only-of-type {\n",
              "        vertical-align: middle;\n",
              "    }\n",
              "\n",
              "    .dataframe tbody tr th {\n",
              "        vertical-align: top;\n",
              "    }\n",
              "\n",
              "    .dataframe thead th {\n",
              "        text-align: right;\n",
              "    }\n",
              "</style>\n",
              "<table border=\"1\" class=\"dataframe\">\n",
              "  <thead>\n",
              "    <tr style=\"text-align: right;\">\n",
              "      <th></th>\n",
              "      <th>id</th>\n",
              "      <th>Unnamed: 0.1</th>\n",
              "      <th>entity_type</th>\n",
              "      <th>entity_id</th>\n",
              "      <th>parent_id</th>\n",
              "      <th>name</th>\n",
              "      <th>normalized_name</th>\n",
              "      <th>permalink</th>\n",
              "      <th>category_code</th>\n",
              "      <th>status</th>\n",
              "      <th>...</th>\n",
              "      <th>first_milestone_at</th>\n",
              "      <th>last_milestone_at</th>\n",
              "      <th>milestones</th>\n",
              "      <th>relationships</th>\n",
              "      <th>created_by</th>\n",
              "      <th>created_at</th>\n",
              "      <th>updated_at</th>\n",
              "      <th>lat</th>\n",
              "      <th>lng</th>\n",
              "      <th>ROI</th>\n",
              "    </tr>\n",
              "  </thead>\n",
              "  <tbody>\n",
              "    <tr>\n",
              "      <th>0</th>\n",
              "      <td>c:1</td>\n",
              "      <td>0</td>\n",
              "      <td>Company</td>\n",
              "      <td>1</td>\n",
              "      <td>NaN</td>\n",
              "      <td>Wetpaint</td>\n",
              "      <td>wetpaint</td>\n",
              "      <td>/company/wetpaint</td>\n",
              "      <td>web</td>\n",
              "      <td>operating</td>\n",
              "      <td>...</td>\n",
              "      <td>2010-09-05</td>\n",
              "      <td>2013-09-18</td>\n",
              "      <td>5.0</td>\n",
              "      <td>17.0</td>\n",
              "      <td>initial-importer</td>\n",
              "      <td>2007-05-25 06:51:27</td>\n",
              "      <td>2013-04-13 03:29:00</td>\n",
              "      <td>47.606209</td>\n",
              "      <td>-122.332071</td>\n",
              "      <td>15.5</td>\n",
              "    </tr>\n",
              "    <tr>\n",
              "      <th>1</th>\n",
              "      <td>c:10</td>\n",
              "      <td>1</td>\n",
              "      <td>Company</td>\n",
              "      <td>10</td>\n",
              "      <td>NaN</td>\n",
              "      <td>Flektor</td>\n",
              "      <td>flektor</td>\n",
              "      <td>/company/flektor</td>\n",
              "      <td>games_video</td>\n",
              "      <td>acquired</td>\n",
              "      <td>...</td>\n",
              "      <td>NaN</td>\n",
              "      <td>NaN</td>\n",
              "      <td>NaN</td>\n",
              "      <td>6.0</td>\n",
              "      <td>initial-importer</td>\n",
              "      <td>2007-05-31 21:11:51</td>\n",
              "      <td>2008-05-23 23:23:14</td>\n",
              "      <td>34.021122</td>\n",
              "      <td>-118.396467</td>\n",
              "      <td>NaN</td>\n",
              "    </tr>\n",
              "    <tr>\n",
              "      <th>2</th>\n",
              "      <td>c:100</td>\n",
              "      <td>2</td>\n",
              "      <td>Company</td>\n",
              "      <td>100</td>\n",
              "      <td>NaN</td>\n",
              "      <td>There</td>\n",
              "      <td>there</td>\n",
              "      <td>/company/there</td>\n",
              "      <td>games_video</td>\n",
              "      <td>acquired</td>\n",
              "      <td>...</td>\n",
              "      <td>2003-02-01</td>\n",
              "      <td>2011-09-23</td>\n",
              "      <td>4.0</td>\n",
              "      <td>12.0</td>\n",
              "      <td>initial-importer</td>\n",
              "      <td>2007-08-06 23:52:45</td>\n",
              "      <td>2013-11-04 02:09:48</td>\n",
              "      <td>37.562992</td>\n",
              "      <td>-122.325525</td>\n",
              "      <td>NaN</td>\n",
              "    </tr>\n",
              "    <tr>\n",
              "      <th>3</th>\n",
              "      <td>c:10000</td>\n",
              "      <td>3</td>\n",
              "      <td>Company</td>\n",
              "      <td>10000</td>\n",
              "      <td>NaN</td>\n",
              "      <td>MYWEBBO</td>\n",
              "      <td>mywebbo</td>\n",
              "      <td>/company/mywebbo</td>\n",
              "      <td>network_hosting</td>\n",
              "      <td>operating</td>\n",
              "      <td>...</td>\n",
              "      <td>NaN</td>\n",
              "      <td>NaN</td>\n",
              "      <td>NaN</td>\n",
              "      <td>NaN</td>\n",
              "      <td>NaN</td>\n",
              "      <td>2008-08-24 16:51:57</td>\n",
              "      <td>2008-09-06 14:19:18</td>\n",
              "      <td>NaN</td>\n",
              "      <td>NaN</td>\n",
              "      <td>NaN</td>\n",
              "    </tr>\n",
              "    <tr>\n",
              "      <th>4</th>\n",
              "      <td>c:10001</td>\n",
              "      <td>4</td>\n",
              "      <td>Company</td>\n",
              "      <td>10001</td>\n",
              "      <td>NaN</td>\n",
              "      <td>THE Movie Streamer</td>\n",
              "      <td>the movie streamer</td>\n",
              "      <td>/company/the-movie-streamer</td>\n",
              "      <td>games_video</td>\n",
              "      <td>operating</td>\n",
              "      <td>...</td>\n",
              "      <td>NaN</td>\n",
              "      <td>NaN</td>\n",
              "      <td>NaN</td>\n",
              "      <td>NaN</td>\n",
              "      <td>NaN</td>\n",
              "      <td>2008-08-24 17:10:34</td>\n",
              "      <td>2008-09-06 14:19:18</td>\n",
              "      <td>NaN</td>\n",
              "      <td>NaN</td>\n",
              "      <td>NaN</td>\n",
              "    </tr>\n",
              "  </tbody>\n",
              "</table>\n",
              "<p>5 rows × 44 columns</p>\n",
              "</div>"
            ],
            "text/plain": [
              "        id  Unnamed: 0.1 entity_type  entity_id  parent_id  \\\n",
              "0      c:1             0     Company          1        NaN   \n",
              "1     c:10             1     Company         10        NaN   \n",
              "2    c:100             2     Company        100        NaN   \n",
              "3  c:10000             3     Company      10000        NaN   \n",
              "4  c:10001             4     Company      10001        NaN   \n",
              "\n",
              "                 name     normalized_name                    permalink  \\\n",
              "0            Wetpaint            wetpaint            /company/wetpaint   \n",
              "1             Flektor             flektor             /company/flektor   \n",
              "2               There               there               /company/there   \n",
              "3             MYWEBBO             mywebbo             /company/mywebbo   \n",
              "4  THE Movie Streamer  the movie streamer  /company/the-movie-streamer   \n",
              "\n",
              "     category_code     status  ... first_milestone_at last_milestone_at  \\\n",
              "0              web  operating  ...         2010-09-05        2013-09-18   \n",
              "1      games_video   acquired  ...                NaN               NaN   \n",
              "2      games_video   acquired  ...         2003-02-01        2011-09-23   \n",
              "3  network_hosting  operating  ...                NaN               NaN   \n",
              "4      games_video  operating  ...                NaN               NaN   \n",
              "\n",
              "  milestones relationships        created_by           created_at  \\\n",
              "0        5.0          17.0  initial-importer  2007-05-25 06:51:27   \n",
              "1        NaN           6.0  initial-importer  2007-05-31 21:11:51   \n",
              "2        4.0          12.0  initial-importer  2007-08-06 23:52:45   \n",
              "3        NaN           NaN               NaN  2008-08-24 16:51:57   \n",
              "4        NaN           NaN               NaN  2008-08-24 17:10:34   \n",
              "\n",
              "            updated_at        lat         lng   ROI  \n",
              "0  2013-04-13 03:29:00  47.606209 -122.332071  15.5  \n",
              "1  2008-05-23 23:23:14  34.021122 -118.396467   NaN  \n",
              "2  2013-11-04 02:09:48  37.562992 -122.325525   NaN  \n",
              "3  2008-09-06 14:19:18        NaN         NaN   NaN  \n",
              "4  2008-09-06 14:19:18        NaN         NaN   NaN  \n",
              "\n",
              "[5 rows x 44 columns]"
            ]
          },
          "execution_count": 19,
          "metadata": {},
          "output_type": "execute_result"
        }
      ],
      "source": [
        "df = pd.read_csv('../data/companies.csv', low_memory=False)\n",
        "\n",
        "df.head()"
      ]
    },
    {
      "cell_type": "code",
      "execution_count": 20,
      "metadata": {
        "colab": {
          "base_uri": "https://localhost:8080/"
        },
        "id": "EEiG5F6iUCuK",
        "outputId": "164d8dd9-4fda-4c91-e288-e272fdc57568"
      },
      "outputs": [
        {
          "data": {
            "text/plain": [
              "(196553, 44)"
            ]
          },
          "execution_count": 20,
          "metadata": {},
          "output_type": "execute_result"
        }
      ],
      "source": [
        "df.shape"
      ]
    },
    {
      "cell_type": "code",
      "execution_count": 21,
      "metadata": {
        "colab": {
          "base_uri": "https://localhost:8080/"
        },
        "id": "Pfq2IhIrUIaV",
        "outputId": "3222f927-6851-44b2-951a-53e2b1c2102b"
      },
      "outputs": [
        {
          "data": {
            "text/plain": [
              "(196553, 44)"
            ]
          },
          "execution_count": 21,
          "metadata": {},
          "output_type": "execute_result"
        }
      ],
      "source": [
        "df.shape"
      ]
    },
    {
      "cell_type": "code",
      "execution_count": 22,
      "metadata": {
        "colab": {
          "base_uri": "https://localhost:8080/",
          "height": 1000
        },
        "id": "WxsN8qptSy5b",
        "outputId": "5553229f-d7df-4ac6-995a-a65814fb5562"
      },
      "outputs": [
        {
          "data": {
            "text/plain": [
              "id                      object\n",
              "Unnamed: 0.1             int64\n",
              "entity_type             object\n",
              "entity_id                int64\n",
              "parent_id              float64\n",
              "name                    object\n",
              "normalized_name         object\n",
              "permalink               object\n",
              "category_code           object\n",
              "status                  object\n",
              "founded_at              object\n",
              "closed_at               object\n",
              "domain                  object\n",
              "homepage_url            object\n",
              "twitter_username        object\n",
              "logo_url                object\n",
              "logo_width             float64\n",
              "logo_height            float64\n",
              "short_description       object\n",
              "description             object\n",
              "overview                object\n",
              "tag_list                object\n",
              "country_code            object\n",
              "state_code              object\n",
              "city                    object\n",
              "region                  object\n",
              "first_investment_at     object\n",
              "last_investment_at      object\n",
              "investment_rounds      float64\n",
              "invested_companies     float64\n",
              "first_funding_at        object\n",
              "last_funding_at         object\n",
              "funding_rounds         float64\n",
              "funding_total_usd      float64\n",
              "first_milestone_at      object\n",
              "last_milestone_at       object\n",
              "milestones             float64\n",
              "relationships          float64\n",
              "created_by              object\n",
              "created_at              object\n",
              "updated_at              object\n",
              "lat                    float64\n",
              "lng                    float64\n",
              "ROI                    float64\n",
              "dtype: object"
            ]
          },
          "execution_count": 22,
          "metadata": {},
          "output_type": "execute_result"
        }
      ],
      "source": [
        "df.dtypes"
      ]
    },
    {
      "cell_type": "code",
      "execution_count": 23,
      "metadata": {
        "colab": {
          "base_uri": "https://localhost:8080/",
          "height": 1000
        },
        "id": "QqZOvqzNWpyM",
        "outputId": "ac0edb9e-9c77-44d4-de36-49cc0248cc73"
      },
      "outputs": [
        {
          "data": {
            "text/plain": [
              "id                          0\n",
              "Unnamed: 0.1                0\n",
              "entity_type                 0\n",
              "entity_id                   0\n",
              "parent_id              196553\n",
              "name                       23\n",
              "normalized_name            26\n",
              "permalink                   0\n",
              "category_code           73367\n",
              "status                      0\n",
              "founded_at             105326\n",
              "closed_at              193933\n",
              "domain                  70008\n",
              "homepage_url            70008\n",
              "twitter_username       115962\n",
              "logo_url                86443\n",
              "logo_width              86443\n",
              "logo_height             86443\n",
              "short_description      189422\n",
              "description            104505\n",
              "overview                69582\n",
              "tag_list               115101\n",
              "country_code           108563\n",
              "state_code             145650\n",
              "city                   112663\n",
              "region                      0\n",
              "first_investment_at    193970\n",
              "last_investment_at     193970\n",
              "investment_rounds      193962\n",
              "invested_companies     193962\n",
              "first_funding_at       165046\n",
              "last_funding_at        165046\n",
              "funding_rounds         164846\n",
              "funding_total_usd      168679\n",
              "first_milestone_at     104854\n",
              "last_milestone_at      104854\n",
              "milestones             104854\n",
              "relationships           66886\n",
              "created_by              41020\n",
              "created_at                  0\n",
              "updated_at                  0\n",
              "lat                    112701\n",
              "lng                    112701\n",
              "ROI                    195827\n",
              "dtype: int64"
            ]
          },
          "execution_count": 23,
          "metadata": {},
          "output_type": "execute_result"
        }
      ],
      "source": [
        "df.isnull().sum()"
      ]
    },
    {
      "cell_type": "code",
      "execution_count": 24,
      "metadata": {
        "colab": {
          "base_uri": "https://localhost:8080/"
        },
        "id": "tXreKxYlPQx0",
        "outputId": "d6f610fc-c2fd-4c44-ae89-88bd6f692f0f"
      },
      "outputs": [
        {
          "data": {
            "text/plain": [
              "array(['operating', 'acquired', 'closed', 'ipo'], dtype=object)"
            ]
          },
          "execution_count": 24,
          "metadata": {},
          "output_type": "execute_result"
        }
      ],
      "source": [
        "df['status'].unique()"
      ]
    },
    {
      "cell_type": "code",
      "execution_count": 25,
      "metadata": {
        "colab": {
          "base_uri": "https://localhost:8080/"
        },
        "id": "0oPD0sEEPtce",
        "outputId": "6f7ff00c-fcb7-4f41-a2a0-f65aed5fdc0b"
      },
      "outputs": [
        {
          "data": {
            "text/plain": [
              "array(['web', 'games_video', 'network_hosting', 'advertising',\n",
              "       'cleantech', nan, 'enterprise', 'other', 'consulting', 'mobile',\n",
              "       'health', 'software', 'analytics', 'finance', 'education',\n",
              "       'medical', 'manufacturing', 'biotech', 'ecommerce',\n",
              "       'public_relations', 'hardware', 'search', 'news', 'government',\n",
              "       'security', 'photo_video', 'travel', 'semiconductor', 'social',\n",
              "       'legal', 'transportation', 'hospitality', 'sports', 'nonprofit',\n",
              "       'fashion', 'messaging', 'music', 'automotive', 'design',\n",
              "       'real_estate', 'local', 'nanotech', 'pets'], dtype=object)"
            ]
          },
          "execution_count": 25,
          "metadata": {},
          "output_type": "execute_result"
        }
      ],
      "source": [
        "df['category_code'].unique()"
      ]
    },
    {
      "cell_type": "code",
      "execution_count": 26,
      "metadata": {
        "colab": {
          "base_uri": "https://localhost:8080/"
        },
        "id": "Z9oUAZQ1P3G9",
        "outputId": "28288202-e416-4fcb-f90c-0de2de555beb"
      },
      "outputs": [
        {
          "data": {
            "text/plain": [
              "array(['USA', nan, 'MAR', 'IND', 'AUS', 'FRA', 'JPN', 'NLD', 'EGY', 'ISR',\n",
              "       'GBR', 'THA', 'CAN', 'AUT', 'IRL', 'SWE', 'DEU', 'BRA', 'FIN',\n",
              "       'RUS', 'SGP', 'MEX', 'CHN', 'ESP', 'ISL', 'KOR', 'TUR', 'DNK',\n",
              "       'ARG', 'PAK', 'HUN', 'POL', 'GRC', 'PRT', 'BLR', 'CSS', 'MKD',\n",
              "       'CHE', 'SVN', 'UKR', 'ITA', 'NZL', 'LIE', 'NOR', 'CZE', 'VNM',\n",
              "       'HRV', 'BEN', 'CHL', 'GHA', 'ZAF', 'MYS', 'EST', 'BEL', 'SVK',\n",
              "       'TWN', 'CRI', 'HKG', 'BGD', 'BOL', 'LBN', 'LUX', 'AZE', 'COL',\n",
              "       'PHL', 'ARE', 'IDN', 'ROM', 'ANT', 'CYM', 'NGA', 'GIN', 'CYP',\n",
              "       'LKA', 'SWZ', 'VGB', 'MLT', 'SAU', 'KEN', 'BGR', 'PER', 'LVA',\n",
              "       'LAO', 'NPL', 'MDA', 'CMR', 'UGA', 'TUN', 'URY', 'MUS', 'VEN',\n",
              "       'OMN', 'ECU', 'KWT', 'JOR', 'LTU', 'ALB', 'QAT', 'UMI', 'PST',\n",
              "       'REU', 'GTM', 'PCN', 'BHS', 'GEO', 'BWA', 'DZA', 'GRD', 'ZMB',\n",
              "       'GIB', 'PAN', 'MTQ', 'PRI', 'BIH', 'DMA', 'BHR', 'SYC', 'SLE',\n",
              "       'TTO', 'VCT', 'ARA', 'BRB', 'NAM', 'SLV', 'AFG', 'BLZ', 'UZB',\n",
              "       'IRN', 'TZA', 'ARM', 'ATG', 'DOM', 'JAM', 'MDV', 'MMR', 'KAZ',\n",
              "       'GLP', 'MAC', 'IOT', 'MDG', 'KGZ', 'VIR', 'ZWE', 'PRY', 'PRK',\n",
              "       'LSO', 'SMR', 'IRQ', 'BMU', 'NRU', 'KHM', 'ETH', 'BDI', 'SEN',\n",
              "       'HMI', 'HND', 'TJK', 'NER', 'NCL', 'CUB', 'FST', 'AGO', 'NFK',\n",
              "       'NIC', 'AND', 'MCO', 'YEM', 'BRN', 'HTI', 'AIA', 'SUR', 'SYR',\n",
              "       'SOM', 'RWA', 'CIV', 'SDN'], dtype=object)"
            ]
          },
          "execution_count": 26,
          "metadata": {},
          "output_type": "execute_result"
        }
      ],
      "source": [
        "df['country_code'].unique()"
      ]
    },
    {
      "cell_type": "code",
      "execution_count": 27,
      "metadata": {
        "colab": {
          "base_uri": "https://localhost:8080/"
        },
        "id": "2et1_Z5XP99o",
        "outputId": "ed5f3b14-fdcb-4503-bc56-2075cf13c9db"
      },
      "outputs": [
        {
          "data": {
            "text/plain": [
              "array(['WA', 'CA', nan, 'NY', 'NM', 'TX', 'OH', 'NJ', 'IL', 'MA', 'NC',\n",
              "       'CT', 'PA', 'NH', 'MI', 'AZ', 'TN', 'GA', 'FL', 'MD', 'UT', 'OR',\n",
              "       'MO', 'AR', 'CO', 'KS', 'MN', 'NV', 'ID', 'IN', 'IA', 'VA', 'KY',\n",
              "       'LA', 'HI', 'WV', 'WI', 'SC', 'NE', 'DE', 'DC', 'AL', 'VT', 'RI',\n",
              "       'OK', 'ME', 'MS', 'MT', 'SD', 'ND', 'AK', 'WY'], dtype=object)"
            ]
          },
          "execution_count": 27,
          "metadata": {},
          "output_type": "execute_result"
        }
      ],
      "source": [
        "df['state_code'].unique()"
      ]
    },
    {
      "cell_type": "code",
      "execution_count": 28,
      "metadata": {
        "colab": {
          "base_uri": "https://localhost:8080/"
        },
        "id": "rFehK9O1QFJC",
        "outputId": "bc15d764-9969-43d0-9a2d-be34c0204c85"
      },
      "outputs": [
        {
          "data": {
            "text/plain": [
              "array(['Seattle', 'Los Angeles', 'SF Bay', ..., 'Parnell Auckland',\n",
              "       'Jalandhar City', 'D.I.Khan'], shape=(5847,), dtype=object)"
            ]
          },
          "execution_count": 28,
          "metadata": {},
          "output_type": "execute_result"
        }
      ],
      "source": [
        "df['region'].unique()"
      ]
    },
    {
      "cell_type": "code",
      "execution_count": 29,
      "metadata": {
        "colab": {
          "base_uri": "https://localhost:8080/",
          "height": 261
        },
        "id": "xNDT6kuPUJY1",
        "outputId": "18530d25-a589-4ad1-912d-e9b3822c2018"
      },
      "outputs": [
        {
          "data": {
            "text/plain": [
              "status\n",
              "operating    181188\n",
              "acquired       9281\n",
              "closed         2573\n",
              "ipo             920\n",
              "Name: count, dtype: int64"
            ]
          },
          "execution_count": 29,
          "metadata": {},
          "output_type": "execute_result"
        }
      ],
      "source": [
        "#Status for rows where investment columns are empty\n",
        "df.loc[df['investment_rounds'].isna(), 'status'].value_counts()\n"
      ]
    },
    {
      "cell_type": "code",
      "execution_count": 30,
      "metadata": {
        "colab": {
          "base_uri": "https://localhost:8080/",
          "height": 261
        },
        "id": "2e9-woQvUzfj",
        "outputId": "a1659d9d-f0e7-49cd-a9e6-3032b25765e9"
      },
      "outputs": [
        {
          "data": {
            "text/plain": [
              "status\n",
              "operating    160130\n",
              "acquired       7059\n",
              "closed          836\n",
              "ipo             654\n",
              "Name: count, dtype: int64"
            ]
          },
          "execution_count": 30,
          "metadata": {},
          "output_type": "execute_result"
        }
      ],
      "source": [
        "#Status for rows where funding amount columns are empty\n",
        "df.loc[df['funding_total_usd'].isna(), 'status'].value_counts()"
      ]
    }
  ],
  "metadata": {
    "colab": {
      "provenance": []
    },
    "kernelspec": {
      "display_name": ".venv",
      "language": "python",
      "name": "python3"
    },
    "language_info": {
      "codemirror_mode": {
        "name": "ipython",
        "version": 3
      },
      "file_extension": ".py",
      "mimetype": "text/x-python",
      "name": "python",
      "nbconvert_exporter": "python",
      "pygments_lexer": "ipython3",
      "version": "3.13.7"
    }
  },
  "nbformat": 4,
  "nbformat_minor": 0
}
