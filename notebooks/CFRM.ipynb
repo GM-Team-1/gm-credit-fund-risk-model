{
  "cells": [
    {
      "cell_type": "code",
      "execution_count": 1,
      "metadata": {
        "id": "AIXCl-BfNxQa",
        "colab": {
          "base_uri": "https://localhost:8080/"
        },
        "outputId": "e581c4bd-5b56-4d19-f14f-6245caf27eec"
      },
      "outputs": [
        {
          "output_type": "stream",
          "name": "stdout",
          "text": [
            "Mounted at /content/drive\n"
          ]
        }
      ],
      "source": [
        "import pandas as pd"
      ]
    },
    {
      "cell_type": "code",
      "execution_count": null,
      "metadata": {
        "colab": {
          "base_uri": "https://localhost:8080/",
          "height": 359
        },
        "id": "0966A_zgQ_qD",
        "outputId": "34b4213a-5397-430b-ca6e-60d7b4163d12"
      },
      "outputs": [
        {
          "data": {
            "text/html": [
              "<div>\n",
              "<style scoped>\n",
              "    .dataframe tbody tr th:only-of-type {\n",
              "        vertical-align: middle;\n",
              "    }\n",
              "\n",
              "    .dataframe tbody tr th {\n",
              "        vertical-align: top;\n",
              "    }\n",
              "\n",
              "    .dataframe thead th {\n",
              "        text-align: right;\n",
              "    }\n",
              "</style>\n",
              "<table border=\"1\" class=\"dataframe\">\n",
              "  <thead>\n",
              "    <tr style=\"text-align: right;\">\n",
              "      <th></th>\n",
              "      <th>id</th>\n",
              "      <th>Unnamed: 0.1</th>\n",
              "      <th>entity_type</th>\n",
              "      <th>entity_id</th>\n",
              "      <th>parent_id</th>\n",
              "      <th>name</th>\n",
              "      <th>normalized_name</th>\n",
              "      <th>permalink</th>\n",
              "      <th>category_code</th>\n",
              "      <th>status</th>\n",
              "      <th>...</th>\n",
              "      <th>first_milestone_at</th>\n",
              "      <th>last_milestone_at</th>\n",
              "      <th>milestones</th>\n",
              "      <th>relationships</th>\n",
              "      <th>created_by</th>\n",
              "      <th>created_at</th>\n",
              "      <th>updated_at</th>\n",
              "      <th>lat</th>\n",
              "      <th>lng</th>\n",
              "      <th>ROI</th>\n",
              "    </tr>\n",
              "  </thead>\n",
              "  <tbody>\n",
              "    <tr>\n",
              "      <th>0</th>\n",
              "      <td>c:1</td>\n",
              "      <td>0</td>\n",
              "      <td>Company</td>\n",
              "      <td>1</td>\n",
              "      <td>NaN</td>\n",
              "      <td>Wetpaint</td>\n",
              "      <td>wetpaint</td>\n",
              "      <td>/company/wetpaint</td>\n",
              "      <td>web</td>\n",
              "      <td>operating</td>\n",
              "      <td>...</td>\n",
              "      <td>2010-09-05</td>\n",
              "      <td>2013-09-18</td>\n",
              "      <td>5.0</td>\n",
              "      <td>17.0</td>\n",
              "      <td>initial-importer</td>\n",
              "      <td>2007-05-25 06:51:27</td>\n",
              "      <td>2013-04-13 03:29:00</td>\n",
              "      <td>47.606209</td>\n",
              "      <td>-122.332071</td>\n",
              "      <td>15.5</td>\n",
              "    </tr>\n",
              "    <tr>\n",
              "      <th>1</th>\n",
              "      <td>c:10</td>\n",
              "      <td>1</td>\n",
              "      <td>Company</td>\n",
              "      <td>10</td>\n",
              "      <td>NaN</td>\n",
              "      <td>Flektor</td>\n",
              "      <td>flektor</td>\n",
              "      <td>/company/flektor</td>\n",
              "      <td>games_video</td>\n",
              "      <td>acquired</td>\n",
              "      <td>...</td>\n",
              "      <td>NaN</td>\n",
              "      <td>NaN</td>\n",
              "      <td>NaN</td>\n",
              "      <td>6.0</td>\n",
              "      <td>initial-importer</td>\n",
              "      <td>2007-05-31 21:11:51</td>\n",
              "      <td>2008-05-23 23:23:14</td>\n",
              "      <td>34.021122</td>\n",
              "      <td>-118.396467</td>\n",
              "      <td>NaN</td>\n",
              "    </tr>\n",
              "    <tr>\n",
              "      <th>2</th>\n",
              "      <td>c:100</td>\n",
              "      <td>2</td>\n",
              "      <td>Company</td>\n",
              "      <td>100</td>\n",
              "      <td>NaN</td>\n",
              "      <td>There</td>\n",
              "      <td>there</td>\n",
              "      <td>/company/there</td>\n",
              "      <td>games_video</td>\n",
              "      <td>acquired</td>\n",
              "      <td>...</td>\n",
              "      <td>2003-02-01</td>\n",
              "      <td>2011-09-23</td>\n",
              "      <td>4.0</td>\n",
              "      <td>12.0</td>\n",
              "      <td>initial-importer</td>\n",
              "      <td>2007-08-06 23:52:45</td>\n",
              "      <td>2013-11-04 02:09:48</td>\n",
              "      <td>37.562992</td>\n",
              "      <td>-122.325525</td>\n",
              "      <td>NaN</td>\n",
              "    </tr>\n",
              "    <tr>\n",
              "      <th>3</th>\n",
              "      <td>c:10000</td>\n",
              "      <td>3</td>\n",
              "      <td>Company</td>\n",
              "      <td>10000</td>\n",
              "      <td>NaN</td>\n",
              "      <td>MYWEBBO</td>\n",
              "      <td>mywebbo</td>\n",
              "      <td>/company/mywebbo</td>\n",
              "      <td>network_hosting</td>\n",
              "      <td>operating</td>\n",
              "      <td>...</td>\n",
              "      <td>NaN</td>\n",
              "      <td>NaN</td>\n",
              "      <td>NaN</td>\n",
              "      <td>NaN</td>\n",
              "      <td>NaN</td>\n",
              "      <td>2008-08-24 16:51:57</td>\n",
              "      <td>2008-09-06 14:19:18</td>\n",
              "      <td>NaN</td>\n",
              "      <td>NaN</td>\n",
              "      <td>NaN</td>\n",
              "    </tr>\n",
              "    <tr>\n",
              "      <th>4</th>\n",
              "      <td>c:10001</td>\n",
              "      <td>4</td>\n",
              "      <td>Company</td>\n",
              "      <td>10001</td>\n",
              "      <td>NaN</td>\n",
              "      <td>THE Movie Streamer</td>\n",
              "      <td>the movie streamer</td>\n",
              "      <td>/company/the-movie-streamer</td>\n",
              "      <td>games_video</td>\n",
              "      <td>operating</td>\n",
              "      <td>...</td>\n",
              "      <td>NaN</td>\n",
              "      <td>NaN</td>\n",
              "      <td>NaN</td>\n",
              "      <td>NaN</td>\n",
              "      <td>NaN</td>\n",
              "      <td>2008-08-24 17:10:34</td>\n",
              "      <td>2008-09-06 14:19:18</td>\n",
              "      <td>NaN</td>\n",
              "      <td>NaN</td>\n",
              "      <td>NaN</td>\n",
              "    </tr>\n",
              "  </tbody>\n",
              "</table>\n",
              "<p>5 rows × 44 columns</p>\n",
              "</div>"
            ],
            "text/plain": [
              "        id  Unnamed: 0.1 entity_type  entity_id  parent_id  \\\n",
              "0      c:1             0     Company          1        NaN   \n",
              "1     c:10             1     Company         10        NaN   \n",
              "2    c:100             2     Company        100        NaN   \n",
              "3  c:10000             3     Company      10000        NaN   \n",
              "4  c:10001             4     Company      10001        NaN   \n",
              "\n",
              "                 name     normalized_name                    permalink  \\\n",
              "0            Wetpaint            wetpaint            /company/wetpaint   \n",
              "1             Flektor             flektor             /company/flektor   \n",
              "2               There               there               /company/there   \n",
              "3             MYWEBBO             mywebbo             /company/mywebbo   \n",
              "4  THE Movie Streamer  the movie streamer  /company/the-movie-streamer   \n",
              "\n",
              "     category_code     status  ... first_milestone_at last_milestone_at  \\\n",
              "0              web  operating  ...         2010-09-05        2013-09-18   \n",
              "1      games_video   acquired  ...                NaN               NaN   \n",
              "2      games_video   acquired  ...         2003-02-01        2011-09-23   \n",
              "3  network_hosting  operating  ...                NaN               NaN   \n",
              "4      games_video  operating  ...                NaN               NaN   \n",
              "\n",
              "  milestones relationships        created_by           created_at  \\\n",
              "0        5.0          17.0  initial-importer  2007-05-25 06:51:27   \n",
              "1        NaN           6.0  initial-importer  2007-05-31 21:11:51   \n",
              "2        4.0          12.0  initial-importer  2007-08-06 23:52:45   \n",
              "3        NaN           NaN               NaN  2008-08-24 16:51:57   \n",
              "4        NaN           NaN               NaN  2008-08-24 17:10:34   \n",
              "\n",
              "            updated_at        lat         lng   ROI  \n",
              "0  2013-04-13 03:29:00  47.606209 -122.332071  15.5  \n",
              "1  2008-05-23 23:23:14  34.021122 -118.396467   NaN  \n",
              "2  2013-11-04 02:09:48  37.562992 -122.325525   NaN  \n",
              "3  2008-09-06 14:19:18        NaN         NaN   NaN  \n",
              "4  2008-09-06 14:19:18        NaN         NaN   NaN  \n",
              "\n",
              "[5 rows x 44 columns]"
            ]
          },
          "execution_count": 71,
          "metadata": {},
          "output_type": "execute_result"
        }
      ],
      "source": [
        "df = pd.read_csv('../data/companies.csv', low_memory=False)\n",
        "df.head()"
      ]
    },
    {
      "cell_type": "code",
      "execution_count": null,
      "metadata": {
        "colab": {
          "base_uri": "https://localhost:8080/"
        },
        "id": "EEiG5F6iUCuK",
        "outputId": "164d8dd9-4fda-4c91-e288-e272fdc57568"
      },
      "outputs": [
        {
          "data": {
            "text/plain": [
              "(196553, 44)"
            ]
          },
          "execution_count": 72,
          "metadata": {},
          "output_type": "execute_result"
        }
      ],
      "source": [
        "df.shape"
      ]
    },
    {
      "cell_type": "code",
      "execution_count": null,
      "metadata": {
        "colab": {
          "base_uri": "https://localhost:8080/"
        },
        "id": "Pfq2IhIrUIaV",
        "outputId": "3222f927-6851-44b2-951a-53e2b1c2102b"
      },
      "outputs": [
        {
          "data": {
            "text/plain": [
              "(196553, 44)"
            ]
          },
          "execution_count": 73,
          "metadata": {},
          "output_type": "execute_result"
        }
      ],
      "source": [
        "df.shape"
      ]
    },
    {
      "cell_type": "code",
      "execution_count": null,
      "metadata": {
        "colab": {
          "base_uri": "https://localhost:8080/",
          "height": 1000
        },
        "id": "WxsN8qptSy5b",
        "outputId": "5553229f-d7df-4ac6-995a-a65814fb5562"
      },
      "outputs": [
        {
          "data": {
            "text/plain": [
              "id                      object\n",
              "Unnamed: 0.1             int64\n",
              "entity_type             object\n",
              "entity_id                int64\n",
              "parent_id              float64\n",
              "name                    object\n",
              "normalized_name         object\n",
              "permalink               object\n",
              "category_code           object\n",
              "status                  object\n",
              "founded_at              object\n",
              "closed_at               object\n",
              "domain                  object\n",
              "homepage_url            object\n",
              "twitter_username        object\n",
              "logo_url                object\n",
              "logo_width             float64\n",
              "logo_height            float64\n",
              "short_description       object\n",
              "description             object\n",
              "overview                object\n",
              "tag_list                object\n",
              "country_code            object\n",
              "state_code              object\n",
              "city                    object\n",
              "region                  object\n",
              "first_investment_at     object\n",
              "last_investment_at      object\n",
              "investment_rounds      float64\n",
              "invested_companies     float64\n",
              "first_funding_at        object\n",
              "last_funding_at         object\n",
              "funding_rounds         float64\n",
              "funding_total_usd      float64\n",
              "first_milestone_at      object\n",
              "last_milestone_at       object\n",
              "milestones             float64\n",
              "relationships          float64\n",
              "created_by              object\n",
              "created_at              object\n",
              "updated_at              object\n",
              "lat                    float64\n",
              "lng                    float64\n",
              "ROI                    float64\n",
              "dtype: object"
            ]
          },
          "execution_count": 74,
          "metadata": {},
          "output_type": "execute_result"
        }
      ],
      "source": [
        "df.dtypes"
      ]
    },
    {
      "cell_type": "code",
      "execution_count": null,
      "metadata": {
        "colab": {
          "base_uri": "https://localhost:8080/",
          "height": 1000
        },
        "id": "QqZOvqzNWpyM",
        "outputId": "ac0edb9e-9c77-44d4-de36-49cc0248cc73"
      },
      "outputs": [
        {
          "data": {
            "text/plain": [
              "id                          0\n",
              "Unnamed: 0.1                0\n",
              "entity_type                 0\n",
              "entity_id                   0\n",
              "parent_id              196553\n",
              "name                       23\n",
              "normalized_name            26\n",
              "permalink                   0\n",
              "category_code           73367\n",
              "status                      0\n",
              "founded_at             105326\n",
              "closed_at              193933\n",
              "domain                  70008\n",
              "homepage_url            70008\n",
              "twitter_username       115962\n",
              "logo_url                86443\n",
              "logo_width              86443\n",
              "logo_height             86443\n",
              "short_description      189422\n",
              "description            104505\n",
              "overview                69582\n",
              "tag_list               115101\n",
              "country_code           108563\n",
              "state_code             145650\n",
              "city                   112663\n",
              "region                      0\n",
              "first_investment_at    193970\n",
              "last_investment_at     193970\n",
              "investment_rounds      193962\n",
              "invested_companies     193962\n",
              "first_funding_at       165046\n",
              "last_funding_at        165046\n",
              "funding_rounds         164846\n",
              "funding_total_usd      168679\n",
              "first_milestone_at     104854\n",
              "last_milestone_at      104854\n",
              "milestones             104854\n",
              "relationships           66886\n",
              "created_by              41020\n",
              "created_at                  0\n",
              "updated_at                  0\n",
              "lat                    112701\n",
              "lng                    112701\n",
              "ROI                    195827\n",
              "dtype: int64"
            ]
          },
          "execution_count": 75,
          "metadata": {},
          "output_type": "execute_result"
        }
      ],
      "source": [
        "df.isnull().sum()"
      ]
    },
    {
      "cell_type": "code",
      "execution_count": null,
      "metadata": {
        "colab": {
          "base_uri": "https://localhost:8080/"
        },
        "id": "tXreKxYlPQx0",
        "outputId": "d6f610fc-c2fd-4c44-ae89-88bd6f692f0f"
      },
      "outputs": [
        {
          "data": {
            "text/plain": [
              "array(['operating', 'acquired', 'closed', 'ipo'], dtype=object)"
            ]
          },
          "execution_count": 76,
          "metadata": {},
          "output_type": "execute_result"
        }
      ],
      "source": [
        "df['status'].unique()"
      ]
    },
    {
      "cell_type": "code",
      "execution_count": null,
      "metadata": {
        "colab": {
          "base_uri": "https://localhost:8080/"
        },
        "id": "0oPD0sEEPtce",
        "outputId": "6f7ff00c-fcb7-4f41-a2a0-f65aed5fdc0b"
      },
      "outputs": [
        {
          "data": {
            "text/plain": [
              "array(['web', 'games_video', 'network_hosting', 'advertising',\n",
              "       'cleantech', nan, 'enterprise', 'other', 'consulting', 'mobile',\n",
              "       'health', 'software', 'analytics', 'finance', 'education',\n",
              "       'medical', 'manufacturing', 'biotech', 'ecommerce',\n",
              "       'public_relations', 'hardware', 'search', 'news', 'government',\n",
              "       'security', 'photo_video', 'travel', 'semiconductor', 'social',\n",
              "       'legal', 'transportation', 'hospitality', 'sports', 'nonprofit',\n",
              "       'fashion', 'messaging', 'music', 'automotive', 'design',\n",
              "       'real_estate', 'local', 'nanotech', 'pets'], dtype=object)"
            ]
          },
          "execution_count": 77,
          "metadata": {},
          "output_type": "execute_result"
        }
      ],
      "source": [
        "df['category_code'].unique()"
      ]
    },
    {
      "cell_type": "code",
      "execution_count": null,
      "metadata": {
        "colab": {
          "base_uri": "https://localhost:8080/"
        },
        "id": "Z9oUAZQ1P3G9",
        "outputId": "28288202-e416-4fcb-f90c-0de2de555beb"
      },
      "outputs": [
        {
          "data": {
            "text/plain": [
              "array(['USA', nan, 'MAR', 'IND', 'AUS', 'FRA', 'JPN', 'NLD', 'EGY', 'ISR',\n",
              "       'GBR', 'THA', 'CAN', 'AUT', 'IRL', 'SWE', 'DEU', 'BRA', 'FIN',\n",
              "       'RUS', 'SGP', 'MEX', 'CHN', 'ESP', 'ISL', 'KOR', 'TUR', 'DNK',\n",
              "       'ARG', 'PAK', 'HUN', 'POL', 'GRC', 'PRT', 'BLR', 'CSS', 'MKD',\n",
              "       'CHE', 'SVN', 'UKR', 'ITA', 'NZL', 'LIE', 'NOR', 'CZE', 'VNM',\n",
              "       'HRV', 'BEN', 'CHL', 'GHA', 'ZAF', 'MYS', 'EST', 'BEL', 'SVK',\n",
              "       'TWN', 'CRI', 'HKG', 'BGD', 'BOL', 'LBN', 'LUX', 'AZE', 'COL',\n",
              "       'PHL', 'ARE', 'IDN', 'ROM', 'ANT', 'CYM', 'NGA', 'GIN', 'CYP',\n",
              "       'LKA', 'SWZ', 'VGB', 'MLT', 'SAU', 'KEN', 'BGR', 'PER', 'LVA',\n",
              "       'LAO', 'NPL', 'MDA', 'CMR', 'UGA', 'TUN', 'URY', 'MUS', 'VEN',\n",
              "       'OMN', 'ECU', 'KWT', 'JOR', 'LTU', 'ALB', 'QAT', 'UMI', 'PST',\n",
              "       'REU', 'GTM', 'PCN', 'BHS', 'GEO', 'BWA', 'DZA', 'GRD', 'ZMB',\n",
              "       'GIB', 'PAN', 'MTQ', 'PRI', 'BIH', 'DMA', 'BHR', 'SYC', 'SLE',\n",
              "       'TTO', 'VCT', 'ARA', 'BRB', 'NAM', 'SLV', 'AFG', 'BLZ', 'UZB',\n",
              "       'IRN', 'TZA', 'ARM', 'ATG', 'DOM', 'JAM', 'MDV', 'MMR', 'KAZ',\n",
              "       'GLP', 'MAC', 'IOT', 'MDG', 'KGZ', 'VIR', 'ZWE', 'PRY', 'PRK',\n",
              "       'LSO', 'SMR', 'IRQ', 'BMU', 'NRU', 'KHM', 'ETH', 'BDI', 'SEN',\n",
              "       'HMI', 'HND', 'TJK', 'NER', 'NCL', 'CUB', 'FST', 'AGO', 'NFK',\n",
              "       'NIC', 'AND', 'MCO', 'YEM', 'BRN', 'HTI', 'AIA', 'SUR', 'SYR',\n",
              "       'SOM', 'RWA', 'CIV', 'SDN'], dtype=object)"
            ]
          },
          "execution_count": 78,
          "metadata": {},
          "output_type": "execute_result"
        }
      ],
      "source": [
        "df['country_code'].unique()"
      ]
    },
    {
      "cell_type": "code",
      "execution_count": null,
      "metadata": {
        "colab": {
          "base_uri": "https://localhost:8080/"
        },
        "id": "2et1_Z5XP99o",
        "outputId": "ed5f3b14-fdcb-4503-bc56-2075cf13c9db"
      },
      "outputs": [
        {
          "data": {
            "text/plain": [
              "array(['WA', 'CA', nan, 'NY', 'NM', 'TX', 'OH', 'NJ', 'IL', 'MA', 'NC',\n",
              "       'CT', 'PA', 'NH', 'MI', 'AZ', 'TN', 'GA', 'FL', 'MD', 'UT', 'OR',\n",
              "       'MO', 'AR', 'CO', 'KS', 'MN', 'NV', 'ID', 'IN', 'IA', 'VA', 'KY',\n",
              "       'LA', 'HI', 'WV', 'WI', 'SC', 'NE', 'DE', 'DC', 'AL', 'VT', 'RI',\n",
              "       'OK', 'ME', 'MS', 'MT', 'SD', 'ND', 'AK', 'WY'], dtype=object)"
            ]
          },
          "execution_count": 79,
          "metadata": {},
          "output_type": "execute_result"
        }
      ],
      "source": [
        "df['state_code'].unique()"
      ]
    },
    {
      "cell_type": "code",
      "execution_count": null,
      "metadata": {
        "colab": {
          "base_uri": "https://localhost:8080/"
        },
        "id": "rFehK9O1QFJC",
        "outputId": "bc15d764-9969-43d0-9a2d-be34c0204c85"
      },
      "outputs": [
        {
          "data": {
            "text/plain": [
              "array(['Seattle', 'Los Angeles', 'SF Bay', ..., 'Parnell Auckland',\n",
              "       'Jalandhar City', 'D.I.Khan'], dtype=object)"
            ]
          },
          "execution_count": 80,
          "metadata": {},
          "output_type": "execute_result"
        }
      ],
      "source": [
        "df['region'].unique()"
      ]
    },
    {
      "cell_type": "code",
      "execution_count": null,
      "metadata": {
        "colab": {
          "base_uri": "https://localhost:8080/",
          "height": 261
        },
        "id": "xNDT6kuPUJY1",
        "outputId": "18530d25-a589-4ad1-912d-e9b3822c2018"
      },
      "outputs": [
        {
          "data": {
            "text/plain": [
              "status\n",
              "operating    181188\n",
              "acquired       9281\n",
              "closed         2573\n",
              "ipo             920\n",
              "Name: count, dtype: int64"
            ]
          },
          "execution_count": 81,
          "metadata": {},
          "output_type": "execute_result"
        }
      ],
      "source": [
        "#Status for rows where investment columns are empty\n",
        "df.loc[df['investment_rounds'].isna(), 'status'].value_counts()\n"
      ]
    },
    {
      "cell_type": "code",
      "execution_count": null,
      "metadata": {
        "colab": {
          "base_uri": "https://localhost:8080/",
          "height": 261
        },
        "id": "2e9-woQvUzfj",
        "outputId": "a1659d9d-f0e7-49cd-a9e6-3032b25765e9"
      },
      "outputs": [
        {
          "data": {
            "text/plain": [
              "status\n",
              "operating    160130\n",
              "acquired       7059\n",
              "closed          836\n",
              "ipo             654\n",
              "Name: count, dtype: int64"
            ]
          },
          "execution_count": 82,
          "metadata": {},
          "output_type": "execute_result"
        }
      ],
      "source": [
        "#Status for rows where funding amount columns are empty\n",
        "df.loc[df['funding_total_usd'].isna(), 'status'].value_counts()"
      ]
    },
    {
      "cell_type": "markdown",
      "metadata": {
        "id": "-IyrO5LyjjF8"
      },
      "source": [
        "# 1. Under-Capitalized Population Identification (2% Threshold)"
      ]
    },
    {
      "cell_type": "markdown",
      "metadata": {
        "id": "VgUjTg4UjjF9"
      },
      "source": [
        "## Step 1: Calculate Funding Distribution Percentiles\n",
        "\n",
        "```\n",
        "ALGORITHM: Find 2% Funding Threshold\n",
        "1. Calculate percentiles [1%, 2%, 5%, 10%] of funding_total_usd\n",
        "2. Display percentile values for reference  \n",
        "3. Extract 2% percentile as threshold value\n",
        "4. Format and display threshold amount\n",
        "\n",
        "EXPECTED OUTPUT:\n",
        "- Percentile table showing funding distribution\n",
        "- 2% threshold dollar amount (e.g., \"$50,000\")\n",
        "```\n",
        "\n",
        "Have a looksee at pd.DataFrame.quantile() for percentile calculations."
      ]
    },
    {
      "cell_type": "code",
      "execution_count": null,
      "metadata": {
        "id": "tF7aCH07jjF-",
        "outputId": "d6a25843-5a09-4ce6-8628-aaa1f8f38616"
      },
      "outputs": [
        {
          "data": {
            "text/html": [
              "<div>\n",
              "<style scoped>\n",
              "    .dataframe tbody tr th:only-of-type {\n",
              "        vertical-align: middle;\n",
              "    }\n",
              "\n",
              "    .dataframe tbody tr th {\n",
              "        vertical-align: top;\n",
              "    }\n",
              "\n",
              "    .dataframe thead th {\n",
              "        text-align: right;\n",
              "    }\n",
              "</style>\n",
              "<table border=\"1\" class=\"dataframe\">\n",
              "  <thead>\n",
              "    <tr style=\"text-align: right;\">\n",
              "      <th></th>\n",
              "      <th>Percentile</th>\n",
              "      <th>Funding (USD)</th>\n",
              "    </tr>\n",
              "  </thead>\n",
              "  <tbody>\n",
              "    <tr>\n",
              "      <th>0</th>\n",
              "      <td>1%</td>\n",
              "      <td>$11,700</td>\n",
              "    </tr>\n",
              "    <tr>\n",
              "      <th>1</th>\n",
              "      <td>2%</td>\n",
              "      <td>$19,616</td>\n",
              "    </tr>\n",
              "    <tr>\n",
              "      <th>2</th>\n",
              "      <td>5%</td>\n",
              "      <td>$40,000</td>\n",
              "    </tr>\n",
              "    <tr>\n",
              "      <th>3</th>\n",
              "      <td>10%</td>\n",
              "      <td>$100,000</td>\n",
              "    </tr>\n",
              "  </tbody>\n",
              "</table>\n",
              "</div>"
            ],
            "text/plain": [
              "  Percentile Funding (USD)\n",
              "0         1%       $11,700\n",
              "1         2%       $19,616\n",
              "2         5%       $40,000\n",
              "3        10%      $100,000"
            ]
          },
          "execution_count": 83,
          "metadata": {},
          "output_type": "execute_result"
        }
      ],
      "source": [
        "# Percentiles\n",
        "percentiles = df['funding_total_usd'].quantile([0.01, 0.02, 0.05, 0.10])\n",
        "\n",
        "percentiles = percentiles.reset_index()\n",
        "percentiles.columns = ['Percentile', 'Funding (USD)']\n",
        "\n",
        "percentiles['Funding (USD)'] = percentiles['Funding (USD)'].apply(lambda x: f\"${x:,.0f}\")\n",
        "percentiles['Percentile'] = (percentiles['Percentile']*100).astype(int).astype(str) + '%'\n",
        "\n",
        "percentiles"
      ]
    },
    {
      "cell_type": "code",
      "execution_count": null,
      "metadata": {
        "id": "RObdK5X5jjF-",
        "outputId": "ae034fc1-a4ac-42cb-9e18-279f246d6f7a"
      },
      "outputs": [
        {
          "name": "stdout",
          "output_type": "stream",
          "text": [
            "2% funding threshold: $19,616\n"
          ]
        }
      ],
      "source": [
        "#2% threshold\n",
        "two_percent = df['funding_total_usd'].quantile(0.02)\n",
        "\n",
        "print(f\"2% funding threshold: ${two_percent:,.0f}\")"
      ]
    },
    {
      "cell_type": "markdown",
      "metadata": {
        "id": "z7aWo3D6jjF_"
      },
      "source": [
        "## Step 2: Identify Under-Capitalized Companies\n",
        "\n",
        "```\n",
        "ALGORITHM: Create Under-Capitalized Flag\n",
        "1. Create boolean flag where:\n",
        "   - funding_total_usd <= 2% threshold OR\n",
        "   - funding_total_usd is null OR  \n",
        "   - funding_total_usd equals zero\n",
        "2. Count total under-capitalized companies\n",
        "3. Calculate percentage of total dataset\n",
        "4. Display summary statistics\n",
        "\n",
        "EXPECTED OUTPUT:\n",
        "- under_capitalized column added to dataframe\n",
        "- Count: \"X,XXX companies (XX.X%)\"\n",
        "```\n",
        "\n",
        "Check out pandas conditional selection for flag creation."
      ]
    },
    {
      "cell_type": "code",
      "execution_count": null,
      "metadata": {
        "id": "ZmCpVxrTjjF_",
        "outputId": "f0619f3c-eb5f-4bf2-bfef-542f1aaeebff"
      },
      "outputs": [
        {
          "data": {
            "text/html": [
              "<div>\n",
              "<style scoped>\n",
              "    .dataframe tbody tr th:only-of-type {\n",
              "        vertical-align: middle;\n",
              "    }\n",
              "\n",
              "    .dataframe tbody tr th {\n",
              "        vertical-align: top;\n",
              "    }\n",
              "\n",
              "    .dataframe thead th {\n",
              "        text-align: right;\n",
              "    }\n",
              "</style>\n",
              "<table border=\"1\" class=\"dataframe\">\n",
              "  <thead>\n",
              "    <tr style=\"text-align: right;\">\n",
              "      <th></th>\n",
              "      <th>funding_total_usd</th>\n",
              "      <th>under_capitalized</th>\n",
              "    </tr>\n",
              "  </thead>\n",
              "  <tbody>\n",
              "    <tr>\n",
              "      <th>0</th>\n",
              "      <td>39750000.0</td>\n",
              "      <td>False</td>\n",
              "    </tr>\n",
              "    <tr>\n",
              "      <th>1</th>\n",
              "      <td>NaN</td>\n",
              "      <td>True</td>\n",
              "    </tr>\n",
              "    <tr>\n",
              "      <th>2</th>\n",
              "      <td>NaN</td>\n",
              "      <td>True</td>\n",
              "    </tr>\n",
              "    <tr>\n",
              "      <th>3</th>\n",
              "      <td>NaN</td>\n",
              "      <td>True</td>\n",
              "    </tr>\n",
              "    <tr>\n",
              "      <th>4</th>\n",
              "      <td>NaN</td>\n",
              "      <td>True</td>\n",
              "    </tr>\n",
              "  </tbody>\n",
              "</table>\n",
              "</div>"
            ],
            "text/plain": [
              "   funding_total_usd  under_capitalized\n",
              "0         39750000.0              False\n",
              "1                NaN               True\n",
              "2                NaN               True\n",
              "3                NaN               True\n",
              "4                NaN               True"
            ]
          },
          "execution_count": 85,
          "metadata": {},
          "output_type": "execute_result"
        }
      ],
      "source": [
        "#flag for under-capitalized companies\n",
        "df['under_capitalized'] = (\n",
        "    (df['funding_total_usd'] <= two_percent) |\n",
        "    (df['funding_total_usd'].isna()) |\n",
        "    (df['funding_total_usd'] == 0))\n",
        "\n",
        "df[['funding_total_usd', 'under_capitalized']].head()"
      ]
    },
    {
      "cell_type": "code",
      "execution_count": null,
      "metadata": {
        "id": "t4Do7k2mjjF_",
        "outputId": "5e414435-745c-4cde-b03f-38f598393492"
      },
      "outputs": [
        {
          "name": "stdout",
          "output_type": "stream",
          "text": [
            "Under-capitalized companies: 169,238 (86.1%)\n"
          ]
        }
      ],
      "source": [
        "# total under-capitalized companies\n",
        "under_cap_count = df['under_capitalized'].sum()\n",
        "under_cap_percent = (under_cap_count / len(df)) * 100\n",
        "\n",
        "print(f\"Under-capitalized companies: {under_cap_count:,} ({under_cap_percent:.1f}%)\")"
      ]
    },
    {
      "cell_type": "code",
      "execution_count": null,
      "metadata": {
        "id": "RbqPgfAjjjF_",
        "outputId": "5bc7689b-860a-48e7-eefc-db6a27f20dda"
      },
      "outputs": [
        {
          "data": {
            "text/plain": [
              "under_capitalized\n",
              "True     169238\n",
              "False     27315\n",
              "Name: count, dtype: int64"
            ]
          },
          "execution_count": 87,
          "metadata": {},
          "output_type": "execute_result"
        }
      ],
      "source": [
        "# Summary statistics for under_capitalized column\n",
        "df['under_capitalized'].value_counts(dropna=False)"
      ]
    },
    {
      "cell_type": "markdown",
      "metadata": {
        "id": "ZrWSGgkujjF_"
      },
      "source": [
        "## Step 3: Compare Populations\n",
        "\n",
        "```\n",
        "ALGORITHM: Population Comparison Analysis\n",
        "1. Split data into under_capitalized vs well_funded groups\n",
        "2. Generate descriptive statistics for each group\n",
        "3. Compare key metrics (mean, median, std, min, max)\n",
        "4. Identify funding gaps between populations\n",
        "\n",
        "EXPECTED OUTPUT:\n",
        "- Side-by-side statistical comparison\n",
        "- Key differences highlighted\n",
        "```\n",
        "\n",
        "Use pandas groupby() and describe() methods for comparative statistics."
      ]
    },
    {
      "cell_type": "code",
      "execution_count": null,
      "metadata": {
        "id": "6aTj5mbIjjF_",
        "outputId": "65365cc6-cf96-4941-a4f1-ebb7b4fe4856"
      },
      "outputs": [
        {
          "name": "stdout",
          "output_type": "stream",
          "text": [
            "Under-capitalized rows: 169,238\n",
            "Well-funded rows: 27,315\n"
          ]
        }
      ],
      "source": [
        "# Split data into under-capitalized vs well-funded groups\n",
        "under_cap = df[df['under_capitalized'] == True]\n",
        "well_funded = df[df['under_capitalized'] == False]\n",
        "\n",
        "print(f\"Under-capitalized rows: {len(under_cap):,}\")\n",
        "print(f\"Well-funded rows: {len(well_funded):,}\")"
      ]
    },
    {
      "cell_type": "code",
      "execution_count": null,
      "metadata": {
        "id": "X1_baC03jjF_",
        "outputId": "25ccc282-7b4b-4cab-ee98-837ddb08c005"
      },
      "outputs": [
        {
          "name": "stdout",
          "output_type": "stream",
          "text": [
            "Under-capitalized stats:\n",
            "count      559.000000\n",
            "mean     11530.096601\n",
            "std       5392.753633\n",
            "min        291.000000\n",
            "25%       8000.000000\n",
            "50%      11700.000000\n",
            "75%      15000.000000\n",
            "max      19616.000000\n",
            "Name: funding_total_usd, dtype: float64\n",
            "\n",
            "Well-funded stats:\n",
            "count    2.731500e+04\n",
            "mean     1.511950e+07\n",
            "std      6.841578e+07\n",
            "min      1.965400e+04\n",
            "25%      6.000000e+05\n",
            "50%      2.775000e+06\n",
            "75%      1.130000e+07\n",
            "max      5.700000e+09\n",
            "Name: funding_total_usd, dtype: float64\n"
          ]
        }
      ],
      "source": [
        "# Generate descriptive statistics for each group\n",
        "under_cap_stats = under_cap['funding_total_usd'].describe()\n",
        "well_funded_stats = well_funded['funding_total_usd'].describe()\n",
        "\n",
        "print(f\"Under-capitalized stats:\\n{under_cap_stats}\\n\")\n",
        "print(f\"Well-funded stats:\\n{well_funded_stats}\")"
      ]
    },
    {
      "cell_type": "code",
      "execution_count": null,
      "metadata": {
        "id": "N4aBks6mjjGA",
        "outputId": "0edce8db-4941-45e5-cb7f-9d856db1f476"
      },
      "outputs": [
        {
          "data": {
            "text/html": [
              "<div>\n",
              "<style scoped>\n",
              "    .dataframe tbody tr th:only-of-type {\n",
              "        vertical-align: middle;\n",
              "    }\n",
              "\n",
              "    .dataframe tbody tr th {\n",
              "        vertical-align: top;\n",
              "    }\n",
              "\n",
              "    .dataframe thead th {\n",
              "        text-align: right;\n",
              "    }\n",
              "</style>\n",
              "<table border=\"1\" class=\"dataframe\">\n",
              "  <thead>\n",
              "    <tr style=\"text-align: right;\">\n",
              "      <th></th>\n",
              "      <th>mean</th>\n",
              "      <th>median</th>\n",
              "      <th>std</th>\n",
              "      <th>min</th>\n",
              "      <th>max</th>\n",
              "    </tr>\n",
              "    <tr>\n",
              "      <th>under_capitalized</th>\n",
              "      <th></th>\n",
              "      <th></th>\n",
              "      <th></th>\n",
              "      <th></th>\n",
              "      <th></th>\n",
              "    </tr>\n",
              "  </thead>\n",
              "  <tbody>\n",
              "    <tr>\n",
              "      <th>Well-Funded</th>\n",
              "      <td>1.511950e+07</td>\n",
              "      <td>2775000.0</td>\n",
              "      <td>6.841578e+07</td>\n",
              "      <td>19654.0</td>\n",
              "      <td>5.700000e+09</td>\n",
              "    </tr>\n",
              "    <tr>\n",
              "      <th>Under-Capitalized</th>\n",
              "      <td>1.153010e+04</td>\n",
              "      <td>11700.0</td>\n",
              "      <td>5.392754e+03</td>\n",
              "      <td>291.0</td>\n",
              "      <td>1.961600e+04</td>\n",
              "    </tr>\n",
              "  </tbody>\n",
              "</table>\n",
              "</div>"
            ],
            "text/plain": [
              "                           mean     median           std      min  \\\n",
              "under_capitalized                                                   \n",
              "Well-Funded        1.511950e+07  2775000.0  6.841578e+07  19654.0   \n",
              "Under-Capitalized  1.153010e+04    11700.0  5.392754e+03    291.0   \n",
              "\n",
              "                            max  \n",
              "under_capitalized                \n",
              "Well-Funded        5.700000e+09  \n",
              "Under-Capitalized  1.961600e+04  "
            ]
          },
          "execution_count": 90,
          "metadata": {},
          "output_type": "execute_result"
        }
      ],
      "source": [
        "# Compare key metrics and identify funding gaps between groups\n",
        "group_stats = df.groupby('under_capitalized')['funding_total_usd'].describe()[['mean', '50%', 'std', 'min', 'max']]\n",
        "group_stats.rename(index={True: 'Under-Capitalized', False: 'Well-Funded'}, inplace=True)\n",
        "group_stats.rename(columns={'50%': 'median'}, inplace=True)\n",
        "\n",
        "group_stats"
      ]
    },
    {
      "cell_type": "markdown",
      "metadata": {
        "id": "oC7MSYJZjjGA"
      },
      "source": [
        "# 2. Success/Failure Proxy Analysis"
      ]
    },
    {
      "cell_type": "markdown",
      "metadata": {
        "id": "CDuv9B0tjjGA"
      },
      "source": [
        "## Step 1: Analyze Status Distribution\n",
        "\n",
        "```\n",
        "ALGORITHM: Status Category Analysis\n",
        "1. Count frequency of each status value\n",
        "2. Calculate percentage distribution\n",
        "3. Display formatted status breakdown\n",
        "4. Identify most/least common statuses\n",
        "\n",
        "EXPECTED OUTPUT:\n",
        "- Status distribution table with counts and percentages\n",
        "- Key patterns identified (e.g., \"operating\" dominance)\n",
        "```\n",
        "\n",
        "value_counts() for the win here."
      ]
    },
    {
      "cell_type": "code",
      "execution_count": null,
      "metadata": {
        "id": "x0p4wYIDjjGA",
        "outputId": "558d5e71-6182-4632-dca7-dca9dc480ee9"
      },
      "outputs": [
        {
          "data": {
            "text/html": [
              "<div>\n",
              "<style scoped>\n",
              "    .dataframe tbody tr th:only-of-type {\n",
              "        vertical-align: middle;\n",
              "    }\n",
              "\n",
              "    .dataframe tbody tr th {\n",
              "        vertical-align: top;\n",
              "    }\n",
              "\n",
              "    .dataframe thead th {\n",
              "        text-align: right;\n",
              "    }\n",
              "</style>\n",
              "<table border=\"1\" class=\"dataframe\">\n",
              "  <thead>\n",
              "    <tr style=\"text-align: right;\">\n",
              "      <th></th>\n",
              "      <th>count</th>\n",
              "      <th>percent</th>\n",
              "    </tr>\n",
              "    <tr>\n",
              "      <th>status</th>\n",
              "      <th></th>\n",
              "      <th></th>\n",
              "    </tr>\n",
              "  </thead>\n",
              "  <tbody>\n",
              "    <tr>\n",
              "      <th>operating</th>\n",
              "      <td>183441</td>\n",
              "      <td>93.33</td>\n",
              "    </tr>\n",
              "    <tr>\n",
              "      <th>acquired</th>\n",
              "      <td>9394</td>\n",
              "      <td>4.78</td>\n",
              "    </tr>\n",
              "    <tr>\n",
              "      <th>closed</th>\n",
              "      <td>2584</td>\n",
              "      <td>1.31</td>\n",
              "    </tr>\n",
              "    <tr>\n",
              "      <th>ipo</th>\n",
              "      <td>1134</td>\n",
              "      <td>0.58</td>\n",
              "    </tr>\n",
              "  </tbody>\n",
              "</table>\n",
              "</div>"
            ],
            "text/plain": [
              "            count  percent\n",
              "status                    \n",
              "operating  183441    93.33\n",
              "acquired     9394     4.78\n",
              "closed       2584     1.31\n",
              "ipo          1134     0.58"
            ]
          },
          "execution_count": 91,
          "metadata": {},
          "output_type": "execute_result"
        }
      ],
      "source": [
        "# Status distribution (counts + percentages)\n",
        "status_counts = df['status'].value_counts(dropna=False)\n",
        "status_percent = (df['status'].value_counts(normalize=True, dropna=False) * 100).round(2)\n",
        "\n",
        "status_dist = pd.DataFrame({'count': status_counts, 'percent': status_percent})\n",
        "status_dist = status_dist.sort_values('count', ascending=False)\n",
        "\n",
        "status_dist"
      ]
    },
    {
      "cell_type": "code",
      "execution_count": null,
      "metadata": {
        "id": "2gxTc_P-jjGA",
        "outputId": "8f6c6a31-17e4-434d-d342-150d95c28872"
      },
      "outputs": [
        {
          "name": "stdout",
          "output_type": "stream",
          "text": [
            "Most common status: operating\n",
            "Least common status: ipo\n"
          ]
        }
      ],
      "source": [
        "# Identify most and least common statuses\n",
        "most_common = status_dist.index[0]\n",
        "least_common = status_dist.index[3]\n",
        "\n",
        "print(f\"Most common status: {most_common}\")\n",
        "print(f\"Least common status: {least_common}\")"
      ]
    },
    {
      "cell_type": "markdown",
      "metadata": {
        "id": "0Md_-auGjjGA"
      },
      "source": [
        "## Step 2: Create Success/Failure Categories\n",
        "\n",
        "```\n",
        "ALGORITHM: Success Proxy Variable Creation\n",
        "1. Define category mappings:\n",
        "   - SUCCESS: ['acquired', 'ipo']\n",
        "   - FAILURE: ['closed']\n",
        "   - ACTIVE: ['operating']\n",
        "   - UNKNOWN: all others\n",
        "2. Apply mapping to create success_category column\n",
        "3. Validate mapping completeness\n",
        "4. Display new category distribution\n",
        "\n",
        "EXPECTED OUTPUT:\n",
        "- success_category column added\n",
        "- Clear success/failure/active/unknown breakdown\n",
        "```\n",
        "\n",
        "Take advantage of pandas .map() or .apply() functions"
      ]
    },
    {
      "cell_type": "code",
      "execution_count": null,
      "metadata": {
        "id": "6ClPCNa4jjGA",
        "outputId": "5a363c14-ee14-4cde-988e-384d03c0855e"
      },
      "outputs": [
        {
          "data": {
            "text/html": [
              "<div>\n",
              "<style scoped>\n",
              "    .dataframe tbody tr th:only-of-type {\n",
              "        vertical-align: middle;\n",
              "    }\n",
              "\n",
              "    .dataframe tbody tr th {\n",
              "        vertical-align: top;\n",
              "    }\n",
              "\n",
              "    .dataframe thead th {\n",
              "        text-align: right;\n",
              "    }\n",
              "</style>\n",
              "<table border=\"1\" class=\"dataframe\">\n",
              "  <thead>\n",
              "    <tr style=\"text-align: right;\">\n",
              "      <th></th>\n",
              "      <th>status</th>\n",
              "      <th>success_category</th>\n",
              "    </tr>\n",
              "  </thead>\n",
              "  <tbody>\n",
              "    <tr>\n",
              "      <th>0</th>\n",
              "      <td>operating</td>\n",
              "      <td>ACTIVE</td>\n",
              "    </tr>\n",
              "    <tr>\n",
              "      <th>1</th>\n",
              "      <td>acquired</td>\n",
              "      <td>SUCCESS</td>\n",
              "    </tr>\n",
              "    <tr>\n",
              "      <th>2</th>\n",
              "      <td>acquired</td>\n",
              "      <td>SUCCESS</td>\n",
              "    </tr>\n",
              "    <tr>\n",
              "      <th>3</th>\n",
              "      <td>operating</td>\n",
              "      <td>ACTIVE</td>\n",
              "    </tr>\n",
              "    <tr>\n",
              "      <th>4</th>\n",
              "      <td>operating</td>\n",
              "      <td>ACTIVE</td>\n",
              "    </tr>\n",
              "  </tbody>\n",
              "</table>\n",
              "</div>"
            ],
            "text/plain": [
              "      status success_category\n",
              "0  operating           ACTIVE\n",
              "1   acquired          SUCCESS\n",
              "2   acquired          SUCCESS\n",
              "3  operating           ACTIVE\n",
              "4  operating           ACTIVE"
            ]
          },
          "execution_count": 93,
          "metadata": {},
          "output_type": "execute_result"
        }
      ],
      "source": [
        "# category mappings\n",
        "status_map = {\n",
        "    'acquired': 'SUCCESS',\n",
        "    'ipo': 'SUCCESS',\n",
        "    'closed': 'FAILURE',\n",
        "    'operating': 'ACTIVE'}\n",
        "\n",
        "# Others = UNKNOWN\n",
        "df['success_category'] = df['status'].map(status_map).fillna('UNKNOWN')\n",
        "\n",
        "df[['status', 'success_category']].head()"
      ]
    },
    {
      "cell_type": "code",
      "execution_count": null,
      "metadata": {
        "id": "zuxedX_GjjGA",
        "outputId": "ce9a7b08-f7c1-454b-978d-845fd93e9e33"
      },
      "outputs": [
        {
          "data": {
            "text/plain": [
              "np.int64(0)"
            ]
          },
          "execution_count": 94,
          "metadata": {},
          "output_type": "execute_result"
        }
      ],
      "source": [
        "#Validate mapping completeness\n",
        "df['success_category'].isna().sum()"
      ]
    },
    {
      "cell_type": "code",
      "execution_count": null,
      "metadata": {
        "id": "SxlSqqtsjjGB",
        "outputId": "dabc1a13-03b3-4ae3-d66d-2228b6037d4c"
      },
      "outputs": [
        {
          "data": {
            "text/plain": [
              "success_category\n",
              "ACTIVE     183441\n",
              "SUCCESS     10528\n",
              "FAILURE      2584\n",
              "Name: count, dtype: int64"
            ]
          },
          "execution_count": 95,
          "metadata": {},
          "output_type": "execute_result"
        }
      ],
      "source": [
        "# Display new category distribution\n",
        "df['success_category'].value_counts()"
      ]
    },
    {
      "cell_type": "markdown",
      "metadata": {
        "id": "sQ81yUR9jjGB"
      },
      "source": [
        "## Step 3: Calculate Success Rates by Population\n",
        "\n",
        "```\n",
        "ALGORITHM: Success Rate Analysis\n",
        "1. Calculate overall success rate (success / (success + failure))\n",
        "2. Filter to under-capitalized companies → calculate success rate\n",
        "3. Filter to well-funded companies → calculate success rate  \n",
        "4. Compare rates between populations\n",
        "5. Statistical significance assessment\n",
        "\n",
        "EXPECTED OUTPUT:\n",
        "- Overall Success Rate: XX.X%\n",
        "- Under-cap Success Rate: XX.X%\n",
        "- Well-funded Success Rate: XX.X%\n",
        "- Success gap analysis\n",
        "```\n",
        "\n",
        "Use pandas groupby() and aggregation functions to compute success rates"
      ]
    },
    {
      "cell_type": "code",
      "execution_count": null,
      "metadata": {
        "id": "coJv3-aCjjGB",
        "outputId": "1357fb1d-b628-4f81-80b4-7559df0db6f9"
      },
      "outputs": [
        {
          "name": "stdout",
          "output_type": "stream",
          "text": [
            "Overall Success Rate: 80.29%\n"
          ]
        }
      ],
      "source": [
        "# Calculate overall success rate\n",
        "total_success = (df['success_category'] == 'SUCCESS').sum()\n",
        "total_failure = (df['success_category'] == 'FAILURE').sum()\n",
        "\n",
        "overall_success_rate = total_success / (total_success + total_failure)\n",
        "print(f\"Overall Success Rate: {overall_success_rate:.2%}\")"
      ]
    },
    {
      "cell_type": "code",
      "execution_count": null,
      "metadata": {
        "id": "OaSQYemHjjGB",
        "outputId": "74663571-d9d7-4294-9b0e-308e0f8dc81b"
      },
      "outputs": [
        {
          "name": "stdout",
          "output_type": "stream",
          "text": [
            "Under-Capitalized Success Rate: 89.22%\n"
          ]
        }
      ],
      "source": [
        "# Success rate for under-capitalized companies\n",
        "under_capitalized  = df[df['under_capitalized'] == True]\n",
        "\n",
        "under_success = (under_capitalized ['success_category'] == 'SUCCESS').sum()\n",
        "under_failure = (under_capitalized ['success_category'] == 'FAILURE').sum()\n",
        "\n",
        "under_success_rate = under_success / (under_success + under_failure)\n",
        "print(f\"Under-Capitalized Success Rate: {under_success_rate:.2%}\")"
      ]
    },
    {
      "cell_type": "code",
      "execution_count": null,
      "metadata": {
        "id": "ftjUgrbTjjGB",
        "outputId": "5005ed77-af20-47f4-808a-a286943c68bd"
      },
      "outputs": [
        {
          "name": "stdout",
          "output_type": "stream",
          "text": [
            "Well-Funded Success Rate: 62.90%\n"
          ]
        }
      ],
      "source": [
        "# Success rate for well-funded companies\n",
        "well_funded = df[df['under_capitalized'] == False]\n",
        "\n",
        "well_success = (well_funded['success_category'] == 'SUCCESS').sum()\n",
        "well_failure = (well_funded['success_category'] == 'FAILURE').sum()\n",
        "\n",
        "well_success_rate = well_success / (well_success + well_failure)\n",
        "print(f\"Well-Funded Success Rate: {well_success_rate:.2%}\")"
      ]
    },
    {
      "cell_type": "code",
      "execution_count": null,
      "metadata": {
        "id": "BIElf-JDjjGC",
        "outputId": "6fb1542f-9b44-4063-cc93-1cd482cd5813"
      },
      "outputs": [
        {
          "name": "stdout",
          "output_type": "stream",
          "text": [
            "Overall Success Rate: 80.29%\n",
            "Under-Capitalized Success Rate: 89.22%\n",
            "Well-Funded Success Rate: 62.90%\n",
            "Success Rate Gap: 26.32%\n"
          ]
        }
      ],
      "source": [
        "# Compare rates between populations\n",
        "gap = under_success_rate - well_success_rate\n",
        "\n",
        "print(f\"Overall Success Rate: {overall_success_rate:.2%}\")\n",
        "print(f\"Under-Capitalized Success Rate: {under_success_rate:.2%}\")\n",
        "print(f\"Well-Funded Success Rate: {well_success_rate:.2%}\")\n",
        "print(f\"Success Rate Gap: {gap:.2%}\")"
      ]
    },
    {
      "cell_type": "code",
      "execution_count": null,
      "metadata": {
        "id": "JK4e0JNhjjGC",
        "outputId": "e31506b1-f5b6-4fb2-cb15-01e292e1be2a"
      },
      "outputs": [
        {
          "name": "stdout",
          "output_type": "stream",
          "text": [
            "Overall Success Rate: 80.29%\n",
            "Under-Capitalized Success Rate: 89.22%\n",
            "Overall Success Rate: 80.29%\n",
            "Under-Capitalized Success Rate: 89.22%\n",
            "Well-Funded Success Rate: 62.90%\n",
            "Success Rate Gap: 26.32%\n"
          ]
        }
      ],
      "source": [
        "# Calculate overall success rate\n",
        "total_success = (df['success_category'] == 'SUCCESS').sum()\n",
        "total_failure = (df['success_category'] == 'FAILURE').sum()\n",
        "\n",
        "overall_success_rate = total_success / (total_success + total_failure)\n",
        "print(f\"Overall Success Rate: {overall_success_rate:.2%}\")\n",
        "\n",
        "# Success rate for under-capitalized companies\n",
        "under_capitalized  = df[df['under_capitalized'] == True]\n",
        "\n",
        "under_success = (under_capitalized ['success_category'] == 'SUCCESS').sum()\n",
        "under_failure = (under_capitalized ['success_category'] == 'FAILURE').sum()\n",
        "\n",
        "under_success_rate = under_success / (under_success + under_failure)\n",
        "print(f\"Under-Capitalized Success Rate: {under_success_rate:.2%}\")\n",
        "\n",
        "# Compare rates between populations\n",
        "gap = under_success_rate - well_success_rate\n",
        "\n",
        "print(f\"Overall Success Rate: {overall_success_rate:.2%}\")\n",
        "print(f\"Under-Capitalized Success Rate: {under_success_rate:.2%}\")\n",
        "print(f\"Well-Funded Success Rate: {well_success_rate:.2%}\")\n",
        "print(f\"Success Rate Gap: {gap:.2%}\")"
      ]
    },
    {
      "cell_type": "markdown",
      "metadata": {
        "id": "JRnJUKWTjjGS"
      },
      "source": [
        "The overall success rate was 80.29%.\n",
        "Under-capitalized companies had a success rate of 89.22%, and well-funded companies had 62.90%.\n",
        "That’s a 26.32% gap between the two groups.\n",
        "This means in our data, under-capitalized startups were more likely to succeed.\n",
        "\n",
        "\n",
        "The higher success rate for under-capitalized companies might be because many of them have missing or zero funding values, and some of those companies still show “acquired” or “IPO” statuses."
      ]
    },
    {
      "cell_type": "markdown",
      "metadata": {
        "id": "THSIzTlBjjGT"
      },
      "source": [
        "# 3. Geographic Patterns for Heatmap Prep"
      ]
    },
    {
      "cell_type": "markdown",
      "metadata": {
        "id": "pubyt0bCjjGT"
      },
      "source": [
        "## Step 1: Analyze Geographic Distribution\n",
        "\n",
        "```\n",
        "ALGORITHM: Geographic Coverage Analysis\n",
        "1. Count companies by country_code (focus on 'usa')\n",
        "2. Calculate US company percentage of total dataset\n",
        "3. Identify international vs domestic distribution\n",
        "4. Assess geographic data completeness\n",
        "\n",
        "EXPECTED OUTPUT:\n",
        "- Top 10 countries by startup count\n",
        "- US market dominance percentage\n",
        "- International market insights\n",
        "Use pandas groupby() and aggregation functions to compute geographic distributions\n",
        "```"
      ]
    },
    {
      "cell_type": "code",
      "execution_count": null,
      "metadata": {
        "id": "L3gRFXBJjjGT",
        "outputId": "ce5247b5-2700-4799-bd58-93fe613f8548"
      },
      "outputs": [
        {
          "name": "stdout",
          "output_type": "stream",
          "text": [
            "Top 10 Countries by Startup Count:\n",
            "country_code\n",
            "USA    51637\n",
            "GBR     7372\n",
            "IND     3924\n",
            "CAN     3728\n",
            "DEU     1921\n",
            "FRA     1652\n",
            "AUS     1455\n",
            "ESP     1100\n",
            "IRL     1079\n",
            "ISR     1042\n",
            "Name: count, dtype: int64\n",
            "\n",
            "US Market Dominance:\n",
            "  - US Companies: 51,637\n",
            "  - Total Companies: 196,553\n",
            "  - US Percentage: 26.3%\n",
            "\n",
            "International Distribution:\n",
            "  - International Companies: 144,916\n",
            "  - International Percentage: 73.7%\n",
            "\n",
            "Geographic Data Completeness:\n",
            "  - Missing Country Code: 108,563 (55.2%)\n"
          ]
        }
      ],
      "source": [
        "# Count companies by country\n",
        "country_counts = df['country_code'].value_counts()\n",
        "print(\"Top 10 Countries by Startup Count:\")\n",
        "print(country_counts.head(10))\n",
        "\n",
        "# Calculate US dominance\n",
        "total_companies = len(df)\n",
        "us_companies = country_counts.get('USA', 0)\n",
        "us_percentage = (us_companies / total_companies) * 100\n",
        "\n",
        "print(f\"\\nUS Market Dominance:\")\n",
        "print(f\"  - US Companies: {us_companies:,}\")\n",
        "print(f\"  - Total Companies: {total_companies:,}\")\n",
        "print(f\"  - US Percentage: {us_percentage:.1f}%\")\n",
        "\n",
        "# International distribution\n",
        "intl_companies = total_companies - us_companies\n",
        "intl_percentage = (intl_companies / total_companies) * 100\n",
        "print(f\"\\nInternational Distribution:\")\n",
        "print(f\"  - International Companies: {intl_companies:,}\")\n",
        "print(f\"  - International Percentage: {intl_percentage:.1f}%\")\n",
        "\n",
        "# Geographic data completeness\n",
        "missing_country = df['country_code'].isna().sum()\n",
        "missing_country_pct = (missing_country / total_companies) * 100\n",
        "print(f\"\\nGeographic Data Completeness:\")\n",
        "print(f\"  - Missing Country Code: {missing_country:,} ({missing_country_pct:.1f}%)\")"
      ]
    },
    {
      "cell_type": "markdown",
      "metadata": {
        "id": "S9Lf_Y5ujjGT"
      },
      "source": [
        "## Step 2: US State Analysis\n",
        "\n",
        "```\n",
        "ALGORITHM: State-Level Distribution Analysis\n",
        "1. Filter dataset to US companies only\n",
        "2. Count companies by state_code\n",
        "3. Rank states by startup concentration\n",
        "4. Calculate missing state data percentage\n",
        "5. Identify data quality issues\n",
        "\n",
        "EXPECTED OUTPUT:\n",
        "- Top 15 states ranked by company count\n",
        "- State coverage completeness metrics\n",
        "- Missing data patterns identified\n",
        "```"
      ]
    },
    {
      "cell_type": "code",
      "execution_count": null,
      "metadata": {
        "id": "vWt5zVs8jjGT",
        "outputId": "c09beef9-8212-4268-bc41-494b6d1a86ad"
      },
      "outputs": [
        {
          "name": "stdout",
          "output_type": "stream",
          "text": [
            "Total US Companies: 51,637\n",
            "\n",
            "Top 15 States by Company Count:\n",
            "state_code\n",
            "CA    16447\n",
            "NY     5716\n",
            "MA     2933\n",
            "TX     2802\n",
            "FL     2149\n",
            "WA     1887\n",
            "IL     1736\n",
            "PA     1320\n",
            "NJ     1179\n",
            "CO     1172\n",
            "VA     1156\n",
            "GA     1119\n",
            "NC      843\n",
            "MD      770\n",
            "AZ      755\n",
            "Name: count, dtype: int64\n",
            "\n",
            "State Data Completeness:\n",
            "  - US Companies with State Code: 50,662\n",
            "  - US Companies Missing State: 975 (1.9%)\n"
          ]
        }
      ],
      "source": [
        "# Filter to US companies\n",
        "us_df = df[df['country_code'] == 'USA'].copy()\n",
        "print(f\"Total US Companies: {len(us_df):,}\")\n",
        "\n",
        "# Count by state\n",
        "state_counts = us_df['state_code'].value_counts()\n",
        "print(\"\\nTop 15 States by Company Count:\")\n",
        "print(state_counts.head(15))\n",
        "\n",
        "# Missing state data\n",
        "missing_state = us_df['state_code'].isna().sum()\n",
        "missing_state_pct = (missing_state / len(us_df)) * 100\n",
        "print(f\"\\nState Data Completeness:\")\n",
        "print(f\"  - US Companies with State Code: {len(us_df) - missing_state:,}\")\n",
        "print(f\"  - US Companies Missing State: {missing_state:,} ({missing_state_pct:.1f}%)\")"
      ]
    },
    {
      "cell_type": "markdown",
      "metadata": {
        "id": "2roJauf8jjGT"
      },
      "source": [
        "## Step 3: Geographic Success Patterns\n",
        "\n",
        "```\n",
        "ALGORITHM: State Success Rate Analysis\n",
        "1. FOR each top 10 state:\n",
        "   a. Filter companies in that state\n",
        "   b. Calculate success rate (success/(success+failure))\n",
        "   c. Calculate under-capitalized percentage  \n",
        "   d. Assess sample size adequacy\n",
        "2. Rank states by success metrics\n",
        "3. Identify geographic opportunity patterns\n",
        "\n",
        "EXPECTED OUTPUT:\n",
        "- State-by-state success rate table\n",
        "- Under-cap concentration by geography\n",
        "- Geographic opportunity hotspots identified\n",
        "```"
      ]
    },
    {
      "cell_type": "code",
      "execution_count": null,
      "metadata": {
        "id": "iiNksFmmjjGT",
        "outputId": "60c6a475-0089-4156-c881-8282a63002ad"
      },
      "outputs": [
        {
          "name": "stdout",
          "output_type": "stream",
          "text": [
            "State Success Rate Rankings (Top 10 States):\n",
            "State  Total_Companies  Success_Count  Failure_Count  Active_Count  Success_Rate_%  Undercap_Count  Undercap_%\n",
            "   NJ             1179            160             18          1001       89.887640             853   72.349449\n",
            "   MA             2933            486             73          2374       86.940966            1481   50.494374\n",
            "   IL             1736            182             38          1516       82.727273            1316   75.806452\n",
            "   WA             1887            229             48          1610       82.671480            1202   63.698993\n",
            "   TX             2802            310             66          2426       82.446809            1941   69.271949\n",
            "   CO             1172            148             32           992       82.222222             718   61.262799\n",
            "   FL             2149            158             35          1956       81.865285            1684   78.362029\n",
            "   PA             1320            145             38          1137       79.234973             845   64.015152\n",
            "   CA            16447           2122            577         13748       78.621712            9917   60.296711\n",
            "   NY             5716            497            139          5080       78.144654            3907   68.351994\n",
            "\n",
            "Key Geographic Insights:\n",
            "  - Highest Success Rate: NJ (89.9%)\n",
            "  - Most Companies: CA (16,447 companies)\n"
          ]
        }
      ],
      "source": [
        "# Get top 10 states\n",
        "top_10_states = state_counts.head(10).index\n",
        "\n",
        "# Analyze each state\n",
        "state_analysis = []\n",
        "for state in top_10_states:\n",
        "    state_data = df[(df['country_code'] == 'USA') & (df['state_code'] == state)].copy()\n",
        "\n",
        "    total = len(state_data)\n",
        "    success_count = len(state_data[state_data['success_category'] == 'SUCCESS'])\n",
        "    failure_count = len(state_data[state_data['success_category'] == 'FAILURE'])\n",
        "    active_count = len(state_data[state_data['success_category'] == 'ACTIVE'])\n",
        "\n",
        "    # Calculate success rate (excluding active/unknown)\n",
        "    resolved = success_count + failure_count\n",
        "    success_rate = (success_count / resolved * 100) if resolved > 0 else np.nan\n",
<<<<<<< Updated upstream
<<<<<<< Updated upstream
        "\n",
        "    # Calculate under-capitalized percentage\n",
        "    # First, determine 2% threshold\n",
        "    funding_values = df['funding_total_usd'].dropna()\n",
        "    threshold_2pct = funding_values.quantile(0.02)\n",
        "\n",
        "    # Under-capitalized flag\n",
        "    state_data['under_capitalized'] = (\n",
        "        (state_data['funding_total_usd'] <= threshold_2pct) |\n",
        "        (state_data['funding_total_usd'].isna()) |\n",
        "        (state_data['funding_total_usd'] == 0)\n",
        "    )\n",
        "\n",
=======
        "    \n",
        "    # Calculate under-capitalized percentage (using existing column)\n",
>>>>>>> Stashed changes
=======
        "    \n",
        "    # Calculate under-capitalized percentage (using existing column)\n",
>>>>>>> Stashed changes
        "    undercap_count = state_data['under_capitalized'].sum()\n",
        "    undercap_pct = (undercap_count / total * 100) if total > 0 else 0\n",
        "\n",
        "    state_analysis.append({\n",
        "        'State': state,\n",
        "        'Total_Companies': total,\n",
        "        'Success_Count': success_count,\n",
        "        'Failure_Count': failure_count,\n",
        "        'Active_Count': active_count,\n",
        "        'Success_Rate_%': success_rate,\n",
        "        'Undercap_Count': undercap_count,\n",
        "        'Undercap_%': undercap_pct\n",
        "    })\n",
        "\n",
        "state_df = pd.DataFrame(state_analysis)\n",
        "state_df = state_df.sort_values('Success_Rate_%', ascending=False)\n",
        "\n",
        "print(\"State Success Rate Rankings (Top 10 States):\")\n",
        "print(state_df.to_string(index=False))\n",
        "\n",
        "print(\"\\nKey Geographic Insights:\")\n",
        "top_success_state = state_df.iloc[0]\n",
        "print(f\"  - Highest Success Rate: {top_success_state['State']} ({top_success_state['Success_Rate_%']:.1f}%)\")\n",
        "print(f\"  - Most Companies: {state_counts.index[0]} ({state_counts.iloc[0]:,} companies)\")"
      ]
    },
    {
      "cell_type": "markdown",
      "metadata": {
        "id": "PslJJ05IjjGU"
      },
      "source": [
        "## Step 4: Geographic Data Quality Assessment\n",
        "\n",
        "```\n",
        "ALGORITHM: Data Standardization Assessment\n",
        "1. Examine state_code format consistency\n",
        "2. Identify non-standard state codes (length ≠ 2)\n",
        "3. Check for full state names vs abbreviations\n",
        "4. Assess region data completeness\n",
        "5. Document cleaning requirements\n",
        "\n",
        "EXPECTED OUTPUT:\n",
        "- Data quality issues inventory\n",
        "- Standardization requirements list\n",
        "- Geographic coverage gaps identified\n",
        "```"
      ]
    },
    {
      "cell_type": "code",
      "execution_count": null,
      "metadata": {
        "id": "zrO--py6jjGU",
        "outputId": "b7807b65-6cd1-4f48-82a3-f7457238dca0"
      },
      "outputs": [
        {
          "name": "stdout",
          "output_type": "stream",
          "text": [
            "Total US State Codes: 50,662\n",
            "Non-standard State Codes (length ≠ 2): 0\n",
            "\n",
            "Region Data Completeness:\n",
            "  - Total Companies: 196,553\n",
            "  - Companies with Region: 196,553\n",
            "  - Missing Region: 0\n",
            "  - Unique Regions: 5,847\n"
          ]
        }
      ],
      "source": [
        "# Check state code format\n",
        "us_states = us_df['state_code'].dropna()\n",
        "print(f\"Total US State Codes: {len(us_states):,}\")\n",
        "\n",
        "# Check for non-standard codes\n",
        "state_lengths = us_states.str.len()\n",
        "non_standard = us_states[state_lengths != 2]\n",
        "print(f\"Non-standard State Codes (length ≠ 2): {len(non_standard)}\")\n",
        "\n",
        "if len(non_standard) > 0:\n",
        "    print(\"\\nSample Non-standard Codes:\")\n",
        "    print(non_standard.value_counts().head(10))\n",
        "\n",
        "# Check region data\n",
        "print(f\"\\nRegion Data Completeness:\")\n",
        "print(f\"  - Total Companies: {len(df):,}\")\n",
        "print(f\"  - Companies with Region: {df['region'].notna().sum():,}\")\n",
        "print(f\"  - Missing Region: {df['region'].isna().sum():,}\")\n",
        "\n",
        "# Unique regions\n",
        "unique_regions = df['region'].nunique()\n",
        "print(f\"  - Unique Regions: {unique_regions:,}\")"
      ]
    },
    {
      "cell_type": "markdown",
      "metadata": {
        "id": "HWh5Je1ZjjGU"
      },
      "source": [
        "# 4. Industry Growth Preliminary Analysis"
      ]
    },
    {
      "cell_type": "markdown",
      "metadata": {
        "id": "EKYGTIb-jjGU"
      },
      "source": [
        "## Step 1: Industry Distribution Analysis\n",
        "\n",
        "```\n",
        "ALGORITHM: Industry Concentration Assessment\n",
        "1. Count companies by category_code\n",
        "2. Rank top 20 industries by company count\n",
        "3. Calculate market concentration metrics:\n",
        "   - Top 5 industries market share\n",
        "   - Top 10 industries market share  \n",
        "4. Assess industry diversity vs concentration\n",
        "\n",
        "EXPECTED OUTPUT:\n",
        "- Industry ranking table (top 20)\n",
        "- Market concentration percentages\n",
        "- Industry diversity assessment\n",
        "```"
      ]
    },
    {
      "cell_type": "code",
      "execution_count": null,
      "metadata": {
        "id": "A0zqY1J0jjGU",
        "outputId": "abd0a0dc-b594-4ead-a322-f579b74ef60b"
      },
      "outputs": [
        {
          "name": "stdout",
          "output_type": "stream",
          "text": [
            "Top 20 Industries by Company Count:\n",
            "category_code\n",
            "software            17922\n",
            "web                 15118\n",
            "other               13617\n",
            "ecommerce            9065\n",
            "games_video          7520\n",
            "mobile               6862\n",
            "advertising          6098\n",
            "consulting           5006\n",
            "enterprise           4441\n",
            "biotech              4430\n",
            "hardware             2951\n",
            "education            2901\n",
            "public_relations     2846\n",
            "network_hosting      2350\n",
            "search               2182\n",
            "cleantech            1940\n",
            "health               1698\n",
            "finance              1386\n",
            "social               1310\n",
            "security             1171\n",
            "Name: count, dtype: int64\n",
            "\n",
            "Market Concentration Metrics:\n",
            "  - Total Companies with Category: 123,186\n",
            "  - Top 5 Industries Market Share: 51.3%\n",
            "  - Top 10 Industries Market Share: 73.1%\n",
            "  - Total Unique Industries: 42\n"
          ]
        }
      ],
      "source": [
        "# Count by industry\n",
        "industry_counts = df['category_code'].value_counts()\n",
        "print(\"Top 20 Industries by Company Count:\")\n",
        "print(industry_counts.head(20))\n",
        "\n",
        "# Market concentration\n",
        "total_with_category = df['category_code'].notna().sum()\n",
        "top_5_share = industry_counts.head(5).sum() / total_with_category * 100\n",
        "top_10_share = industry_counts.head(10).sum() / total_with_category * 100\n",
        "\n",
        "print(f\"\\nMarket Concentration Metrics:\")\n",
        "print(f\"  - Total Companies with Category: {total_with_category:,}\")\n",
        "print(f\"  - Top 5 Industries Market Share: {top_5_share:.1f}%\")\n",
        "print(f\"  - Top 10 Industries Market Share: {top_10_share:.1f}%\")\n",
        "\n",
        "# Industry diversity\n",
        "unique_industries = df['category_code'].nunique()\n",
        "print(f\"  - Total Unique Industries: {unique_industries}\")"
      ]
    },
    {
      "cell_type": "markdown",
      "metadata": {
        "id": "YIwV0SWHjjGU"
      },
      "source": [
        "## Step 2: Industry Success Patterns\n",
        "\n",
        "```\n",
        "ALGORITHM: Industry Performance Analysis\n",
        "1. FOR each top 15 industry:\n",
        "   a. Count total companies\n",
        "   b. Calculate success rate (where data available)\n",
        "   c. Calculate under-capitalized percentage\n",
        "   d. Calculate median funding amount\n",
        "   e. Store metrics in analysis array\n",
        "2. Sort industries by success rate\n",
        "3. Identify high-performing vs struggling sectors\n",
        "\n",
        "EXPECTED OUTPUT:  \n",
        "- Industry performance scorecard\n",
        "- Success rate rankings by sector\n",
        "- Under-cap opportunity identification\n",
        "```"
      ]
    },
    {
      "cell_type": "code",
      "execution_count": null,
      "metadata": {
        "id": "YurgMXWLjjGV",
        "outputId": "1ae47f83-2f7f-46d4-a0bd-93458639729e"
      },
      "outputs": [
        {
          "name": "stdout",
          "output_type": "stream",
          "text": [
            "Industry Performance Scorecard (Top 15 Industries):\n",
            "        Industry  Total_Companies  Success_Count  Failure_Count  Success_Rate_%  Undercap_Count  Undercap_%  Median_Funding_USD\n",
            "      enterprise             4441            463             68       87.193974            3025   68.115289           4332500.0\n",
            "         biotech             4430            702            117       85.714286            1342   30.293454           6300000.0\n",
            "      consulting             5006            157             31       83.510638            4739   94.666400           1910000.0\n",
            "        software            17922           1580            314       83.421331           13748   76.710189           2500500.0\n",
            "        hardware             2951            290             75       79.452055            1995   67.604202           3208104.0\n",
            "public_relations             2846            245             65       79.032258            2494   87.631764           4505000.0\n",
            "           other            13617            386            103       78.936605           13092   96.144525           1356210.0\n",
            "       education             2901             36             10       78.260870            2447   84.350224           1000000.0\n",
            "     advertising             6098            336             95       77.958237            5037   82.600853           3000000.0\n",
            " network_hosting             2350            231             66       77.777778            1903   80.978723           6250000.0\n",
            "          mobile             6862            465            172       72.998430            5076   73.972603           1750000.0\n",
            "     games_video             7520            373            201       64.982578            6379   84.827128           1960000.0\n",
            "       ecommerce             9065            296            161       64.770241            7774   85.758411           1286600.0\n",
            "             web            15118           1018            611       62.492327           12853   85.017860           1001841.0\n",
            "          search             2182             76             49       60.800000            1923   88.130156           1375000.0\n",
            "\n",
            "Key Industry Insights:\n",
            "  - Highest Success Rate: enterprise (87.2%)\n",
            "  - Lowest Success Rate: search (60.8%)\n"
          ]
        }
      ],
      "source": [
        "# Get top 15 industries\n",
        "top_15_industries = industry_counts.head(15).index\n",
        "\n",
        "# Analyze each industry (using existing two_percent threshold and columns)\n",
        "industry_analysis = []\n",
        "for industry in top_15_industries:\n",
        "    ind_data = df[df['category_code'] == industry].copy()\n",
        "\n",
        "    total = len(ind_data)\n",
        "    success_count = len(ind_data[ind_data['success_category'] == 'SUCCESS'])\n",
        "    failure_count = len(ind_data[ind_data['success_category'] == 'FAILURE'])\n",
        "\n",
        "    # Success rate\n",
        "    resolved = success_count + failure_count\n",
        "    success_rate = (success_count / resolved * 100) if resolved > 0 else np.nan\n",
<<<<<<< Updated upstream
<<<<<<< Updated upstream
        "\n",
        "    # Under-capitalized\n",
        "    ind_data['under_capitalized'] = (\n",
        "        (ind_data['funding_total_usd'] <= threshold_2pct) |\n",
        "        (ind_data['funding_total_usd'].isna()) |\n",
        "        (ind_data['funding_total_usd'] == 0)\n",
        "    )\n",
=======
        "    \n",
        "    # Under-capitalized (using existing column)\n",
>>>>>>> Stashed changes
=======
        "    \n",
        "    # Under-capitalized (using existing column)\n",
>>>>>>> Stashed changes
        "    undercap_count = ind_data['under_capitalized'].sum()\n",
        "    undercap_pct = (undercap_count / total * 100)\n",
        "\n",
        "    # Median funding\n",
        "    median_funding = ind_data['funding_total_usd'].median()\n",
        "\n",
        "    industry_analysis.append({\n",
        "        'Industry': industry,\n",
        "        'Total_Companies': total,\n",
        "        'Success_Count': success_count,\n",
        "        'Failure_Count': failure_count,\n",
        "        'Success_Rate_%': success_rate,\n",
        "        'Undercap_Count': undercap_count,\n",
        "        'Undercap_%': undercap_pct,\n",
        "        'Median_Funding_USD': median_funding\n",
        "    })\n",
        "\n",
        "industry_df = pd.DataFrame(industry_analysis)\n",
        "industry_df = industry_df.sort_values('Success_Rate_%', ascending=False)\n",
        "\n",
        "print(\"Industry Performance Scorecard (Top 15 Industries):\")\n",
        "print(industry_df.to_string(index=False))\n",
        "\n",
        "print(\"\\nKey Industry Insights:\")\n",
        "top_industry = industry_df.iloc[0]\n",
        "print(f\"  - Highest Success Rate: {top_industry['Industry']} ({top_industry['Success_Rate_%']:.1f}%)\")\n",
        "bottom_industry = industry_df[industry_df['Success_Rate_%'].notna()].iloc[-1]\n",
        "print(f\"  - Lowest Success Rate: {bottom_industry['Industry']} ({bottom_industry['Success_Rate_%']:.1f}%)\")"
      ]
    },
    {
      "cell_type": "markdown",
      "metadata": {
        "id": "hTpvj-BqjjGV"
      },
      "source": [
        "## Step 3: Under-Capitalized Industry Opportunities\n",
        "\n",
        "```\n",
        "ALGORITHM: Opportunity Sector Identification\n",
        "1. Count under-cap companies by industry\n",
        "2. Rank industries by under-cap population size\n",
        "3. Filter for \"mixed success\" industries (20-70% success rate, 50+ companies)\n",
        "4. Cross-reference high under-cap populations with mixed success\n",
        "5. Identify prime opportunity sectors for investment\n",
        "\n",
        "EXPECTED OUTPUT:\n",
        "- Industries with most under-cap companies (top 15)\n",
        "- Mixed-success industries list (risk profiling candidates)\n",
        "- Investment opportunity matrix\n",
        "```"
      ]
    },
    {
      "cell_type": "code",
      "execution_count": null,
      "metadata": {
        "id": "BDS1cq0yjjGW",
        "outputId": "12b18733-158f-4477-a9cb-6b3f8c37503f"
      },
      "outputs": [
        {
          "name": "stdout",
          "output_type": "stream",
          "text": [
            "Top 15 Industries with Most Under-Capitalized Companies:\n",
            "category_code\n",
            "software            13748\n",
            "other               13092\n",
            "web                 12853\n",
            "ecommerce            7774\n",
            "games_video          6379\n",
            "mobile               5076\n",
            "advertising          5037\n",
            "consulting           4739\n",
            "enterprise           3025\n",
            "public_relations     2494\n",
            "education            2447\n",
            "hardware             1995\n",
            "search               1923\n",
            "network_hosting      1903\n",
            "biotech              1342\n",
            "dtype: int64\n",
            "\n",
            "Mixed-Success Industries (20-70% success rate, 50+ companies):\n",
            "Total: 4 industries\n",
            "\n",
            "Industries:\n",
            "   Industry  Total_Companies  Success_Rate_%  Undercap_Count\n",
            "games_video             7520       64.982578            6379\n",
            "  ecommerce             9065       64.770241            7774\n",
            "        web            15118       62.492327           12853\n",
            "     search             2182       60.800000            1923\n",
            "\n",
            "Investment Opportunity Matrix:\n",
            "(High Under-cap Population + Mixed Success = Prime Opportunity)\n",
            "   Industry  Undercap_Count  Success_Rate_%\n",
            "        web           12853       62.492327\n",
            "  ecommerce            7774       64.770241\n",
            "games_video            6379       64.982578\n",
            "     search            1923       60.800000\n"
          ]
        }
      ],
      "source": [
        "# All industries under-cap ranking (using existing column)\n",
        "undercap_by_industry = df[df['under_capitalized']].groupby('category_code').size().sort_values(ascending=False)\n",
        "print(\"Top 15 Industries with Most Under-Capitalized Companies:\")\n",
        "print(undercap_by_industry.head(15))\n",
        "\n",
        "# Mixed success industries (20-70% success rate, 50+ companies)\n",
        "mixed_success = industry_df[\n",
        "    (industry_df['Success_Rate_%'] >= 20) &\n",
        "    (industry_df['Success_Rate_%'] <= 70) &\n",
        "    (industry_df['Total_Companies'] >= 50)\n",
        "].copy()\n",
        "\n",
        "print(f\"\\nMixed-Success Industries (20-70% success rate, 50+ companies):\")\n",
        "print(f\"Total: {len(mixed_success)} industries\")\n",
        "print(\"\\nIndustries:\")\n",
        "print(mixed_success[['Industry', 'Total_Companies', 'Success_Rate_%', 'Undercap_Count']].to_string(index=False))\n",
        "\n",
        "# Investment opportunity matrix\n",
        "print(\"\\nInvestment Opportunity Matrix:\")\n",
        "print(\"(High Under-cap Population + Mixed Success = Prime Opportunity)\")\n",
        "opportunity_industries = mixed_success.sort_values('Undercap_Count', ascending=False)\n",
        "print(opportunity_industries[['Industry', 'Undercap_Count', 'Success_Rate_%']].head(10).to_string(index=False))"
      ]
    },
    {
      "cell_type": "markdown",
      "metadata": {
        "id": "UEuViH73jjGW"
      },
      "source": [
        "## Step 4: Industry Data Quality Assessment\n",
        "\n",
        "```\n",
        "ALGORITHM: Category Consolidation Assessment\n",
        "1. Count unique category_code values\n",
        "2. Identify categories with <10 companies (consolidation candidates)\n",
        "3. Identify categories with <5 companies (merge required)  \n",
        "4. Sample small categories for consolidation planning\n",
        "5. Assess semantic similarity for grouping\n",
        "\n",
        "EXPECTED OUTPUT:\n",
        "- Total category count and fragmentation metrics\n",
        "- Small category consolidation list\n",
        "- Category grouping recommendations\n",
        "```"
      ]
    },
    {
      "cell_type": "code",
      "execution_count": null,
      "metadata": {
        "id": "y47Fed-BjjGW",
        "outputId": "cd398de4-6eef-4572-ff72-08b6bfc686ed"
      },
      "outputs": [
        {
          "name": "stdout",
          "output_type": "stream",
          "text": [
            "Total Unique Categories: 42\n",
            "\n",
            "Category Fragmentation Metrics:\n",
            "  - Categories with <10 companies: 0 (0.0%)\n",
            "  - Categories with <5 companies: 0 (0.0%)\n",
            "\n",
            "Smallest Categories (consolidation candidates):\n",
            "Series([], Name: count, dtype: int64)\n",
            "\n",
            "Category Grouping Recommendations:\n",
            "  - Consider consolidating categories with <10 companies\n",
            "  - Merge semantically similar categories (e.g., 'photo_video' could absorb small media categories)\n",
            "  - Create 'Other' category for <5 company categories\n",
            "  - Review industry taxonomy for overlap and redundancy\n"
          ]
        }
      ],
      "source": [
        "# Category fragmentation\n",
        "total_categories = df['category_code'].nunique()\n",
        "print(f\"Total Unique Categories: {total_categories}\")\n",
        "\n",
        "# Small categories\n",
        "category_sizes = df['category_code'].value_counts()\n",
        "small_cats_10 = category_sizes[category_sizes < 10]\n",
        "small_cats_5 = category_sizes[category_sizes < 5]\n",
        "\n",
        "print(f\"\\nCategory Fragmentation Metrics:\")\n",
        "print(f\"  - Categories with <10 companies: {len(small_cats_10)} ({len(small_cats_10)/total_categories*100:.1f}%)\")\n",
        "print(f\"  - Categories with <5 companies: {len(small_cats_5)} ({len(small_cats_5)/total_categories*100:.1f}%)\")\n",
        "\n",
        "print(\"\\nSmallest Categories (consolidation candidates):\")\n",
        "print(small_cats_5.head(15))\n",
        "\n",
        "print(\"\\nCategory Grouping Recommendations:\")\n",
        "print(\"  - Consider consolidating categories with <10 companies\")\n",
        "print(\"  - Merge semantically similar categories (e.g., 'photo_video' could absorb small media categories)\")\n",
        "print(\"  - Create 'Other' category for <5 company categories\")\n",
        "print(\"  - Review industry taxonomy for overlap and redundancy\")"
      ]
    },
    {
      "cell_type": "markdown",
      "metadata": {
        "id": "5hadwszAjjGW"
      },
      "source": [
        "# 5. Data Quality\n",
        "\n",
        "## Step 1: Overall Data Quality Assessment\n",
        "\n",
        "```\n",
        "ALGORITHM: Missing Value Impact Analysis\n",
        "1. FOR each key column [funding_total_usd, status, country_code, state_code, category_code]:\n",
        "   a. Count missing values\n",
        "   b. Calculate missing percentage\n",
        "   c. Assess impact on analysis capabilities\n",
        "2. Calculate US company data completeness rate\n",
        "3. Identify critical data gaps for project goals\n",
        "\n",
        "EXPECTED OUTPUT:\n",
        "- Missing value report by column\n",
        "- US data completeness percentage  \n",
        "- Critical data gap identification\n",
        "```\n",
        "\n",
<<<<<<< Updated upstream
<<<<<<< Updated upstream
        "I know you have a doc inside of your google docs that has the data quality findings documented. Please transfer those findings here. This can be in a markdown file or in a notebook cell, but they should be here!\n",
        "\n"
=======
        "I know you have a doc inside of your google docs that has the data quality findings documented. Please transfer those findings here. This can be in a markdown file or in a notebook cell, but they should be here!"
>>>>>>> Stashed changes
=======
        "I know you have a doc inside of your google docs that has the data quality findings documented. Please transfer those findings here. This can be in a markdown file or in a notebook cell, but they should be here!"
>>>>>>> Stashed changes
      ]
    },
    {
      "cell_type": "markdown",
<<<<<<< Updated upstream
<<<<<<< Updated upstream
      "source": [
        "## Step 1: Overall Data Quality Assessment"
      ],
      "metadata": {
        "id": "Ooio3Ieom7a-"
      }
    },
    {
      "cell_type": "code",
      "source": [
        "# Key columns to check\n",
        "Key_columns = ['funding_total_usd', 'status', 'country_code', 'state_code', 'category_code']\n",
        "\n",
        "# Count and percentage of missing values\n",
        "missing_counts = df[Key_columns].isna().sum()\n",
        "missing_percent = (df[Key_columns].isna().mean() * 100).round(2)\n",
        "\n",
        "# Combine into one table\n",
        "missing_report = pd.DataFrame({\n",
        "    'Missing Count': missing_counts,\n",
        "    'Missing %': missing_percent})\n",
        "\n",
        "missing_report"
      ],
      "metadata": {
        "colab": {
          "base_uri": "https://localhost:8080/",
          "height": 226
        },
        "id": "D2hohqDPm12-",
        "outputId": "bb037494-9049-405a-8585-148f1268d185"
      },
      "execution_count": 2,
      "outputs": [
        {
          "output_type": "execute_result",
          "data": {
            "text/plain": [
              "                   Missing Count  Missing %\n",
              "funding_total_usd         168679      85.82\n",
              "status                         0       0.00\n",
              "country_code              108563      55.23\n",
              "state_code                145650      74.10\n",
              "category_code              73367      37.33"
            ],
            "text/html": [
              "\n",
              "  <div id=\"df-5175e80b-8f6a-4e4d-b118-f80696996f69\" class=\"colab-df-container\">\n",
              "    <div>\n",
              "<style scoped>\n",
              "    .dataframe tbody tr th:only-of-type {\n",
              "        vertical-align: middle;\n",
              "    }\n",
              "\n",
              "    .dataframe tbody tr th {\n",
              "        vertical-align: top;\n",
              "    }\n",
              "\n",
              "    .dataframe thead th {\n",
              "        text-align: right;\n",
              "    }\n",
              "</style>\n",
              "<table border=\"1\" class=\"dataframe\">\n",
              "  <thead>\n",
              "    <tr style=\"text-align: right;\">\n",
              "      <th></th>\n",
              "      <th>Missing Count</th>\n",
              "      <th>Missing %</th>\n",
              "    </tr>\n",
              "  </thead>\n",
              "  <tbody>\n",
              "    <tr>\n",
              "      <th>funding_total_usd</th>\n",
              "      <td>168679</td>\n",
              "      <td>85.82</td>\n",
              "    </tr>\n",
              "    <tr>\n",
              "      <th>status</th>\n",
              "      <td>0</td>\n",
              "      <td>0.00</td>\n",
              "    </tr>\n",
              "    <tr>\n",
              "      <th>country_code</th>\n",
              "      <td>108563</td>\n",
              "      <td>55.23</td>\n",
              "    </tr>\n",
              "    <tr>\n",
              "      <th>state_code</th>\n",
              "      <td>145650</td>\n",
              "      <td>74.10</td>\n",
              "    </tr>\n",
              "    <tr>\n",
              "      <th>category_code</th>\n",
              "      <td>73367</td>\n",
              "      <td>37.33</td>\n",
              "    </tr>\n",
              "  </tbody>\n",
              "</table>\n",
              "</div>\n",
              "    <div class=\"colab-df-buttons\">\n",
              "\n",
              "  <div class=\"colab-df-container\">\n",
              "    <button class=\"colab-df-convert\" onclick=\"convertToInteractive('df-5175e80b-8f6a-4e4d-b118-f80696996f69')\"\n",
              "            title=\"Convert this dataframe to an interactive table.\"\n",
              "            style=\"display:none;\">\n",
              "\n",
              "  <svg xmlns=\"http://www.w3.org/2000/svg\" height=\"24px\" viewBox=\"0 -960 960 960\">\n",
              "    <path d=\"M120-120v-720h720v720H120Zm60-500h600v-160H180v160Zm220 220h160v-160H400v160Zm0 220h160v-160H400v160ZM180-400h160v-160H180v160Zm440 0h160v-160H620v160ZM180-180h160v-160H180v160Zm440 0h160v-160H620v160Z\"/>\n",
              "  </svg>\n",
              "    </button>\n",
              "\n",
              "  <style>\n",
              "    .colab-df-container {\n",
              "      display:flex;\n",
              "      gap: 12px;\n",
              "    }\n",
              "\n",
              "    .colab-df-convert {\n",
              "      background-color: #E8F0FE;\n",
              "      border: none;\n",
              "      border-radius: 50%;\n",
              "      cursor: pointer;\n",
              "      display: none;\n",
              "      fill: #1967D2;\n",
              "      height: 32px;\n",
              "      padding: 0 0 0 0;\n",
              "      width: 32px;\n",
              "    }\n",
              "\n",
              "    .colab-df-convert:hover {\n",
              "      background-color: #E2EBFA;\n",
              "      box-shadow: 0px 1px 2px rgba(60, 64, 67, 0.3), 0px 1px 3px 1px rgba(60, 64, 67, 0.15);\n",
              "      fill: #174EA6;\n",
              "    }\n",
              "\n",
              "    .colab-df-buttons div {\n",
              "      margin-bottom: 4px;\n",
              "    }\n",
              "\n",
              "    [theme=dark] .colab-df-convert {\n",
              "      background-color: #3B4455;\n",
              "      fill: #D2E3FC;\n",
              "    }\n",
              "\n",
              "    [theme=dark] .colab-df-convert:hover {\n",
              "      background-color: #434B5C;\n",
              "      box-shadow: 0px 1px 3px 1px rgba(0, 0, 0, 0.15);\n",
              "      filter: drop-shadow(0px 1px 2px rgba(0, 0, 0, 0.3));\n",
              "      fill: #FFFFFF;\n",
              "    }\n",
              "  </style>\n",
              "\n",
              "    <script>\n",
              "      const buttonEl =\n",
              "        document.querySelector('#df-5175e80b-8f6a-4e4d-b118-f80696996f69 button.colab-df-convert');\n",
              "      buttonEl.style.display =\n",
              "        google.colab.kernel.accessAllowed ? 'block' : 'none';\n",
              "\n",
              "      async function convertToInteractive(key) {\n",
              "        const element = document.querySelector('#df-5175e80b-8f6a-4e4d-b118-f80696996f69');\n",
              "        const dataTable =\n",
              "          await google.colab.kernel.invokeFunction('convertToInteractive',\n",
              "                                                    [key], {});\n",
              "        if (!dataTable) return;\n",
              "\n",
              "        const docLinkHtml = 'Like what you see? Visit the ' +\n",
              "          '<a target=\"_blank\" href=https://colab.research.google.com/notebooks/data_table.ipynb>data table notebook</a>'\n",
              "          + ' to learn more about interactive tables.';\n",
              "        element.innerHTML = '';\n",
              "        dataTable['output_type'] = 'display_data';\n",
              "        await google.colab.output.renderOutput(dataTable, element);\n",
              "        const docLink = document.createElement('div');\n",
              "        docLink.innerHTML = docLinkHtml;\n",
              "        element.appendChild(docLink);\n",
              "      }\n",
              "    </script>\n",
              "  </div>\n",
              "\n",
              "\n",
              "    <div id=\"df-ea14050c-23c4-4955-a58a-c87d0938bc4e\">\n",
              "      <button class=\"colab-df-quickchart\" onclick=\"quickchart('df-ea14050c-23c4-4955-a58a-c87d0938bc4e')\"\n",
              "                title=\"Suggest charts\"\n",
              "                style=\"display:none;\">\n",
              "\n",
              "<svg xmlns=\"http://www.w3.org/2000/svg\" height=\"24px\"viewBox=\"0 0 24 24\"\n",
              "     width=\"24px\">\n",
              "    <g>\n",
              "        <path d=\"M19 3H5c-1.1 0-2 .9-2 2v14c0 1.1.9 2 2 2h14c1.1 0 2-.9 2-2V5c0-1.1-.9-2-2-2zM9 17H7v-7h2v7zm4 0h-2V7h2v10zm4 0h-2v-4h2v4z\"/>\n",
              "    </g>\n",
              "</svg>\n",
              "      </button>\n",
              "\n",
              "<style>\n",
              "  .colab-df-quickchart {\n",
              "      --bg-color: #E8F0FE;\n",
              "      --fill-color: #1967D2;\n",
              "      --hover-bg-color: #E2EBFA;\n",
              "      --hover-fill-color: #174EA6;\n",
              "      --disabled-fill-color: #AAA;\n",
              "      --disabled-bg-color: #DDD;\n",
              "  }\n",
              "\n",
              "  [theme=dark] .colab-df-quickchart {\n",
              "      --bg-color: #3B4455;\n",
              "      --fill-color: #D2E3FC;\n",
              "      --hover-bg-color: #434B5C;\n",
              "      --hover-fill-color: #FFFFFF;\n",
              "      --disabled-bg-color: #3B4455;\n",
              "      --disabled-fill-color: #666;\n",
              "  }\n",
              "\n",
              "  .colab-df-quickchart {\n",
              "    background-color: var(--bg-color);\n",
              "    border: none;\n",
              "    border-radius: 50%;\n",
              "    cursor: pointer;\n",
              "    display: none;\n",
              "    fill: var(--fill-color);\n",
              "    height: 32px;\n",
              "    padding: 0;\n",
              "    width: 32px;\n",
              "  }\n",
              "\n",
              "  .colab-df-quickchart:hover {\n",
              "    background-color: var(--hover-bg-color);\n",
              "    box-shadow: 0 1px 2px rgba(60, 64, 67, 0.3), 0 1px 3px 1px rgba(60, 64, 67, 0.15);\n",
              "    fill: var(--button-hover-fill-color);\n",
              "  }\n",
              "\n",
              "  .colab-df-quickchart-complete:disabled,\n",
              "  .colab-df-quickchart-complete:disabled:hover {\n",
              "    background-color: var(--disabled-bg-color);\n",
              "    fill: var(--disabled-fill-color);\n",
              "    box-shadow: none;\n",
              "  }\n",
              "\n",
              "  .colab-df-spinner {\n",
              "    border: 2px solid var(--fill-color);\n",
              "    border-color: transparent;\n",
              "    border-bottom-color: var(--fill-color);\n",
              "    animation:\n",
              "      spin 1s steps(1) infinite;\n",
              "  }\n",
              "\n",
              "  @keyframes spin {\n",
              "    0% {\n",
              "      border-color: transparent;\n",
              "      border-bottom-color: var(--fill-color);\n",
              "      border-left-color: var(--fill-color);\n",
              "    }\n",
              "    20% {\n",
              "      border-color: transparent;\n",
              "      border-left-color: var(--fill-color);\n",
              "      border-top-color: var(--fill-color);\n",
              "    }\n",
              "    30% {\n",
              "      border-color: transparent;\n",
              "      border-left-color: var(--fill-color);\n",
              "      border-top-color: var(--fill-color);\n",
              "      border-right-color: var(--fill-color);\n",
              "    }\n",
              "    40% {\n",
              "      border-color: transparent;\n",
              "      border-right-color: var(--fill-color);\n",
              "      border-top-color: var(--fill-color);\n",
              "    }\n",
              "    60% {\n",
              "      border-color: transparent;\n",
              "      border-right-color: var(--fill-color);\n",
              "    }\n",
              "    80% {\n",
              "      border-color: transparent;\n",
              "      border-right-color: var(--fill-color);\n",
              "      border-bottom-color: var(--fill-color);\n",
              "    }\n",
              "    90% {\n",
              "      border-color: transparent;\n",
              "      border-bottom-color: var(--fill-color);\n",
              "    }\n",
              "  }\n",
              "</style>\n",
              "\n",
              "      <script>\n",
              "        async function quickchart(key) {\n",
              "          const quickchartButtonEl =\n",
              "            document.querySelector('#' + key + ' button');\n",
              "          quickchartButtonEl.disabled = true;  // To prevent multiple clicks.\n",
              "          quickchartButtonEl.classList.add('colab-df-spinner');\n",
              "          try {\n",
              "            const charts = await google.colab.kernel.invokeFunction(\n",
              "                'suggestCharts', [key], {});\n",
              "          } catch (error) {\n",
              "            console.error('Error during call to suggestCharts:', error);\n",
              "          }\n",
              "          quickchartButtonEl.classList.remove('colab-df-spinner');\n",
              "          quickchartButtonEl.classList.add('colab-df-quickchart-complete');\n",
              "        }\n",
              "        (() => {\n",
              "          let quickchartButtonEl =\n",
              "            document.querySelector('#df-ea14050c-23c4-4955-a58a-c87d0938bc4e button');\n",
              "          quickchartButtonEl.style.display =\n",
              "            google.colab.kernel.accessAllowed ? 'block' : 'none';\n",
              "        })();\n",
              "      </script>\n",
              "    </div>\n",
              "\n",
              "  <div id=\"id_e6fb2f51-aad0-455c-ac52-5b4b7bf83c0f\">\n",
              "    <style>\n",
              "      .colab-df-generate {\n",
              "        background-color: #E8F0FE;\n",
              "        border: none;\n",
              "        border-radius: 50%;\n",
              "        cursor: pointer;\n",
              "        display: none;\n",
              "        fill: #1967D2;\n",
              "        height: 32px;\n",
              "        padding: 0 0 0 0;\n",
              "        width: 32px;\n",
              "      }\n",
              "\n",
              "      .colab-df-generate:hover {\n",
              "        background-color: #E2EBFA;\n",
              "        box-shadow: 0px 1px 2px rgba(60, 64, 67, 0.3), 0px 1px 3px 1px rgba(60, 64, 67, 0.15);\n",
              "        fill: #174EA6;\n",
              "      }\n",
              "\n",
              "      [theme=dark] .colab-df-generate {\n",
              "        background-color: #3B4455;\n",
              "        fill: #D2E3FC;\n",
              "      }\n",
              "\n",
              "      [theme=dark] .colab-df-generate:hover {\n",
              "        background-color: #434B5C;\n",
              "        box-shadow: 0px 1px 3px 1px rgba(0, 0, 0, 0.15);\n",
              "        filter: drop-shadow(0px 1px 2px rgba(0, 0, 0, 0.3));\n",
              "        fill: #FFFFFF;\n",
              "      }\n",
              "    </style>\n",
              "    <button class=\"colab-df-generate\" onclick=\"generateWithVariable('missing_report')\"\n",
              "            title=\"Generate code using this dataframe.\"\n",
              "            style=\"display:none;\">\n",
              "\n",
              "  <svg xmlns=\"http://www.w3.org/2000/svg\" height=\"24px\"viewBox=\"0 0 24 24\"\n",
              "       width=\"24px\">\n",
              "    <path d=\"M7,19H8.4L18.45,9,17,7.55,7,17.6ZM5,21V16.75L18.45,3.32a2,2,0,0,1,2.83,0l1.4,1.43a1.91,1.91,0,0,1,.58,1.4,1.91,1.91,0,0,1-.58,1.4L9.25,21ZM18.45,9,17,7.55Zm-12,3A5.31,5.31,0,0,0,4.9,8.1,5.31,5.31,0,0,0,1,6.5,5.31,5.31,0,0,0,4.9,4.9,5.31,5.31,0,0,0,6.5,1,5.31,5.31,0,0,0,8.1,4.9,5.31,5.31,0,0,0,12,6.5,5.46,5.46,0,0,0,6.5,12Z\"/>\n",
              "  </svg>\n",
              "    </button>\n",
              "    <script>\n",
              "      (() => {\n",
              "      const buttonEl =\n",
              "        document.querySelector('#id_e6fb2f51-aad0-455c-ac52-5b4b7bf83c0f button.colab-df-generate');\n",
              "      buttonEl.style.display =\n",
              "        google.colab.kernel.accessAllowed ? 'block' : 'none';\n",
              "\n",
              "      buttonEl.onclick = () => {\n",
              "        google.colab.notebook.generateWithVariable('missing_report');\n",
              "      }\n",
              "      })();\n",
              "    </script>\n",
              "  </div>\n",
              "\n",
              "    </div>\n",
              "  </div>\n"
            ],
            "application/vnd.google.colaboratory.intrinsic+json": {
              "type": "dataframe",
              "variable_name": "missing_report",
              "summary": "{\n  \"name\": \"missing_report\",\n  \"rows\": 5,\n  \"fields\": [\n    {\n      \"column\": \"Missing Count\",\n      \"properties\": {\n        \"dtype\": \"number\",\n        \"std\": 66295,\n        \"min\": 0,\n        \"max\": 168679,\n        \"num_unique_values\": 5,\n        \"samples\": [\n          0,\n          73367,\n          108563\n        ],\n        \"semantic_type\": \"\",\n        \"description\": \"\"\n      }\n    },\n    {\n      \"column\": \"Missing %\",\n      \"properties\": {\n        \"dtype\": \"number\",\n        \"std\": 33.728823430413335,\n        \"min\": 0.0,\n        \"max\": 85.82,\n        \"num_unique_values\": 5,\n        \"samples\": [\n          0.0,\n          37.33,\n          55.23\n        ],\n        \"semantic_type\": \"\",\n        \"description\": \"\"\n      }\n    }\n  ]\n}"
            }
          },
          "metadata": {},
          "execution_count": 2
        }
      ]
    },
    {
      "cell_type": "markdown",
      "source": [
        "# Impact on Analysis\n",
        "\n",
        "\n",
        "*   funding_total_usd: Missing for 85.82% of companies. This makes it hard to measure company funding levels and affects how accurate the under-capitalized flag is.\n",
        "\n",
        "*   status: No missing values. Success and failure categories are reliable for this column.\n",
        "\n",
        "*   country_code: Missing for 55.23% of companies. This limits how well we can analyze results by country.\n",
        "\n",
        "*   state_code: Missing for 74.10% of companies. This makes it difficult to study regional or state-level patterns.\n",
        "\n",
        "*   category_code: Missing for 37.33% of companies. This reduces how much we can learn about industries.\n",
        "\n",
        "\n",
        "The largest data gap is in funding_total_usd, followed by state_code and country_code. These missing values reduce the quality of funding and geographic analysis."
      ],
      "metadata": {
        "id": "qIPU9MGrnC2W"
      }
    },
    {
      "cell_type": "markdown",
=======
      "metadata": {},
>>>>>>> Stashed changes
=======
      "metadata": {},
>>>>>>> Stashed changes
      "source": [
        "## Step 2: Key Insights Summary\n",
        "\n",
        "```\n",
        "ALGORITHM: Findings Documentation\n",
        "1. Summarize under-capitalized population insights:\n",
        "   - Total count and percentage\n",
        "   - Success rate differential\n",
        "2. Document geographic opportunity findings:\n",
        "   - Top startup concentration states\n",
        "   - Success rate patterns by geography  \n",
        "3. Catalog industry opportunity insights:\n",
        "   - Mixed-success industries for risk profiling\n",
        "   - High under-cap concentration sectors\n",
        "4. Compile data quality findings\n",
        "\n",
        "EXPECTED OUTPUT:\n",
        "- Executive summary of key findings\n",
        "- Quantified insights for stakeholder communication\n",
        "- Opportunity identification for next phases\n",
        "```"
      ],
      "metadata": {
        "id": "Qj60oLafmzhf"
      }
    },
    {
      "cell_type": "markdown",
      "source": [
        "## Calculate U.S. Company Data Completeness Rate"
      ],
      "metadata": {
        "id": "-wlhOmh3nHNy"
      }
    },
    {
      "cell_type": "code",
      "source": [
        "# Filter to U.S. companies\n",
        "us_df = df[df['country_code'] == 'USA']\n",
        "\n",
        "# Count rows where all five key fields are present\n",
        "complete_us = us_df[['funding_total_usd', 'status', 'country_code', 'state_code', 'category_code']].notna().all(axis=1).sum()\n",
        "total_us = len(us_df)\n",
        "\n",
        "us_completeness_rate = (complete_us / total_us) * 100\n",
        "\n",
        "print(f\"Total U.S. companies: {total_us:,}\")\n",
        "print(f\"Companies with complete data: {complete_us:,}\")\n",
        "print(f\"Data completeness rate: {us_completeness_rate:.2f}%\")"
      ],
      "metadata": {
        "colab": {
          "base_uri": "https://localhost:8080/"
        },
        "id": "ZdIGaW47nNmB",
        "outputId": "723cab6f-82f7-4e3c-f5ad-dde260668e3c"
      },
      "execution_count": 3,
      "outputs": [
        {
          "output_type": "stream",
          "name": "stdout",
          "text": [
            "Total U.S. companies: 51,637\n",
            "Companies with complete data: 17,386\n",
            "Data completeness rate: 33.67%\n"
          ]
        }
      ]
    },
    {
<<<<<<< Updated upstream
<<<<<<< Updated upstream
      "cell_type": "markdown",
      "source": [
        "## Critical Data Gaps\n",
        "\n",
        "Only 33.67% of U.S. companies have complete data across the main columns. This means that less than half of the U.S. records include all five key details: total funding, company status, country, state, and industry category. The rest are missing one or more of these fields, which makes it hard to fully understand funding levels, company locations, or industry trends in the U.S. The biggest gaps come from missing funding_total_usd, state_code, and category_code, which together limit how much we can learn about where startups are located and how much funding they receive. Because of these missing values, the dataset does not show a full or balanced view of U.S. companies. Improving completeness in these areas will be important before doing deeper analysis, building visualizations, or creating any predictive models."
      ],
      "metadata": {
        "id": "QP6uEMlwnSom"
      }
=======
=======
>>>>>>> Stashed changes
      "cell_type": "code",
      "execution_count": 109,
      "metadata": {},
      "outputs": [],
      "source": [
        "# Total count and percentage\n",
        "under_cap_count = df['under_capitalized'].sum()\n",
        "under_cap_percent = (under_cap_count / len(df)) * 100\n",
        "\n",
        "# Success rate differential\n",
        "total_success = (df['success_category'] == 'SUCCESS').sum()\n",
        "total_failure = (df['success_category'] == 'FAILURE').sum()\n",
        "\n",
        "under_cap = df[df['under_capitalized'] == True]\n",
        "under_success = (under_cap['success_category'] == 'SUCCESS').sum()\n",
        "under_failure = (under_cap['success_category'] == 'FAILURE').sum()\n",
        "under_success_rate = under_success / (under_success + under_failure) * 100\n",
        "\n",
        "well_funded = df[df['under_capitalized'] == False]\n",
        "well_success = (well_funded['success_category'] == 'SUCCESS').sum()\n",
        "well_failure = (well_funded['success_category'] == 'FAILURE').sum()\n",
        "well_success_rate = well_success / (well_success + well_failure) * 100\n",
        "\n",
        "gap = under_success_rate - well_success_rate\n",
        "\n",
        "# US market overview\n",
        "us_companies = len(df[df['country_code'] == 'USA'])\n",
        "us_percent = (us_companies / len(df)) * 100\n",
        "\n",
        "us_df = df[df['country_code'] == 'USA'].copy()\n",
        "missing_state = us_df['state_code'].isna().sum()\n",
        "state_completeness = (1 - missing_state / len(us_df)) * 100\n",
        "\n",
        "# Top 5 states\n",
        "state_counts = us_df['state_code'].value_counts()\n",
        "top_5_states = state_counts.head(5)\n",
        "\n",
        "state_list = []\n",
        "for state, count in top_5_states.items():\n",
        "    pct = (count / len(us_df)) * 100\n",
        "    state_list.append(f\"{state} ({count:,} companies, {pct:.1f}% of US market)\")\n",
        "\n",
        "state_success_rates = []\n",
        "for state in top_5_states.index:\n",
        "    state_data = df[(df['country_code'] == 'USA') & (df['state_code'] == state)]\n",
        "    s_count = (state_data['success_category'] == 'SUCCESS').sum()\n",
        "    f_count = (state_data['success_category'] == 'FAILURE').sum()\n",
        "    if (s_count + f_count) > 0:\n",
        "        s_rate = s_count / (s_count + f_count) * 100\n",
        "        state_success_rates.append((state, s_rate))\n",
        "\n",
        "state_success_rates.sort(key=lambda x: x[1], reverse=True)\n",
        "success_list = [f\"{state} at {rate:.1f}%\" for state, rate in state_success_rates]\n",
        "\n",
        "# Top 5 industries\n",
        "industry_counts = df['category_code'].value_counts()\n",
        "top_5_industries = industry_counts.head(5)\n",
        "\n",
        "ind_list = []\n",
        "for ind, count in top_5_industries.items():\n",
        "    pct = (count / df['category_code'].notna().sum()) * 100\n",
        "    ind_list.append(f\"{ind} ({count:,} companies, {pct:.1f}%)\")\n",
        "# Under-cap concentration\n",
        "undercap_by_industry = df[df['under_capitalized']].groupby('category_code').size().sort_values(ascending=False)\n",
        "top_5_undercap = undercap_by_industry.head(5)\n",
        "\n",
        "undercap_list = []\n",
        "for ind, count in top_5_undercap.items():\n",
        "    total_in_industry = len(df[df['category_code'] == ind])\n",
        "    pct = (count / total_in_industry) * 100\n",
        "    undercap_list.append(f\"{ind} with {count:,} under-cap companies ({pct:.1f}% of industry)\")\n",
        "\n",
        "# Mixed-success industries\n",
        "mixed_success = []\n",
        "for industry in industry_counts.head(15).index:\n",
        "    ind_data = df[df['category_code'] == industry]\n",
        "    s_count = (ind_data['success_category'] == 'SUCCESS').sum()\n",
        "    f_count = (ind_data['success_category'] == 'FAILURE').sum()\n",
        "    total = len(ind_data)\n",
        "    \n",
        "    if (s_count + f_count) > 0:\n",
        "        s_rate = s_count / (s_count + f_count) * 100\n",
        "        if 20 <= s_rate <= 70 and total >= 50:\n",
        "            undercap_count = ind_data['under_capitalized'].sum()\n",
        "            mixed_success.append(f\"{industry} ({s_rate:.1f}% success rate, {undercap_count:,} under-cap)\")\n",
        "\n",
        "# Strengths\n",
        "status_complete = (1 - df['status'].isna().sum()/len(df)) * 100\n",
        "category_complete = (1 - df['category_code'].isna().sum()/len(df)) * 100\n",
        "\n",
        "# Weaknesses\n",
        "funding_missing_pct = (df['funding_total_usd'].isna().sum() / len(df)) * 100\n",
        "country_missing_pct = (df['country_code'].isna().sum() / len(df)) * 100\n",
        "state_missing_overall_pct = (df['state_code'].isna().sum() / len(df)) * 100\n",
        "state_missing_us_pct = (missing_state / len(us_df)) * 100"
      ]
    },
    {
      "cell_type": "markdown",
      "metadata": {},
      "source": [
        "The under-capitalized population represents 169,238 companies (86.1% of the dataset), with a 2% funding threshold of $19,616. These companies demonstrate a 89.22% success rate compared to 62.90% for well-funded companies, a 26.32 percentage point advantage. This suggests lean/bootstrap models or early-stage exits drive success more effectively than high-capital approaches. Many under-capitalized companies have missing funding values but show 'acquired' or 'IPO' statuses, likely indicating early exits before funding rounds were recorded.\n",
        "\n",
        "The US market contains 51,637 companies (26.3% of dataset) with 98.1% state-level data completeness. Top five startup concentration states are CA (16,447 companies, 31.9% of US market), NY (5,716 companies, 11.1%), MA (2,933 companies, 5.7%), TX (2,802 companies, 5.4%), and FL (2,149 companies, 4.2%). Success rates show MA at 86.9%, TX at 82.4%, FL at 81.9%, CA at 78.6%, and NY at 78.1%. Emerging markets like MA and TX show competitive or superior success rates despite smaller populations.\n",
        "\n",
        "Top five industries by company count are software (17,922 companies, 14.5%), web (15,118 companies, 12.3%), other (13,617 companies, 11.1%), ecommerce (9,065 companies, 7.4%), and games_video (7,520 companies, 6.1%). For under-capitalized concentration: software has 13,748 under-cap companies (76.7% of industry), other has 13,092 (96.1%), web has 12,853 (85.0%), ecommerce has 7,774 (85.8%), and games_video has 6,379 (84.8%). Four mixed-success industries ideal for risk profiling: web (62.5% success rate, 12,853 under-cap), ecommerce (64.8% success, 7,774 under-cap), games_video (65.0% success, 6,379 under-cap), and search (60.8% success, 1,923 under-cap).\n",
        "\n",
        "The dataset shows strong completeness in status (100.0%), industry categorization (62.7%), and US state data (98.1% for US companies). Significant gaps exist in funding_total_usd (85.8% missing), country_code (55.2% missing), and state_code (74.1% missing overall, 1.9% for US companies). The 196,553 company sample size enables robust analysis, and complete status field supports reliable success/failure classification. The primary weakness is funding data gaps, requiring imputation or segmented analytical approaches."
      ]
<<<<<<< Updated upstream
>>>>>>> Stashed changes
=======
>>>>>>> Stashed changes
    }
  ],
  "metadata": {
    "colab": {
      "provenance": []
    },
    "kernelspec": {
      "display_name": "base",
      "language": "python",
      "name": "python3"
    },
    "language_info": {
      "codemirror_mode": {
        "name": "ipython",
        "version": 3
      },
      "file_extension": ".py",
      "mimetype": "text/x-python",
      "name": "python",
      "nbconvert_exporter": "python",
      "pygments_lexer": "ipython3",
      "version": "3.13.5"
    }
  },
  "nbformat": 4,
  "nbformat_minor": 0
}