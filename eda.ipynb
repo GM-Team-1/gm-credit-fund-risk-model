{
 "cells": [
  {
   "cell_type": "code",
   "execution_count": null,
   "id": "fde8c9a7",
   "metadata": {},
   "outputs": [],
   "source": [
    "import pandas as pd\n",
    "import numpy as np\n",
    "import seaborn as sns\n",
    "import matplotlib.pyplot as plt"
   ]
  },
  {
   "cell_type": "code",
   "execution_count": 2,
   "id": "3a388498",
   "metadata": {},
   "outputs": [],
   "source": [
    "df = pd.read_csv('./companies_featured_targets.csv')"
   ]
  },
  {
   "cell_type": "code",
   "execution_count": 6,
   "id": "48047ee3",
   "metadata": {},
   "outputs": [
    {
     "data": {
      "text/plain": [
       "(196553, 23)"
      ]
     },
     "execution_count": 6,
     "metadata": {},
     "output_type": "execute_result"
    }
   ],
   "source": [
    "df.shape"
   ]
  },
  {
   "cell_type": "code",
   "execution_count": 5,
   "id": "48a9828d",
   "metadata": {},
   "outputs": [
    {
     "data": {
      "text/plain": [
       "Index(['id', 'name', 'status', 'category_code', 'country_code', 'state_code',\n",
       "       'region', 'founded_at', 'founded_year', 'company_age_years',\n",
       "       'age_group', 'funding_total_usd', 'has_funding', 'failure_risk',\n",
       "       'risk_tier', 'risk_tier_label', 'funding_velocity', 'funding_vs_avg',\n",
       "       'funding_vs_industry_avg', 'founding_era', 'funding_stage',\n",
       "       'industry_growth_index', 'industry_growth_rate'],\n",
       "      dtype='object')"
      ]
     },
     "execution_count": 5,
     "metadata": {},
     "output_type": "execute_result"
    }
   ],
   "source": [
    "df.columns"
   ]
  },
  {
   "cell_type": "code",
   "execution_count": 7,
   "id": "cef1ee9d",
   "metadata": {},
   "outputs": [
    {
     "data": {
      "text/html": [
       "<div>\n",
       "<style scoped>\n",
       "    .dataframe tbody tr th:only-of-type {\n",
       "        vertical-align: middle;\n",
       "    }\n",
       "\n",
       "    .dataframe tbody tr th {\n",
       "        vertical-align: top;\n",
       "    }\n",
       "\n",
       "    .dataframe thead th {\n",
       "        text-align: right;\n",
       "    }\n",
       "</style>\n",
       "<table border=\"1\" class=\"dataframe\">\n",
       "  <thead>\n",
       "    <tr style=\"text-align: right;\">\n",
       "      <th></th>\n",
       "      <th>id</th>\n",
       "      <th>name</th>\n",
       "      <th>status</th>\n",
       "      <th>category_code</th>\n",
       "      <th>country_code</th>\n",
       "      <th>state_code</th>\n",
       "      <th>region</th>\n",
       "      <th>founded_at</th>\n",
       "      <th>founded_year</th>\n",
       "      <th>company_age_years</th>\n",
       "      <th>...</th>\n",
       "      <th>failure_risk</th>\n",
       "      <th>risk_tier</th>\n",
       "      <th>risk_tier_label</th>\n",
       "      <th>funding_velocity</th>\n",
       "      <th>funding_vs_avg</th>\n",
       "      <th>funding_vs_industry_avg</th>\n",
       "      <th>founding_era</th>\n",
       "      <th>funding_stage</th>\n",
       "      <th>industry_growth_index</th>\n",
       "      <th>industry_growth_rate</th>\n",
       "    </tr>\n",
       "  </thead>\n",
       "  <tbody>\n",
       "    <tr>\n",
       "      <th>0</th>\n",
       "      <td>c:1</td>\n",
       "      <td>Wetpaint</td>\n",
       "      <td>operating</td>\n",
       "      <td>web</td>\n",
       "      <td>USA</td>\n",
       "      <td>WA</td>\n",
       "      <td>Seattle</td>\n",
       "      <td>2005-10-17</td>\n",
       "      <td>2005.0</td>\n",
       "      <td>20.0</td>\n",
       "      <td>...</td>\n",
       "      <td>0</td>\n",
       "      <td>0</td>\n",
       "      <td>low_risk</td>\n",
       "      <td>1987500.0</td>\n",
       "      <td>2.682816</td>\n",
       "      <td>4.954476</td>\n",
       "      <td>2001-2008</td>\n",
       "      <td>Growth</td>\n",
       "      <td>0.453896</td>\n",
       "      <td>0.860335</td>\n",
       "    </tr>\n",
       "    <tr>\n",
       "      <th>1</th>\n",
       "      <td>c:10</td>\n",
       "      <td>Flektor</td>\n",
       "      <td>acquired</td>\n",
       "      <td>games_video</td>\n",
       "      <td>USA</td>\n",
       "      <td>CA</td>\n",
       "      <td>Los Angeles</td>\n",
       "      <td>NaN</td>\n",
       "      <td>2007.0</td>\n",
       "      <td>18.0</td>\n",
       "      <td>...</td>\n",
       "      <td>1</td>\n",
       "      <td>2</td>\n",
       "      <td>high_risk</td>\n",
       "      <td>NaN</td>\n",
       "      <td>NaN</td>\n",
       "      <td>NaN</td>\n",
       "      <td>2001-2008</td>\n",
       "      <td>Exit (Acquired)</td>\n",
       "      <td>0.604618</td>\n",
       "      <td>1.752703</td>\n",
       "    </tr>\n",
       "    <tr>\n",
       "      <th>2</th>\n",
       "      <td>c:100</td>\n",
       "      <td>There</td>\n",
       "      <td>acquired</td>\n",
       "      <td>games_video</td>\n",
       "      <td>USA</td>\n",
       "      <td>CA</td>\n",
       "      <td>SF Bay</td>\n",
       "      <td>NaN</td>\n",
       "      <td>2007.0</td>\n",
       "      <td>18.0</td>\n",
       "      <td>...</td>\n",
       "      <td>1</td>\n",
       "      <td>2</td>\n",
       "      <td>high_risk</td>\n",
       "      <td>NaN</td>\n",
       "      <td>NaN</td>\n",
       "      <td>NaN</td>\n",
       "      <td>2001-2008</td>\n",
       "      <td>Exit (Acquired)</td>\n",
       "      <td>0.604618</td>\n",
       "      <td>1.752703</td>\n",
       "    </tr>\n",
       "    <tr>\n",
       "      <th>3</th>\n",
       "      <td>c:10000</td>\n",
       "      <td>MYWEBBO</td>\n",
       "      <td>operating</td>\n",
       "      <td>network_hosting</td>\n",
       "      <td>NaN</td>\n",
       "      <td>NaN</td>\n",
       "      <td>unknown</td>\n",
       "      <td>2008-07-26</td>\n",
       "      <td>2008.0</td>\n",
       "      <td>17.0</td>\n",
       "      <td>...</td>\n",
       "      <td>1</td>\n",
       "      <td>2</td>\n",
       "      <td>high_risk</td>\n",
       "      <td>NaN</td>\n",
       "      <td>NaN</td>\n",
       "      <td>NaN</td>\n",
       "      <td>2001-2008</td>\n",
       "      <td>Late</td>\n",
       "      <td>0.739453</td>\n",
       "      <td>0.591708</td>\n",
       "    </tr>\n",
       "    <tr>\n",
       "      <th>4</th>\n",
       "      <td>c:10001</td>\n",
       "      <td>THE Movie Streamer</td>\n",
       "      <td>operating</td>\n",
       "      <td>games_video</td>\n",
       "      <td>NaN</td>\n",
       "      <td>NaN</td>\n",
       "      <td>unknown</td>\n",
       "      <td>2008-07-26</td>\n",
       "      <td>2008.0</td>\n",
       "      <td>17.0</td>\n",
       "      <td>...</td>\n",
       "      <td>1</td>\n",
       "      <td>2</td>\n",
       "      <td>high_risk</td>\n",
       "      <td>NaN</td>\n",
       "      <td>NaN</td>\n",
       "      <td>NaN</td>\n",
       "      <td>2001-2008</td>\n",
       "      <td>Late</td>\n",
       "      <td>0.469998</td>\n",
       "      <td>-0.222654</td>\n",
       "    </tr>\n",
       "  </tbody>\n",
       "</table>\n",
       "<p>5 rows × 23 columns</p>\n",
       "</div>"
      ],
      "text/plain": [
       "        id                name     status    category_code country_code  \\\n",
       "0      c:1            Wetpaint  operating              web          USA   \n",
       "1     c:10             Flektor   acquired      games_video          USA   \n",
       "2    c:100               There   acquired      games_video          USA   \n",
       "3  c:10000             MYWEBBO  operating  network_hosting          NaN   \n",
       "4  c:10001  THE Movie Streamer  operating      games_video          NaN   \n",
       "\n",
       "  state_code       region  founded_at  founded_year  company_age_years  ...  \\\n",
       "0         WA      Seattle  2005-10-17        2005.0               20.0  ...   \n",
       "1         CA  Los Angeles         NaN        2007.0               18.0  ...   \n",
       "2         CA       SF Bay         NaN        2007.0               18.0  ...   \n",
       "3        NaN      unknown  2008-07-26        2008.0               17.0  ...   \n",
       "4        NaN      unknown  2008-07-26        2008.0               17.0  ...   \n",
       "\n",
       "  failure_risk  risk_tier  risk_tier_label  funding_velocity  funding_vs_avg  \\\n",
       "0            0          0         low_risk         1987500.0        2.682816   \n",
       "1            1          2        high_risk               NaN             NaN   \n",
       "2            1          2        high_risk               NaN             NaN   \n",
       "3            1          2        high_risk               NaN             NaN   \n",
       "4            1          2        high_risk               NaN             NaN   \n",
       "\n",
       "  funding_vs_industry_avg  founding_era    funding_stage  \\\n",
       "0                4.954476     2001-2008           Growth   \n",
       "1                     NaN     2001-2008  Exit (Acquired)   \n",
       "2                     NaN     2001-2008  Exit (Acquired)   \n",
       "3                     NaN     2001-2008             Late   \n",
       "4                     NaN     2001-2008             Late   \n",
       "\n",
       "   industry_growth_index industry_growth_rate  \n",
       "0               0.453896             0.860335  \n",
       "1               0.604618             1.752703  \n",
       "2               0.604618             1.752703  \n",
       "3               0.739453             0.591708  \n",
       "4               0.469998            -0.222654  \n",
       "\n",
       "[5 rows x 23 columns]"
      ]
     },
     "execution_count": 7,
     "metadata": {},
     "output_type": "execute_result"
    }
   ],
   "source": [
    "df.head()"
   ]
  },
  {
   "cell_type": "code",
   "execution_count": 8,
   "id": "2eb2c2e1",
   "metadata": {},
   "outputs": [
    {
     "data": {
      "text/plain": [
       "count    2.787400e+04\n",
       "mean     1.481652e+07\n",
       "std      6.775937e+07\n",
       "min      2.910000e+02\n",
       "25%      5.000000e+05\n",
       "50%      2.564500e+06\n",
       "75%      1.100000e+07\n",
       "max      5.700000e+09\n",
       "Name: funding_total_usd, dtype: float64"
      ]
     },
     "execution_count": 8,
     "metadata": {},
     "output_type": "execute_result"
    }
   ],
   "source": [
    "df['funding_total_usd'].describe()"
   ]
  },
  {
   "cell_type": "code",
   "execution_count": null,
   "id": "7e530cf0",
   "metadata": {},
   "outputs": [],
   "source": []
  }
 ],
 "metadata": {
  "kernelspec": {
   "display_name": ".venv",
   "language": "python",
   "name": "python3"
  },
  "language_info": {
   "codemirror_mode": {
    "name": "ipython",
    "version": 3
   },
   "file_extension": ".py",
   "mimetype": "text/x-python",
   "name": "python",
   "nbconvert_exporter": "python",
   "pygments_lexer": "ipython3",
   "version": "3.13.7"
  }
 },
 "nbformat": 4,
 "nbformat_minor": 5
}
